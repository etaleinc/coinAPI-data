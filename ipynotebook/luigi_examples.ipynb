{
 "cells": [
  {
   "cell_type": "code",
   "execution_count": 1,
   "metadata": {},
   "outputs": [],
   "source": [
    "def test_data(tttt):\n",
    "    uttime = datetime.utcfromtimestamp(tttt).strftime('%Y-%m-%dT%H:%M:%S')\n",
    "    X=api.exchange_rates_get_specific_rate('BTC', 'USD', {'time': uttime})\n",
    "    return(X)               "
   ]
  },
  {
   "cell_type": "code",
   "execution_count": null,
   "metadata": {},
   "outputs": [],
   "source": [
    "import asyncio\n",
    "\n",
    "async def test(tttt):\n",
    "    uttime = datetime.utcfromtimestamp(tttt).strftime('%Y-%m-%dT%H:%M:%S')\n",
    "    X=api.exchange_rates_get_specific_rate('BTC', 'USD', {'time': uttime})\n",
    "    print(X) \n",
    "# Busy waits for a second, but we don't want to stick around...\n",
    "    #print('gr1 started work: {}'.format(tic()))\n",
    "    #await asyncio.sleep(2)\n",
    "    #print('gr1 ended work: {}'.format(tic()))\n",
    "tttt=1529980664\n",
    "ioloop = asyncio.get_event_loop()\n",
    "tasks = [asyncio.ensure_future(test(tttt + 10*t)) for t in range(1)]\n",
    "ioloop.run_until_complete(tasks)\n",
    "ioloop.close()\n"
   ]
  },
  {
   "cell_type": "code",
   "execution_count": 9,
   "metadata": {},
   "outputs": [
    {
     "data": {
      "text/plain": [
       "8"
      ]
     },
     "execution_count": 9,
     "metadata": {},
     "output_type": "execute_result"
    }
   ],
   "source": [
    "mp.cpu_count()\n",
    "#import multiprocessing\n",
    "#This code does not improve on sending naive sequential requests.\n",
    "#\n",
    "#tttt= 1529969400\n",
    "#jobs=[]\n",
    "#print(time.time(),'start')\n",
    "#for i in range(10):\n",
    "#    p = multiprocessing.Process(target= test_data(tttt+10*i))\n",
    "#    jobs.append(p)\n",
    "#    p.start()\n",
    "#print(time.time(), 'end')"
   ]
  },
  {
   "cell_type": "code",
   "execution_count": 8,
   "metadata": {},
   "outputs": [
    {
     "name": "stdout",
     "output_type": "stream",
     "text": [
      "1530028523.8748128\n",
      "1530028523.8998325 start round =\n",
      "[{'time': '2011-10-20T06:03:22.0000000Z', 'asset_id_quote': 'USD', 'rate': 2.3259434792489566, 'asset_id_base': 'BTC'}, {'time': '2011-10-20T06:03:22.0000000Z', 'asset_id_quote': 'USD', 'rate': 2.3259434792489566, 'asset_id_base': 'BTC'}, {'time': '2011-10-20T06:03:22.0000000Z', 'asset_id_quote': 'USD', 'rate': 2.3259434792489566, 'asset_id_base': 'BTC'}, {'time': '2011-10-20T06:03:22.0000000Z', 'asset_id_quote': 'USD', 'rate': 2.3259434792489566, 'asset_id_base': 'BTC'}, {'time': '2011-10-20T06:03:22.0000000Z', 'asset_id_quote': 'USD', 'rate': 2.3259434792489566, 'asset_id_base': 'BTC'}, {'time': '2011-10-20T06:03:22.0000000Z', 'asset_id_quote': 'USD', 'rate': 2.3259434792489566, 'asset_id_base': 'BTC'}, {'time': '2011-10-20T06:03:22.0000000Z', 'asset_id_quote': 'USD', 'rate': 2.3259434792489566, 'asset_id_base': 'BTC'}, {'time': '2011-10-20T06:03:22.0000000Z', 'asset_id_quote': 'USD', 'rate': 2.3259434792489566, 'asset_id_base': 'BTC'}, {'time': '2011-10-20T06:03:22.0000000Z', 'asset_id_quote': 'USD', 'rate': 2.3259434792489566, 'asset_id_base': 'BTC'}, {'time': '2011-10-20T06:03:22.0000000Z', 'asset_id_quote': 'USD', 'rate': 2.3259434792489566, 'asset_id_base': 'BTC'}, {'time': '2011-10-20T06:03:22.0000000Z', 'asset_id_quote': 'USD', 'rate': 2.3259434792489566, 'asset_id_base': 'BTC'}, {'time': '2011-10-20T06:03:22.0000000Z', 'asset_id_quote': 'USD', 'rate': 2.3259434792489566, 'asset_id_base': 'BTC'}, {'time': '2011-10-20T06:03:22.0000000Z', 'asset_id_quote': 'USD', 'rate': 2.3259434792489566, 'asset_id_base': 'BTC'}, {'time': '2011-10-20T06:03:22.0000000Z', 'asset_id_quote': 'USD', 'rate': 2.3259434792489566, 'asset_id_base': 'BTC'}, {'time': '2011-10-20T06:03:22.0000000Z', 'asset_id_quote': 'USD', 'rate': 2.3259434792489566, 'asset_id_base': 'BTC'}, {'time': '2011-10-20T06:03:22.0000000Z', 'asset_id_quote': 'USD', 'rate': 2.3259434792489566, 'asset_id_base': 'BTC'}, {'time': '2011-10-20T06:03:22.0000000Z', 'asset_id_quote': 'USD', 'rate': 2.3259434792489566, 'asset_id_base': 'BTC'}, {'time': '2011-10-20T06:03:22.0000000Z', 'asset_id_quote': 'USD', 'rate': 2.3259434792489566, 'asset_id_base': 'BTC'}, {'time': '2011-10-20T06:03:22.0000000Z', 'asset_id_quote': 'USD', 'rate': 2.3259434792489566, 'asset_id_base': 'BTC'}, {'time': '2011-10-20T06:03:22.0000000Z', 'asset_id_quote': 'USD', 'rate': 2.3259434792489566, 'asset_id_base': 'BTC'}, {'time': '2011-10-20T06:03:22.0000000Z', 'asset_id_quote': 'USD', 'rate': 2.3259434792489566, 'asset_id_base': 'BTC'}, {'time': '2011-10-20T06:03:22.0000000Z', 'asset_id_quote': 'USD', 'rate': 2.3259434792489566, 'asset_id_base': 'BTC'}, {'time': '2011-10-20T06:03:22.0000000Z', 'asset_id_quote': 'USD', 'rate': 2.3259434792489566, 'asset_id_base': 'BTC'}, {'time': '2011-10-20T06:03:22.0000000Z', 'asset_id_quote': 'USD', 'rate': 2.3259434792489566, 'asset_id_base': 'BTC'}, {'time': '2011-10-20T06:03:22.0000000Z', 'asset_id_quote': 'USD', 'rate': 2.3259434792489566, 'asset_id_base': 'BTC'}, {'time': '2011-10-20T06:03:22.0000000Z', 'asset_id_quote': 'USD', 'rate': 2.3259434792489566, 'asset_id_base': 'BTC'}, {'time': '2011-10-20T06:03:22.0000000Z', 'asset_id_quote': 'USD', 'rate': 2.3259434792489566, 'asset_id_base': 'BTC'}, {'time': '2011-10-20T06:03:22.0000000Z', 'asset_id_quote': 'USD', 'rate': 2.3259434792489566, 'asset_id_base': 'BTC'}]\n",
      "1530028553.3319948 end round =\n"
     ]
    }
   ],
   "source": [
    "#the key is mp.pool that utilizes many processes.\n",
    "import multiprocessing as mp\n",
    "\n",
    "print(time.time())\n",
    "tttt= 1319090664\n",
    "pool = mp.Pool(processes=7)\n",
    "#for i in range(4):\n",
    "print(time.time(), 'start round =')\n",
    "results = [pool.apply_async(test_data, args=(tttt + t,)) for t in range(28)]\n",
    "output = [p.get() for p in results]\n",
    "print(output)\n",
    "print(time.time(), 'end round =')\n",
    "#tttt+=7"
   ]
  },
  {
   "cell_type": "code",
   "execution_count": null,
   "metadata": {},
   "outputs": [],
   "source": [
    "#class HelloWorld(luigi.Task):\n",
    "#    def requires(self):\n",
    "#        return None\n",
    "#    def output(self):\n",
    "#        return luigi.LocalTarget('helloworld.txt')\n",
    "#    def run(self):\n",
    "#        with self.output().open('w') as outfile:\n",
    "#            outfile.write('Hello World!\\n')\n",
    "\n",
    "#class NameSubstituter(luigi.Task):\n",
    "#    name = luigi.Parameter()\n",
    "#    def requires(self):\n",
    "#        return HelloWorld()\n",
    "#    def output(self):\n",
    "#        return luigi.LocalTarget(self.input().path + '.name_' + self.name)\n",
    "#    def run(self):\n",
    "#        with self.input().open() as infile, self.output().open('w') as outfile:\n",
    "#            text = infile.read()\n",
    "#            text = text.replace('World', self.name)\n",
    "#            outfile.write(text)"
   ]
  },
  {
   "cell_type": "code",
   "execution_count": 2,
   "metadata": {},
   "outputs": [],
   "source": [
    "import luigi\n",
    "import pandas as pd\n",
    "import numpy as np\n",
    "import sys\n",
    "sys.path.insert(0, '/home/fbuonerba/codes')\n",
    "from coinapi_v1 import CoinAPIv1\n",
    "import datetime\n",
    "from datetime import datetime, timedelta\n",
    "import time\n",
    "import calendar\n",
    "import json\n",
    "import urllib.request\n",
    "\n",
    "test_key = 'DB318A59-25FF-499E-9A6D-783A19C346D8'\n",
    "\n",
    "#Free key for testing: test_key = 'EED0F746-36FB-4CC4-8E7C-527333DFA6FB'\n",
    "\n",
    "api = CoinAPIv1(test_key)\n",
    "\n",
    "#this function computes how many seconds from now till midnight.\n",
    "#the correction is due to the fact that some times are not utc by default.\n",
    "#This can be checked transforming output into utc time.\n",
    "def until_midnight():\n",
    "    tomorrow = datetime.now() + timedelta(1)\n",
    "    midnight = datetime(year=tomorrow.year, month=tomorrow.month, \n",
    "                        day=tomorrow.day, hour=0, minute=0, second=0)\n",
    "    wrong_number=(midnight - datetime.now()).seconds\n",
    "    return (wrong_number + 61)# - 14399)\n"
   ]
  },
  {
   "cell_type": "code",
   "execution_count": null,
   "metadata": {},
   "outputs": [],
   "source": [
    "#this task downloads data (by luigi default, if it does not exist already).\n",
    "class request_exchange_rates(luigi.Task):\n",
    "    unix_time=luigi.Parameter()\n",
    "    base=luigi.Parameter()\n",
    "    quote=luigi.Parameter()\n",
    "    path='/home/fbuonerba/exchange_rates_data/'\n",
    "    def requires(self):\n",
    "        return None\n",
    "    def output(self):\n",
    "        return luigi.LocalTarget(self.path+'exchange_rate_'+str(self.base)+'_'+str(self.quote)+'_'+str(self.unix_time)+'.txt')\n",
    "    def run(self):\n",
    "        while True:\n",
    "            try: \n",
    "                utctime = datetime.utcfromtimestamp(self.unix_time).strftime('%Y-%m-%dT%H:%M:%S')\n",
    "                exchange=api.exchange_rates_get_specific_rate(self.base, self.quote, {'time': utctime})\n",
    "                with self.output().open('w') as outfile:\n",
    "                    json.dump(exchange, outfile) \n",
    "                print('okokokokokok', self.unix_time)\n",
    "                break\n",
    "            except urllib.error.HTTPError as err:\n",
    "                print('AAAAAAAAAAAAAAAAAAAA', err, self.unix_time)\n",
    "                time.sleep(30)\n",
    "            \n",
    "        \n",
    "    "
   ]
  },
  {
   "cell_type": "code",
   "execution_count": null,
   "metadata": {
    "scrolled": false
   },
   "outputs": [],
   "source": [
    "unix_time= 1529985000\n",
    "#1586918800  1529954000\n",
    "while True:\n",
    "    luigi.build([request_exchange_rates(unix_time + 600*t, base='ETH', quote='USD') for t in range(2)], workers=2, local_scheduler=True)\n",
    "    unix_time+=1200\n",
    "    #luigi.build([request_exchange_rates(unix_time + 600*t, base='ETH', quote='USD') for t in range(100)], workers=1, local_scheduler=True)\n",
    "    "
   ]
  },
  {
   "cell_type": "code",
   "execution_count": null,
   "metadata": {},
   "outputs": [],
   "source": []
  }
 ],
 "metadata": {
  "kernelspec": {
   "display_name": "Python 3",
   "language": "python",
   "name": "python3"
  },
  "language_info": {
   "codemirror_mode": {
    "name": "ipython",
    "version": 3
   },
   "file_extension": ".py",
   "mimetype": "text/x-python",
   "name": "python",
   "nbconvert_exporter": "python",
   "pygments_lexer": "ipython3",
   "version": "3.5.2"
  }
 },
 "nbformat": 4,
 "nbformat_minor": 2
}
