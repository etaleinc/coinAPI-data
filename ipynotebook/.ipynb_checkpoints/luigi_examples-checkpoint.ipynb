{
 "cells": [
  {
   "cell_type": "code",
   "execution_count": 2,
   "metadata": {},
   "outputs": [],
   "source": [
    "#class HelloWorldTask(luigi.Task):\n",
    "#    task_namespace = 'examples'\n",
    "#\n",
    "#    def run(self):\n",
    "#        print(\"{task} says: Hello world!\".format(task=self.__class__.__name__))\n",
    "#if __name__ == '__main__':\n",
    "#luigi.run(['examples.HelloWorldTask', '--workers', '1', '--local-scheduler'])\n",
    "#"
   ]
  },
  {
   "cell_type": "code",
   "execution_count": 3,
   "metadata": {},
   "outputs": [],
   "source": [
    "#class HelloWorld(luigi.Task):\n",
    "#    def requires(self):\n",
    "#        return None\n",
    "#    def output(self):\n",
    "#        return luigi.LocalTarget('helloworld.txt')\n",
    "#    def run(self):\n",
    "#        with self.output().open('w') as outfile:\n",
    "#            outfile.write('Hello World!\\n')"
   ]
  },
  {
   "cell_type": "code",
   "execution_count": 4,
   "metadata": {},
   "outputs": [],
   "source": [
    "#luigi.build([HelloWorld()], workers=1, local_scheduler=True)"
   ]
  },
  {
   "cell_type": "code",
   "execution_count": 5,
   "metadata": {},
   "outputs": [],
   "source": [
    "#class NameSubstituter(luigi.Task):\n",
    "#    name = luigi.Parameter()\n",
    "#    def requires(self):\n",
    "#        return HelloWorld()\n",
    "#    def output(self):\n",
    "#        return luigi.LocalTarget(self.input().path + '.name_' + self.name)\n",
    "#    def run(self):\n",
    "#        with self.input().open() as infile, self.output().open('w') as outfile:\n",
    "#            text = infile.read()\n",
    "#            text = text.replace('World', self.name)\n",
    "#            outfile.write(text)"
   ]
  },
  {
   "cell_type": "code",
   "execution_count": 6,
   "metadata": {},
   "outputs": [],
   "source": [
    "#if __name__ == '__main__':\n",
    "#luigi.build([NameSubstituter(name='some')], workers=1, local_scheduler=True)"
   ]
  },
  {
   "cell_type": "code",
   "execution_count": 7,
   "metadata": {},
   "outputs": [],
   "source": [
    "#quit"
   ]
  },
  {
   "cell_type": "code",
   "execution_count": 12,
   "metadata": {},
   "outputs": [],
   "source": [
    "import luigi\n",
    "import pandas as pd\n",
    "import numpy as np\n",
    "import sys\n",
    "sys.path.insert(0, '/home/fbuonerba/codes')\n",
    "from coinapi_v1 import CoinAPIv1\n",
    "import datetime\n",
    "from datetime import datetime, timedelta\n",
    "import time\n",
    "import calendar\n",
    "import json\n",
    "import urllib.request\n",
    "\n",
    "\n",
    "test_key = 'DB318A59-25FF-499E-9A6D-783A19C346D8'\n",
    "\n",
    "api = CoinAPIv1(test_key)\n",
    "\n",
    "#this function computes how many seconds from now till midnight.\n",
    "#the correction is due to the fact that some times are not utc by default.\n",
    "#This can be checked transforming output into utc time.\n",
    "def until_midnight():\n",
    "    tomorrow = datetime.now() + timedelta(1)\n",
    "    midnight = datetime(year=tomorrow.year, month=tomorrow.month, \n",
    "                        day=tomorrow.day, hour=0, minute=0, second=0)\n",
    "    wrong_number=(midnight - datetime.now()).seconds\n",
    "    return (wrong_number + 2)# - 14399)\n",
    "class request_exchange_rates(luigi.Task):\n",
    "    unix_time=luigi.Parameter()\n",
    "    base=luigi.Parameter()\n",
    "    quote=luigi.Parameter()\n",
    "    path='/home/fbuonerba/exchange_rates_data/'\n",
    "    \n",
    "    def requires(self):\n",
    "        return None\n",
    "    def output(self):\n",
    "        return luigi.LocalTarget(self.path+'exchange_rate_'+str(self.base)+'_'+str(self.quote)+'_'+str(self.unix_time)+'.txt')\n",
    "    \n",
    "    def run(self):\n",
    "        utctime = datetime.utcfromtimestamp(self.unix_time).strftime('%Y-%m-%dT%H:%M:%S')\n",
    "        while True:\n",
    "            try:\n",
    "                exchange=api.exchange_rates_get_specific_rate(self.base, self.quote, {'time': utctime})\n",
    "                with self.output().open('w') as outfile:\n",
    "                    json.dump(exchange, outfile) \n",
    "                break\n",
    "            except urllib.error.HTTPError as err:\n",
    "                print(err.code)\n",
    "                time.sleep(until_midnight())       "
   ]
  },
  {
   "cell_type": "code",
   "execution_count": 13,
   "metadata": {},
   "outputs": [],
   "source": [
    "#luigi.build([request_exchange_rates(unix_time=1529679699 + t, base='BTC', quote='USD') for t in range(100)], workers=50, local_scheduler=True)"
   ]
  },
  {
   "cell_type": "code",
   "execution_count": null,
   "metadata": {},
   "outputs": [],
   "source": []
  }
 ],
 "metadata": {
  "kernelspec": {
   "display_name": "Python 3",
   "language": "python",
   "name": "python3"
  },
  "language_info": {
   "codemirror_mode": {
    "name": "ipython",
    "version": 3
   },
   "file_extension": ".py",
   "mimetype": "text/x-python",
   "name": "python",
   "nbconvert_exporter": "python",
   "pygments_lexer": "ipython3",
   "version": "3.5.2"
  }
 },
 "nbformat": 4,
 "nbformat_minor": 2
}
