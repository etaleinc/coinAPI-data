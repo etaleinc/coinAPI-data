{
 "cells": [
  {
   "cell_type": "code",
   "execution_count": 1,
   "metadata": {
    "collapsed": true
   },
   "outputs": [],
   "source": [
    "import sys\n",
    "sys.path.insert(0, '/Users/federicobuonerba/Downloads')\n",
    "\n",
    "#import test_functions\n",
    "from data_try_except import get_symbols, get_assets, get_exchange_rates"
   ]
  },
  {
   "cell_type": "code",
   "execution_count": 3,
   "metadata": {},
   "outputs": [
    {
     "data": {
      "text/plain": [
       "{'time': '2015-12-31T23:59:59.7000000Z',\n",
       " 'asset_id_base': 'BTC',\n",
       " 'asset_id_quote': 'USD',\n",
       " 'rate': 429.76815966154953}"
      ]
     },
     "execution_count": 3,
     "metadata": {},
     "output_type": "execute_result"
    }
   ],
   "source": [
    "unix_time= 1451606400\n",
    "assets=get_assets()\n",
    "get_exchange_rates(unix_time, 'BTC', 'USD')"
   ]
  }
 ],
 "metadata": {
  "kernelspec": {
   "display_name": "Python 3",
   "language": "python",
   "name": "python3"
  },
  "language_info": {
   "codemirror_mode": {
    "name": "ipython",
    "version": 3
   },
   "file_extension": ".py",
   "mimetype": "text/x-python",
   "name": "python",
   "nbconvert_exporter": "python",
   "pygments_lexer": "ipython3",
   "version": "3.6.3"
  }
 },
 "nbformat": 4,
 "nbformat_minor": 2
}
