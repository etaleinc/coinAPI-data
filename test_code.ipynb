{
 "cells": [
  {
   "cell_type": "code",
   "execution_count": 1,
   "metadata": {},
   "outputs": [],
   "source": [
    "import sys\n",
    "sys.path.insert(0, '/Users/federicobuonerba/Downloads')\n",
    "\n",
    "#import test_functions\n",
    "from data_try_except import get_symbols, get_data"
   ]
  },
  {
   "cell_type": "code",
   "execution_count": 2,
   "metadata": {},
   "outputs": [
    {
     "data": {
      "text/plain": [
       "[{'symbol_id': 'BINANCE_SPOT_ETH_BTC',\n",
       "  'time_exchange': '2017-12-18T20:54:34.1660000Z',\n",
       "  'time_coinapi': '2017-12-18T20:56:18.0327174Z',\n",
       "  'uuid': 'a1205a9c-9388-4898-af89-8b8d1e47cd75',\n",
       "  'price': 0.041513,\n",
       "  'size': 2.419,\n",
       "  'taker_side': 'BUY'}]"
      ]
     },
     "execution_count": 2,
     "metadata": {},
     "output_type": "execute_result"
    }
   ],
   "source": [
    "unix_time= 1451606400\n",
    "symbols=get_symbols()\n",
    "get_data(unix_time, symbols[7])\n"
   ]
  },
  {
   "cell_type": "code",
   "execution_count": null,
   "metadata": {
    "collapsed": true
   },
   "outputs": [],
   "source": []
  }
 ],
 "metadata": {
  "kernelspec": {
   "display_name": "Python 3",
   "language": "python",
   "name": "python3"
  },
  "language_info": {
   "codemirror_mode": {
    "name": "ipython",
    "version": 3
   },
   "file_extension": ".py",
   "mimetype": "text/x-python",
   "name": "python",
   "nbconvert_exporter": "python",
   "pygments_lexer": "ipython3",
   "version": "3.6.3"
  }
 },
 "nbformat": 4,
 "nbformat_minor": 2
}
