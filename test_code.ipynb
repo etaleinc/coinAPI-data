{
 "cells": [
  {
   "cell_type": "code",
   "execution_count": null,
   "metadata": {
    "collapsed": true
   },
   "outputs": [],
   "source": [
    "import sys\n",
    "sys.path.insert(0, '/Users/federicobuonerba/Downloads')\n",
    "\n",
    "#import test_functions\n",
    "from data_try_except import get_symbols, get_assets, get_exchange_rates, until_midnight"
   ]
  },
  {
   "cell_type": "code",
   "execution_count": null,
   "metadata": {
    "collapsed": true
   },
   "outputs": [],
   "source": [
    "unix_time= 1451606400\n",
    "assets=get_assets()\n",
    "#get_exchange_rates(unix_time, 'BTC', 'USD')"
   ]
  },
  {
   "cell_type": "code",
   "execution_count": null,
   "metadata": {
    "collapsed": true
   },
   "outputs": [],
   "source": [
    "#Loop to download data: keep sending requests. \n",
    "#if some problem appears during a request, the problem\n",
    "#is in request_exchange_rates, and the function will\n",
    "#pause until midnight.\n",
    "pattern='%Y-%m-%dT%H:%M:%S'\n",
    "utctime='2017-01-01T00:00:00'\n",
    "unix_beginning= calendar.timegm(time.strptime(utctime,pattern))\n",
    "asset_pair=****\n",
    "while True:\n",
    "    request_exchange_rates(unix_beginning, asset_pair)\n",
    "    unix_beginning+=3600"
   ]
  },
  {
   "cell_type": "code",
   "execution_count": null,
   "metadata": {
    "collapsed": true
   },
   "outputs": [],
   "source": []
  }
 ],
 "metadata": {
  "kernelspec": {
   "display_name": "Python 3",
   "language": "python",
   "name": "python3"
  },
  "language_info": {
   "codemirror_mode": {
    "name": "ipython",
    "version": 3
   },
   "file_extension": ".py",
   "mimetype": "text/x-python",
   "name": "python",
   "nbconvert_exporter": "python",
   "pygments_lexer": "ipython3",
   "version": "3.6.3"
  }
 },
 "nbformat": 4,
 "nbformat_minor": 2
}
