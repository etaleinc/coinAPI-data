{
 "cells": [
  {
   "cell_type": "code",
   "execution_count": 1,
   "metadata": {},
   "outputs": [],
   "source": [
    "import pandas as pd\n",
    "import numpy as np\n",
    "import sys\n",
    "sys.path.insert(0, '/home/fbuonerba/codes')\n",
    "from coinapi_v1 import CoinAPIv1\n",
    "import datetime\n",
    "from datetime import datetime, timedelta\n",
    "import time\n",
    "import calendar\n",
    "import json\n",
    "import urllib.request\n",
    "import multiprocessing as mp\n",
    "\n",
    "test_key = 'DB318A59-25FF-499E-9A6D-783A19C346D8'\n",
    "\n",
    "#free test_key = 'EED0F746-36FB-4CC4-8E7C-527333DFA6FB'\n",
    "\n",
    "api = CoinAPIv1(test_key)\n",
    "\n",
    "#this function computes how many seconds from now till midnight.\n",
    "#the correction is due to the fact that some times are not utc by default.\n",
    "#This can be checked transforming output into utc time.\n",
    "def until_midnight():\n",
    "    tomorrow = datetime.now() + timedelta(1)\n",
    "    midnight = datetime(year=tomorrow.year, month=tomorrow.month, \n",
    "                        day=tomorrow.day, hour=0, minute=0, second=0)\n",
    "    wrong_number=(midnight - datetime.now()).seconds\n",
    "    return (wrong_number + 61)# - 14399)"
   ]
  },
  {
   "cell_type": "code",
   "execution_count": null,
   "metadata": {},
   "outputs": [],
   "source": [
    "#Multiprocessing version.\n",
    "#mp.cpu_count()\n",
    "def request_rates(unix_time, base, quote): \n",
    "    path='/home/fbuonerba/exchange_rates_data/'\n",
    "    utctime = datetime.utcfromtimestamp(unix_time).strftime('%Y-%m-%dT%H:%M:%S')\n",
    "    while True:\n",
    "        try:\n",
    "            exchange=api.exchange_rates_get_specific_rate(base, quote, {'time': utctime})\n",
    "            with open(path+'exchange_rate_'+str(base)+'_'+str(quote)+'_'+str(unix_time)+'.txt', 'w') as outfile:  \n",
    "                json.dump(exchange, outfile) \n",
    "            break\n",
    "        except urllib.error.HTTPError as e:\n",
    "            print(e, unix_time)\n",
    "            time.sleep(10)\n",
    "    return(exchange)\n"
   ]
  },
  {
   "cell_type": "code",
   "execution_count": null,
   "metadata": {},
   "outputs": [],
   "source": [
    "print(time.time())\n",
    "unix_time= 1530019800\n",
    "pool = mp.Pool()#processes=7)\n",
    "\n",
    "for i in range(2):\n",
    "    print(time.time(), 'start round =', i)\n",
    "    results = [pool.apply_async(request_rates, args=(unix_time + 600*t,'ETH','USD',)) for t in range(2)]\n",
    "    output = [res.get() for res in results]\n",
    "    print(output)\n",
    "    print(time.time(), 'end round =', i)\n",
    "    unix_time+=1200"
   ]
  },
  {
   "cell_type": "code",
   "execution_count": null,
   "metadata": {},
   "outputs": [],
   "source": [
    "#class HelloWorld(luigi.Task):\n",
    "#    def requires(self):\n",
    "#        return None\n",
    "#    def output(self):\n",
    "#        return luigi.LocalTarget('helloworld.txt')\n",
    "#    def run(self):\n",
    "#        with self.output().open('w') as outfile:\n",
    "#            outfile.write('Hello World!\\n')\n",
    "\n",
    "#class NameSubstituter(luigi.Task):\n",
    "#    name = luigi.Parameter()\n",
    "#    def requires(self):\n",
    "#        return HelloWorld()\n",
    "#    def output(self):\n",
    "#        return luigi.LocalTarget(self.input().path + '.name_' + self.name)\n",
    "#    def run(self):\n",
    "#        with self.input().open() as infile, self.output().open('w') as outfile:\n",
    "#            text = infile.read()\n",
    "#            text = text.replace('World', self.name)\n",
    "#            outfile.write(text)"
   ]
  },
  {
   "cell_type": "code",
   "execution_count": null,
   "metadata": {},
   "outputs": [],
   "source": [
    "import luigi\n",
    "import pandas as pd\n",
    "import numpy as np\n",
    "import sys\n",
    "sys.path.insert(0, '/home/fbuonerba/codes')\n",
    "from coinapi_v1 import CoinAPIv1\n",
    "import datetime\n",
    "from datetime import datetime, timedelta\n",
    "import time\n",
    "import calendar\n",
    "import json\n",
    "import urllib.request\n",
    "\n",
    "test_key = 'DB318A59-25FF-499E-9A6D-783A19C346D8'\n",
    "\n",
    "#Free key for testing: test_key = 'EED0F746-36FB-4CC4-8E7C-527333DFA6FB'\n",
    "\n",
    "api = CoinAPIv1(test_key)\n",
    "\n",
    "#this function computes how many seconds from now till midnight.\n",
    "#the correction is due to the fact that some times are not utc by default.\n",
    "#This can be checked transforming output into utc time.\n",
    "def until_midnight():\n",
    "    tomorrow = datetime.now() + timedelta(1)\n",
    "    midnight = datetime(year=tomorrow.year, month=tomorrow.month, \n",
    "                        day=tomorrow.day, hour=0, minute=0, second=0)\n",
    "    wrong_number=(midnight - datetime.now()).seconds\n",
    "    return (wrong_number + 61)# - 14399)\n"
   ]
  },
  {
   "cell_type": "code",
   "execution_count": null,
   "metadata": {},
   "outputs": [],
   "source": [
    "#Luigi version.\n",
    "#this task downloads data (by luigi default, if it does not exist already).\n",
    "class request_exchange_rates(luigi.Task):\n",
    "    unix_time=luigi.Parameter()\n",
    "    base=luigi.Parameter()\n",
    "    quote=luigi.Parameter()\n",
    "    path='/home/fbuonerba/exchange_rates_data/'\n",
    "    def requires(self):\n",
    "        return None\n",
    "    def output(self):\n",
    "        return luigi.LocalTarget(self.path+'exchange_rate_'+str(self.base)+'_'+str(self.quote)+'_'+str(self.unix_time)+'.txt')\n",
    "    def run(self):\n",
    "        while True:\n",
    "            try: \n",
    "                utctime = datetime.utcfromtimestamp(self.unix_time).strftime('%Y-%m-%dT%H:%M:%S')\n",
    "                exchange=api.exchange_rates_get_specific_rate(self.base, self.quote, {'time': utctime})\n",
    "                with self.output().open('w') as outfile:\n",
    "                    json.dump(exchange, outfile) \n",
    "                print('okokokokokok', self.unix_time)\n",
    "                break\n",
    "            except urllib.error.HTTPError as err:\n",
    "                print('AAAAAAAAAAAAAAAAAAAA', err, self.unix_time)\n",
    "                time.sleep(30)\n",
    "            \n",
    "        \n",
    "    "
   ]
  },
  {
   "cell_type": "code",
   "execution_count": null,
   "metadata": {
    "scrolled": false
   },
   "outputs": [],
   "source": [
    "unix_time= 1529985000\n",
    "#1586918800  1529954000\n",
    "while True:\n",
    "    luigi.build([request_exchange_rates(unix_time + 600*t, base='ETH', quote='USD') for t in range(2)], workers=2, local_scheduler=True)\n",
    "    unix_time+=1200\n",
    "    #luigi.build([request_exchange_rates(unix_time + 600*t, base='ETH', quote='USD') for t in range(100)], workers=1, local_scheduler=True)\n",
    "    "
   ]
  },
  {
   "cell_type": "code",
   "execution_count": null,
   "metadata": {},
   "outputs": [],
   "source": [
    "######GET TOP 50 COINS#######"
   ]
  },
  {
   "cell_type": "code",
   "execution_count": null,
   "metadata": {},
   "outputs": [],
   "source": [
    "usd_sym=[]\n",
    "for sym in symbols:\n",
    "    if sym['asset_id_quote']=='USD':\n",
    "        usd_sym.append(sym['symbol_id'])\n",
    "\n",
    "usd_sym"
   ]
  },
  {
   "cell_type": "code",
   "execution_count": null,
   "metadata": {},
   "outputs": [],
   "source": [
    "########THIS REQUIRES PLENTY OF REQUESTS#########\n",
    "#dicti={}\n",
    "#for sym in usd_sym:\n",
    "#    print(sym)\n",
    "#    dicti[sym]=api.ohlcv_latest_data(sym, {'period_id': '1DAY', 'limit':1})"
   ]
  },
  {
   "cell_type": "code",
   "execution_count": null,
   "metadata": {},
   "outputs": [],
   "source": [
    "assets = api.metadata_list_assets()\n",
    "symbols = api.metadata_list_symbols()"
   ]
  },
  {
   "cell_type": "code",
   "execution_count": null,
   "metadata": {},
   "outputs": [],
   "source": [
    "symbols"
   ]
  },
  {
   "cell_type": "code",
   "execution_count": null,
   "metadata": {},
   "outputs": [],
   "source": [
    "with open('/home/fbuonerba/codes/some_ohlcv.txt') as ff:\n",
    "    dicti=json.load(ff)\n",
    "\n",
    "dicti['BITSTAMP_SPOT_BTC_USD']"
   ]
  },
  {
   "cell_type": "code",
   "execution_count": null,
   "metadata": {},
   "outputs": [],
   "source": [
    "btc_sum=0\n",
    "for sym in symbols:\n",
    "    if sym['asset_id_quote']=='USD' and sym['asset_id_base']=='BTC' and sym['symbol_type']=='SPOT':\n",
    "        if dicti[sym['symbol_id']]!=[]:\n",
    "            btc_sum+= dicti[sym['symbol_id']][0]['volume_traded']\n",
    "            \n",
    "                #dicti[sym['symbol_id']][0]['price_high']\n",
    "btc_sum"
   ]
  },
  {
   "cell_type": "code",
   "execution_count": null,
   "metadata": {},
   "outputs": [],
   "source": [
    "d={}\n",
    "for asse in assets:\n",
    "    asse_sum=0\n",
    "    for sym in symbols:\n",
    "        if sym['asset_id_quote']=='USD' and sym['asset_id_base']==asse['asset_id'] and sym['symbol_type']=='SPOT':\n",
    "            s=sym['symbol_id']\n",
    "            if (s in dicti) and dicti[s]!=[]:\n",
    "                average=dicti[sym['symbol_id']][0]['price_high']+dicti[sym['symbol_id']][0]['price_low']\n",
    "                asse_sum=asse_sum + dicti[sym['symbol_id']][0]['volume_traded']*average\n",
    "    d[asse['asset_id']]=asse_sum\n"
   ]
  },
  {
   "cell_type": "code",
   "execution_count": null,
   "metadata": {},
   "outputs": [],
   "source": [
    "items = [(v, k) for k, v in d.items()]\n",
    "items.sort()\n",
    "items.reverse()             # so largest is first\n",
    "items = [(k, v) for v, k in items]\n",
    "top_coins=[fin[0] for fin in items[0:50]]\n",
    "top_coins"
   ]
  },
  {
   "cell_type": "code",
   "execution_count": null,
   "metadata": {},
   "outputs": [],
   "source": [
    "with open('top_coins.txt','w') as file:\n",
    "    json.dump(top_coins,file)\n"
   ]
  },
  {
   "cell_type": "code",
   "execution_count": 2,
   "metadata": {},
   "outputs": [],
   "source": [
    "exchanges = api.metadata_list_exchanges()\n"
   ]
  },
  {
   "cell_type": "code",
   "execution_count": 5,
   "metadata": {},
   "outputs": [],
   "source": [
    "top_exchanges=['BINANCE','BITFINEX','HUOBI','COINBASE','OKEX','MTGOX','GEMINI','BITHUMB','POLONIEX','KRAKEN']\n",
    "\n",
    "with open('/home/fbuonerba/codes/top_exchanges.txt','w') as file:\n",
    "    json.dump(top_exchanges,file)"
   ]
  },
  {
   "cell_type": "code",
   "execution_count": null,
   "metadata": {},
   "outputs": [],
   "source": []
  }
 ],
 "metadata": {
  "kernelspec": {
   "display_name": "Python 3",
   "language": "python",
   "name": "python3"
  },
  "language_info": {
   "codemirror_mode": {
    "name": "ipython",
    "version": 3
   },
   "file_extension": ".py",
   "mimetype": "text/x-python",
   "name": "python",
   "nbconvert_exporter": "python",
   "pygments_lexer": "ipython3",
   "version": "3.5.2"
  }
 },
 "nbformat": 4,
 "nbformat_minor": 2
}
