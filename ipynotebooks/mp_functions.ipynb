{
 "cells": [
  {
   "cell_type": "code",
   "execution_count": 3,
   "metadata": {},
   "outputs": [],
   "source": [
    "import pandas as pd\n",
    "import numpy as np\n",
    "import sys\n",
    "sys.path.insert(0, '/home/fbuonerba/codes')\n",
    "from coinapi_v1 import CoinAPIv1\n",
    "import datetime\n",
    "from datetime import datetime, timedelta\n",
    "import time\n",
    "import calendar\n",
    "import json\n",
    "import urllib.request\n",
    "import multiprocessing as mp\n",
    "\n",
    "test_key = 'DB318A59-25FF-499E-9A6D-783A19C346D8'\n",
    "\n",
    "#Free key for testing: test_key = 'EED0F746-36FB-4CC4-8E7C-527333DFA6FB'\n",
    "\n",
    "api = CoinAPIv1(test_key)\n",
    "\n",
    "#this function computes how many seconds from now till midnight.\n",
    "#the correction is due to the fact that some times are not utc by default.\n",
    "#This can be checked transforming output into utc time.\n",
    "def until_midnight():\n",
    "    tomorrow = datetime.now() + timedelta(1)\n",
    "    midnight = datetime(year=tomorrow.year, month=tomorrow.month, \n",
    "                        day=tomorrow.day, hour=0, minute=0, second=0)\n",
    "    wrong_number=(midnight - datetime.now()).seconds\n",
    "    return (wrong_number + 61)# - 14399)"
   ]
  },
  {
   "cell_type": "code",
   "execution_count": null,
   "metadata": {},
   "outputs": [],
   "source": [
    "def request_rates(unix_time, base,quote, interval): \n",
    "    path='/home/fbuonerba/exchange_rates_data/'\n",
    "    utctime = datetime.utcfromtimestamp(unix_time).strftime('%Y-%m-%dT%H:%M:%S')\n",
    "    while True:\n",
    "        try:\n",
    "            exchange=api.exchange_rates_get_specific_rate(base, quote, {'time': utctime})\n",
    "            with open(path+'exchange_rate_'+str(base)+'_'+str(quote)+'_'+str(unix_time)+'.txt', 'w') as outfile:  \n",
    "                json.dump(exchange, outfile) \n",
    "            return(exchange)\n",
    "        except urllib.error.HTTPError as err:\n",
    "            if err.code==429:\n",
    "                print(err, unix_time)\n",
    "                #exceeded daily requests\n",
    "                time.sleep(until_midnight())\n",
    "            elif err.code==550 and unix_time>=time.time():\n",
    "                print(err, unix_time,'too early!')\n",
    "                #requesting data from the future\n",
    "                time.sleep(interval)\n",
    "            else:\n",
    "                print(err, unix_time, 'unavailable data')\n",
    "                with open(path+'exchange_rate_'+str(base)+'_'+str(quote)+'_'+str(unix_time)+'.txt', 'w') as outfile:  \n",
    "                    json.dump({}, outfile)\n",
    "                #unavailable data \n",
    "                return None\n",
    "\n"
   ]
  },
  {
   "cell_type": "code",
   "execution_count": 11,
   "metadata": {},
   "outputs": [],
   "source": [
    "def request_ohlcv(unix_time, base,quote,exchange, interval):\n",
    "    path='/home/fbuonerba/ohlcv_data/ohlcv_'\n",
    "    sym_id=str(exchange)+'_SPOT_'+str(base)+'_'+str(quote)\n",
    "    utctime = datetime.utcfromtimestamp(unix_time).strftime('%Y-%m-%dT%H:%M:%S')\n",
    "    while True:\n",
    "        try:\n",
    "            ohlcv=api.ohlcv_historical_data(sym_id, {'period_id': '1DAY', 'time_start':utctime})\n",
    "            #each response is list of length 100; each entry covers period_id.\n",
    "            for j in range(len(ohlcv)):\n",
    "                with open(path+sym_id+'_'+str(unix_time+j*86400)+'_'+str(unix_time+(j+1)*86400), 'w') as ff:\n",
    "                    json.dump(ohlcv[j],ff)\n",
    "            return(ohlcv)\n",
    "        except urllib.error.HTTPError as err:\n",
    "            if err.code==429:\n",
    "                print(err, unix_time)\n",
    "                #exceeded daily requests\n",
    "                time.sleep(until_midnight())\n",
    "            elif err.code==550 and unix_time>=time.time():\n",
    "                print(err, unix_time,'too early!')\n",
    "                #requesting data from the future\n",
    "                time.sleep(interval)\n",
    "            else:\n",
    "                print(err, unix_time, 'unavailable data')\n",
    "                with open(path+sym_id+'_'+str(unix_time+j*86400)+'_'+str(unix_time+(j+1)*86400), 'w') as ff:\n",
    "                    json.dump({}, ff)\n",
    "                #unavailable data \n",
    "                return None"
   ]
  }
 ],
 "metadata": {
  "kernelspec": {
   "display_name": "Python 3",
   "language": "python",
   "name": "python3"
  },
  "language_info": {
   "codemirror_mode": {
    "name": "ipython",
    "version": 3
   },
   "file_extension": ".py",
   "mimetype": "text/x-python",
   "name": "python",
   "nbconvert_exporter": "python",
   "pygments_lexer": "ipython3",
   "version": "3.5.2"
  }
 },
 "nbformat": 4,
 "nbformat_minor": 2
}
