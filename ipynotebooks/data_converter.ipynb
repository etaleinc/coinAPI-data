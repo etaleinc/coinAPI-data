{
 "cells": [
  {
   "cell_type": "code",
   "execution_count": null,
   "metadata": {},
   "outputs": [],
   "source": [
    "import numpy as np\n",
    "import sys\n",
    "import os\n",
    "sys.path.insert(0, '/home/fbuonerba/codes/')\n",
    "from mp_functions import upload_log_return, upload_factor_loadings, request_rates\n",
    "from coinapi_v1 import CoinAPIv1\n",
    "import datetime\n",
    "from datetime import datetime, timedelta\n",
    "import time\n",
    "import calendar\n",
    "import json\n",
    "import csv\n",
    "\n",
    "datapath='/home/databot/data/coinapi/'\n",
    "homepath='/home/fbuonerba/'\n",
    "\n",
    "ratespath=homepath+'exchange_rates_data/'\n",
    "ohlcvpath=homepath + 'ohlcv_data/'"
   ]
  },
  {
   "cell_type": "code",
   "execution_count": null,
   "metadata": {},
   "outputs": [],
   "source": [
    "rates=os.listdir(ratespath)\n",
    "\n",
    "ohlcv=os.listdir(ohlcvpath)"
   ]
  },
  {
   "cell_type": "code",
   "execution_count": null,
   "metadata": {},
   "outputs": [],
   "source": [
    "########TRANSFORM RATES############\n",
    "D={}\n",
    "counter=0\n",
    "for x in rates:\n",
    "    counter+=1\n",
    "    if counter % 100000 ==0:\n",
    "        print('golaso!')\n",
    "    with open(ratespath + x) as infile:\n",
    "        try:\n",
    "            y=json.load(infile)\n",
    "            if y!={} and y!='{}':\n",
    "                ytime=y['time'][:10].replace('-','')\n",
    "                if ytime not in D.keys():\n",
    "                    D[ytime]=[]\n",
    "                D[ytime].append(y)\n",
    "        except:\n",
    "            print('non existent data', x)\n",
    "    \n",
    "        "
   ]
  },
  {
   "cell_type": "code",
   "execution_count": null,
   "metadata": {},
   "outputs": [],
   "source": [
    "days=list(D.keys())\n",
    "names=['time', 'rate', 'asset_id_base', 'asset_id_quote']\n",
    "for w in days:\n",
    "    with open(datapath + w[:4]+'/'+w[4:6]+'/'+w[6:]+'/'+w+'.rates','w') as outfile:\n",
    "        writer = csv.DictWriter(outfile, fieldnames=names)\n",
    "        writer.writeheader()\n",
    "        for symbol in D[w]:\n",
    "            writer.writerow(symbol)"
   ]
  },
  {
   "cell_type": "code",
   "execution_count": null,
   "metadata": {
    "scrolled": true
   },
   "outputs": [],
   "source": [
    "###########TRANSFORM OHLCV#############\n",
    "E={}\n",
    "counter=0\n",
    "for x in ohlcv:\n",
    "    X=x.split('_')\n",
    "    exchange=X[1]\n",
    "    base=X[3]\n",
    "    quote=X[4]\n",
    "    if base=='SPOT':\n",
    "        base=X[4]\n",
    "        quote=X[2]\n",
    "    counter+=1\n",
    "    if counter % 50000 ==0:\n",
    "        print(counter)\n",
    "    with open(ohlcvpath + x) as infile:\n",
    "        try:\n",
    "            y=json.load(infile)\n",
    "            if y!=[] and y!='[]':\n",
    "                ytime=y['time_period_start'][:10].replace('-','')\n",
    "                if ytime not in E.keys():\n",
    "                    E[ytime]=[]\n",
    "                y['exchange']=exchange\n",
    "                y['asset_id_base']=base\n",
    "                y['asset_id_quote']=quote\n",
    "                if base=='SPOT' or quote=='SPOT' or exchange=='SPOT':\n",
    "                    print(base, quote, exchange)\n",
    "                E[ytime].append(y)\n",
    "        except:\n",
    "            pass\n",
    "\n",
    "print(counter)            \n"
   ]
  },
  {
   "cell_type": "code",
   "execution_count": null,
   "metadata": {},
   "outputs": [],
   "source": [
    "days=list(E.keys())\n",
    "names=[\"time_close\",\"time_open\",\"price_close\",\"price_open\", 'asset_id_base','asset_id_quote','exchange',\"trades_count\",\"volume_traded\", \"price_high\", \"price_low\",\"time_period_start\",\"time_period_end\"] \n",
    "for w in days:\n",
    "    with open(datapath + w[:4]+'/'+w[4:6]+'/'+w[6:]+'/'+w+'.ohlcv','w') as outfile:\n",
    "        writer = csv.DictWriter(outfile, fieldnames=names)\n",
    "        writer.writeheader()\n",
    "        for symbol in E[w]:\n",
    "            writer.writerow(symbol)"
   ]
  },
  {
   "cell_type": "code",
   "execution_count": null,
   "metadata": {},
   "outputs": [],
   "source": [
    "returnspath=homepath + 'log_returns_data/'\n",
    "\n",
    "returns=os.listdir(returnspath)"
   ]
  },
  {
   "cell_type": "code",
   "execution_count": null,
   "metadata": {},
   "outputs": [],
   "source": [
    "###############TRANSFORM RETURNS##############\n",
    "F={}\n",
    "counter=0\n",
    "for x in returns:\n",
    "    x_temp=x[:-4]\n",
    "    X=x_temp.split('_')\n",
    "    base=X[2]\n",
    "    quote=X[3]\n",
    "    time_begin=datetime.utcfromtimestamp(float(X[4])).strftime('%Y-%m-%dT%H:%M:%S')\n",
    "    time_end=datetime.utcfromtimestamp(float(X[5])).strftime('%Y-%m-%dT%H:%M:%S')\n",
    "    tim=datetime.utcfromtimestamp(float(X[5])).strftime('%Y%m%d')\n",
    "    if tim not in F.keys():\n",
    "        F[tim]=[]\n",
    "    counter+=1\n",
    "    if counter % 50000 ==0:\n",
    "        print(counter)\n",
    "    with open(returnspath + x) as infile:\n",
    "        try:\n",
    "            Y=json.load(infile)\n",
    "            y={}\n",
    "            y['time_start']=time_begin\n",
    "            y['time_end']=time_end\n",
    "            y['asset_id_base']=base\n",
    "            y['asset_id_quote']=quote\n",
    "            y['log_return']=Y\n",
    "            F[tim].append(y)\n",
    "        except:\n",
    "            pass\n",
    "\n",
    "print(counter)            \n"
   ]
  },
  {
   "cell_type": "code",
   "execution_count": null,
   "metadata": {},
   "outputs": [],
   "source": [
    "days=list(F.keys())\n",
    "names=['time_start', 'time_end', 'asset_id_base', 'asset_id_quote', 'log_return']\n",
    "for w in days:\n",
    "    try:\n",
    "        with open(datapath + w[:4]+'/'+w[4:6]+'/'+w[6:]+'/'+w+'.log_returns','w') as outfile:\n",
    "            writer = csv.DictWriter(outfile, fieldnames=names)\n",
    "            writer.writeheader()\n",
    "            for symbol in F[w]:\n",
    "                writer.writerow(symbol)\n",
    "    except:\n",
    "        print(w, F[w])"
   ]
  },
  {
   "cell_type": "code",
   "execution_count": null,
   "metadata": {},
   "outputs": [],
   "source": [
    "##########TRANSFORM CMC DAILY DATA################\n",
    "G={}\n",
    "cmcpath=homepath + 'cmc_data/'\n",
    "cmc=os.listdir(cmcpath)\n",
    "cmc1=[x for x in cmc if ('hist' not in x)]\n",
    "\n",
    "for x in cmc1:\n",
    "    date = datetime.utcfromtimestamp(float(x[-14:-4])).strftime('%Y%m%d')\n",
    "    if date not in G.keys():\n",
    "        G[date]=[]\n",
    "    with open(cmcpath + x) as infile:\n",
    "        j=json.load(infile)\n",
    "    G[date].append(j)\n",
    "keys=list(G[date][0].keys())\n"
   ]
  },
  {
   "cell_type": "code",
   "execution_count": null,
   "metadata": {},
   "outputs": [],
   "source": [
    "days=G.keys()\n",
    "for d in days:\n",
    "    with open(datapath+d[:4]+'/'+d[4:6]+'/'+d[6:]+'/'+d+'.cmc_daily','w') as outfile:\n",
    "        writer = csv.DictWriter(outfile, fieldnames=keys)\n",
    "        writer.writeheader()\n",
    "        for x in G[d]:\n",
    "            try:\n",
    "                writer.writerow(x)\n",
    "            except:\n",
    "                pass"
   ]
  },
  {
   "cell_type": "code",
   "execution_count": null,
   "metadata": {},
   "outputs": [],
   "source": [
    "##########TRANSFORM CMC HISTORICAL DATA################\n",
    "H={}\n",
    "\n",
    "cmc2=[x for x in cmc if ('hist' in x)]\n",
    "for x in cmc2:\n",
    "    date = datetime.utcfromtimestamp(float(x[-14:-4])).strftime('%Y%m%d')\n",
    "    if date not in H.keys():\n",
    "        H[date]=[]\n",
    "    with open(cmcpath + x) as infile:\n",
    "        j=json.load(infile)\n",
    "        for co in list(j.keys()):\n",
    "            j[co]['symbol']=co\n",
    "    H[date].append(j.values())\n",
    "#keys1=list(H[date][0].keys())"
   ]
  },
  {
   "cell_type": "code",
   "execution_count": null,
   "metadata": {},
   "outputs": [],
   "source": [
    "names=['symbol','supply','price', 'volume']\n",
    "days=H.keys()\n",
    "for d in days:\n",
    "    with open(datapath+d[:4]+'/'+d[4:6]+'/'+d[6:]+'/'+d+'.cmc_historical','w') as outfile:\n",
    "        writer = csv.DictWriter(outfile, fieldnames=names)\n",
    "        writer.writeheader()\n",
    "        for x in H[d][0]:\n",
    "            try:\n",
    "                writer.writerow(x)\n",
    "            except:\n",
    "                print(d, x)"
   ]
  },
  {
   "cell_type": "code",
   "execution_count": null,
   "metadata": {},
   "outputs": [],
   "source": [
    "############COMPUTE DAILY VOLUMES###############\n",
    "for root, dirs, files in os.walk(datapath, topdown=False):\n",
    "    for randomfile in files:\n",
    "        randomfile=os.path.join(root, randomfile)\n",
    "        if 'ohlcv' in randomfile:\n",
    "            volume={}\n",
    "            with open(randomfile, 'r') as csvfile:\n",
    "                sbam = csv.DictReader(csvfile)\n",
    "                for row in sbam:\n",
    "                    rowsym=row['asset_id_base']+'_'+row['asset_id_quote']\n",
    "                    if 'SPOT' in rowsym:\n",
    "                        print(randomfile)\n",
    "                    if rowsym not in volume.keys():\n",
    "                        volume[rowsym]={}\n",
    "                        volume[rowsym]['time_period_start']=row['time_period_start']\n",
    "                        volume[rowsym]['time_period_end']=row['time_period_end']\n",
    "                        volume[rowsym]['asset_id_base']=row['asset_id_base']\n",
    "                        volume[rowsym]['asset_id_quote']=row['asset_id_quote']\n",
    "                        volume[rowsym]['volume_traded']=0\n",
    "                    volume[rowsym]['volume_traded']+=float(row['volume_traded'])\n",
    "            names=['time_period_start','time_period_end','asset_id_base','asset_id_quote','volume_traded']\n",
    "            pairs=list(volume.keys())\n",
    "            with open(randomfile[:-5]+'volumes','w') as outfile:\n",
    "                #print(randomfile[:-5]+'volumes')\n",
    "                writer = csv.DictWriter(outfile, fieldnames=names)\n",
    "                writer.writeheader()\n",
    "                for w in pairs:\n",
    "                    writer.writerow(volume[w])"
   ]
  },
  {
   "cell_type": "code",
   "execution_count": null,
   "metadata": {},
   "outputs": [],
   "source": []
  }
 ],
 "metadata": {
  "kernelspec": {
   "display_name": "Python 3",
   "language": "python",
   "name": "python3"
  },
  "language_info": {
   "codemirror_mode": {
    "name": "ipython",
    "version": 3
   },
   "file_extension": ".py",
   "mimetype": "text/x-python",
   "name": "python",
   "nbconvert_exporter": "python",
   "pygments_lexer": "ipython3",
   "version": "3.5.2"
  }
 },
 "nbformat": 4,
 "nbformat_minor": 2
}
