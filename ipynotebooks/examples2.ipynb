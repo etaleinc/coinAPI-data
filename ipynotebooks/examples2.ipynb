{
 "cells": [
  {
   "cell_type": "code",
   "execution_count": 1,
   "metadata": {},
   "outputs": [
    {
     "name": "stderr",
     "output_type": "stream",
     "text": [
      "/usr/lib/python3.5/importlib/_bootstrap.py:222: RuntimeWarning: numpy.dtype size changed, may indicate binary incompatibility. Expected 96, got 88\n",
      "  return f(*args, **kwds)\n",
      "/usr/lib/python3.5/importlib/_bootstrap.py:222: RuntimeWarning: numpy.dtype size changed, may indicate binary incompatibility. Expected 96, got 88\n",
      "  return f(*args, **kwds)\n"
     ]
    }
   ],
   "source": [
    "import luigi\n",
    "import pandas as pd\n",
    "import numpy as np\n",
    "import sys\n",
    "sys.path.insert(0, '/home/fbuonerba/codes/')\n",
    "from coinapi_v1 import CoinAPIv1\n",
    "import datetime\n",
    "from datetime import datetime, timedelta\n",
    "import time\n",
    "import calendar\n",
    "import json\n",
    "import urllib.request\n",
    "import requests\n",
    "import multiprocessing as mp\n",
    "\n",
    "#test_key = 'DB318A59-25FF-499E-9A6D-783A19C346D8'\n",
    "\n",
    "test_key = 'EED0F746-36FB-4CC4-8E7C-527333DFA6FB'\n",
    "\n",
    "api = CoinAPIv1(test_key)\n",
    "\n",
    "meta_path='/home/fbuonerba/codes/meta_data/'\n",
    "with open(meta_path+'new_coins.txt') as f:\n",
    "    coins=json.load(f)\n",
    "# with open(meta_path+'symbols.txt') as ff:\n",
    "#     symbols=json.load(ff)\n",
    "quotes=['USD','BTC']\n",
    "\n",
    "#assets = api.metadata_list_assets()\n",
    "#symbols = api.metadata_list_symbols()\n",
    "#exchanges = api.metadata_list_exchanges()"
   ]
  },
  {
   "cell_type": "code",
   "execution_count": null,
   "metadata": {},
   "outputs": [],
   "source": [
    "###Following symbols apparently have no data available.\n",
    "###random tests with request_ohlcv seem to confirm, i.e.\n",
    "#it is not just a 'week' issue.\n",
    "\n",
    "BTC-E_SPOT_BTC_USD []\n",
    "BTC-E_SPOT_LTC_USD []\n",
    "MTGOX_SPOT_BTC_USD []\n",
    "LAKEBTC_SPOT_BTC_USD []\n",
    "BITTREX_SPOT_BTS_BTC []\n",
    "THEROCKTRADING_SPOT_BTC_USD []\n",
    "BTCX_SPOT_BTC_USD []\n",
    "BITVC_SPOT_BTC_BTC []\n",
    "QUOINE_SPOT_XRP_BTC []\n",
    "QUOINE_SPOT_LTC_BTC []\n",
    "QUOINE_SPOT_TRX_BTC []\n",
    "QUOINE_SPOT_QTUM_BTC []\n",
    "QUOINE_SPOT_ETC_BTC []\n",
    "QUOINE_SPOT_XEM_BTC []\n",
    "QUOINE_SPOT_XMR_BTC []\n",
    "QUOINE_SPOT_ZEC_BTC []\n",
    "QUOINE_SPOT_DASH_BTC []\n",
    "QUOINE_SPOT_NEO_BTC []\n",
    "CRYPTOPIA_SPOT_WAVES_BTC []\n",
    "CRYPTOPIA_SPOT_BCN_BTC []\n",
    "QUOINE_SPOT_BCH_BTC []\n",
    "CRYPTOPIA_SPOT_SC_BTC []\n",
    "CCEX_SPOT_XVG_BTC []\n",
    "BTER_SPOT_QTUM_BTC []\n",
    "BTER_SPOT_DOGE_BTC []\n",
    "BTER_SPOT_BCH_BTC []\n",
    "THEROCKTRADING_SPOT_LTC_USD []\n",
    "QUOINE_SPOT_XLM_BTC []\n",
    "BTER_SPOT_LTC_BTC []\n",
    "LIQUI_SPOT_QTUM_BTC []\n",
    "BTER_SPOT_ZEC_BTC []\n",
    "BTER_SPOT_ETH_BTC []\n",
    "QUOINE_SPOT_DASH_USD []\n",
    "BTER_SPOT_XRP_BTC []\n",
    "CCEX_SPOT_XVG_USD []\n",
    "BTER_SPOT_ETC_BTC []\n",
    "CCEX_SPOT_BTG_BTC []\n",
    "BTER_SPOT_EOS_BTC []\n",
    "BTER_SPOT_BAT_BTC []\n",
    "BTER_SPOT_OMG_BTC []\n",
    "BTER_SPOT_BTM_BTC []\n",
    "QUOINE_SPOT_VET_BTC []\n",
    "BTER_SPOT_ZRX_BTC []\n",
    "BTER_SPOT_XEM_BTC []\n",
    "BTER_SPOT_REP_BTC []\n",
    "BTER_SPOT_XMR_BTC []\n",
    "BTER_SPOT_DOGE_USD []\n",
    "TIDEX_SPOT_STEEM_BTC []\n",
    "CCEX_SPOT_BTG_USD []\n",
    "TIDEX_SPOT_BTS_BTC []\n",
    "LIQUI_SPOT_STEEM_BTC []\n",
    "BITBAY_SPOT_ETH_USD []\n",
    "BITBAY_SPOT_LSK_USD []\n",
    "BITBAY_SPOT_BTC_USD []\n",
    "BITBAY_SPOT_LTC_USD []\n",
    "ACX_SPOT_BTC_USD []\n",
    "BITBAY_SPOT_DASH_USD []\n",
    "BITBAY_SPOT_LSK_BTC []\n",
    "BITBAY_SPOT_DASH_BTC []\n",
    "BITBAY_SPOT_LTC_BTC []\n",
    "BITBAY_SPOT_BCH_BTC []\n",
    "BITBAY_SPOT_BTG_USD []\n",
    "BITBAY_SPOT_BCH_USD []\n",
    "BITBAY_SPOT_BTG_BTC []\n",
    "BITBAY_SPOT_ETH_BTC []\n",
    "XBTCE_SPOT_BTC_USD []\n",
    "BTCTURK_SPOT_ETH_BTC []\n",
    "XBTCE_SPOT_ETH_USD []\n",
    "XBTCE_SPOT_LTC_USD []\n",
    "QUOINE_SPOT_REP_BTC []\n",
    "XBTCE_SPOT_LTC_BTC []\n",
    "XBTCE_SPOT_BCH_BTC []\n",
    "XBTCE_SPOT_BCH_USD []\n",
    "XBTCE_SPOT_XRP_USD []\n",
    "XBTCE_SPOT_ETH_BTC []\n",
    "QUOINE_SPOT_GNT_BTC []\n",
    "XBTCE_SPOT_ETC_BTC []\n",
    "QUOINE_SPOT_OMG_BTC []\n",
    "XBTCE_SPOT_EOS_BTC []\n",
    "XBTCE_SPOT_XRP_BTC []\n",
    "XBTCE_SPOT_XMR_BTC []\n",
    "XBTCE_SPOT_NEO_BTC []\n",
    "LYKKE_SPOT_ZRX_BTC []\n",
    "ANXPRO_SPOT_XRP_BTC []\n",
    "XBTCE_SPOT_IOTA_BTC []\n",
    "COINEXCHANGE_SPOT_LTC_BTC []\n",
    "ANXPRO_SPOT_BTC_USD []\n",
    "ANXPRO_SPOT_LTC_BTC []\n",
    "ANXPRO_SPOT_DOGE_BTC []\n",
    "LYKKE_SPOT_BTC_USD []\n",
    "LYKKE_SPOT_PPT_BTC []\n",
    "COINEXCHANGE_SPOT_DASH_BTC []\n",
    "COINEXCHANGE_SPOT_DOGE_BTC []\n",
    "COINEXCHANGE_SPOT_DGB_BTC []\n",
    "COINEXCHANGE_SPOT_BCH_BTC []\n",
    "COINEXCHANGE_SPOT_QTUM_BTC []\n",
    "COINEXCHANGE_SPOT_ETC_BTC []\n",
    "COINEXCHANGE_SPOT_ZEC_BTC []\n",
    "LYKKE_SPOT_AE_BTC []\n",
    "COINEXCHANGE_SPOT_ETH_BTC []\n",
    "LYKKE_SPOT_LTC_USD []\n",
    "LYKKE_SPOT_LTC_BTC []\n",
    "LYKKE_SPOT_OMG_BTC []\n",
    "LYKKE_SPOT_EOS_BTC []\n",
    "LYKKE_SPOT_GNT_BTC []\n",
    "LYKKE_SPOT_REP_BTC []\n",
    "ABUCOINS_SPOT_ZIL_BTC []\n",
    "BITCOINID_SPOT_DASH_BTC []\n",
    "BITCOINID_SPOT_XLM_BTC []\n",
    "BITCOINID_SPOT_XEM_BTC []\n",
    "XBTCE_SPOT_LSK_BTC []\n",
    "XBTCE_SPOT_OMG_BTC []\n",
    "XBTCE_SPOT_XLM_BTC []\n",
    "XBTCE_SPOT_XEM_BTC []\n",
    "XBTCE_SPOT_ADA_BTC []\n",
    "XBTCE_SPOT_REP_BTC []\n",
    "XBTCE_SPOT_ZEC_BTC []\n",
    "LYKKE_SPOT_BCH_BTC []\n",
    "LYKKE_SPOT_BCH_USD []\n",
    "LYKKE_SPOT_DASH_USD []\n",
    "LYKKE_SPOT_DASH_BTC []\n",
    "LYKKE_SPOT_ETC_BTC []\n",
    "LYKKE_SPOT_ETC_USD []\n",
    "LYKKE_SPOT_ETH_BTC []\n",
    "LYKKE_SPOT_ETH_USD []\n",
    "LYKKE_SPOT_ICX_BTC []\n",
    "COINEXCHANGE_SPOT_EOS_BTC []\n",
    "LYKKE_SPOT_ZEC_BTC []\n",
    "LYKKE_SPOT_ZEC_USD []\n",
    "COINEXCHANGE_SPOT_TRX_BTC []\n",
    "COINEXCHANGE_SPOT_OMG_BTC []\n",
    "COINEXCHANGE_SPOT_XVG_BTC []\n",
    "COINEXCHANGE_SPOT_GNT_BTC []\n",
    "COINEXCHANGE_SPOT_PPT_BTC []\n",
    "NOVA_SPOT_DCR_BTC []\n",
    "BLEUTRADE_SPOT_BTC_BTC []\n",
    "LYKKE_SPOT_BTG_USD []\n",
    "LYKKE_SPOT_BTG_BTC []\n",
    "BITBAY_SPOT_REP_USD []\n"
   ]
  },
  {
   "cell_type": "code",
   "execution_count": null,
   "metadata": {},
   "outputs": [],
   "source": [
    "#Getting data from CoinMarketCap#\n",
    "web_data= urllib.request.urlopen('https://api.coinmarketcap.com/v2/ticker/')\n",
    "cmc_data=web_data.read()\n",
    "cmc=json.loads(cmc_data.decode('utf-8'))\n",
    "cmc=cmc['data']\n",
    "xxx=list(cmc.values())\n",
    "L=[]\n",
    "for x in xxx:\n",
    "    L.append(x['rank'])\n",
    "L=np.array(L)\n",
    "xdict={}\n",
    "for x in xxx:\n",
    "    if x['rank']<51:\n",
    "        xdict[x['rank']]=x['symbol']\n"
   ]
  },
  {
   "cell_type": "code",
   "execution_count": null,
   "metadata": {},
   "outputs": [],
   "source": [
    "COINS=list(xdict.values())\n",
    "new_coins=[]\n",
    "C=np.array(COINS)\n",
    "C[10]='IOTA'\n",
    "#delete tether and mysterious MOAC...\n",
    "C1=np.delete(C, [39])\n",
    "C2=np.delete(C1, [7])\n",
    "with open('/home/fbuonerba/codes/meta_data/new_coins.txt','w') as file:\n",
    "    json.dump(list(C2),file)\n",
    "C2"
   ]
  },
  {
   "cell_type": "code",
   "execution_count": null,
   "metadata": {},
   "outputs": [],
   "source": [
    "symbols\n",
    "new_symbols=[]\n",
    "\n",
    "#remove Bitmex, it is outlier.\n",
    "for x in symbols:\n",
    "    if (x['asset_id_base'] in C2) and (x['asset_id_quote'] in quotes) and (x['symbol_type']=='SPOT') and (x['exchange_id']!='BITMEX'):\n",
    "        new_symbols.append(x['symbol_id'])\n",
    "        \n",
    "with open('/home/fbuonerba/codes/meta_data/new_symbols.txt','w') as file:\n",
    "    json.dump(new_symbols,file)\n",
    "    \n"
   ]
  },
  {
   "cell_type": "code",
   "execution_count": null,
   "metadata": {
    "scrolled": false
   },
   "outputs": [],
   "source": [
    "new_cmc_id={}\n",
    "for x in xxx:\n",
    "    if (x['rank']<=50) and (x['symbol']!='MOAC') and (x['symbol']!='USDT'):\n",
    "        new_cmc_id[x['id']]=x['symbol']\n",
    "new_cmc_id\n",
    "with open('/home/fbuonerba/codes/meta_data/new_cmc_id.txt','w') as file:\n",
    "    json.dump(new_cmc_id,file)\n",
    "len(new_cmc_id)"
   ]
  },
  {
   "cell_type": "code",
   "execution_count": null,
   "metadata": {},
   "outputs": [],
   "source": [
    "#Getting id of coins listed on CoinMarketCap which appear in our top_coins list.\n",
    "#start=100*n+1, since they limit to 100 coins per request.\n",
    "web_data1= urllib.request.urlopen('https://api.coinmarketcap.com/v2/ticker/?start=1701')\n",
    "cmc_data1=web_data1.read()\n",
    "cmc1=json.loads(cmc_data1.decode('utf-8'))\n",
    "cmc1=cmc1['data']\n",
    "co1=0\n",
    "xxx1=list(cmc1.values())\n",
    "for x in xxx1:\n",
    "    if x['symbol'] in coins:\n",
    "        print(x['symbol'])\n",
    "        diction[x['id']]=x['symbol']\n",
    "        co1+=1\n",
    "print(co1, diction, len(diction))"
   ]
  },
  {
   "cell_type": "code",
   "execution_count": null,
   "metadata": {},
   "outputs": [],
   "source": [
    "with open(meta_path+'symbols.txt') as ll:\n",
    "    symbols=json.load(ll)"
   ]
  },
  {
   "cell_type": "code",
   "execution_count": null,
   "metadata": {},
   "outputs": [],
   "source": [
    "import os\n",
    "count=0\n",
    "gcount=0\n",
    "S=os.listdir('/home/fbuonerba/ohlcv_data')\n",
    "for s in S:\n",
    "    for sym in symbols:\n",
    "        if sym in s:\n",
    "            gcount+=1\n",
    "            with open('/home/fbuonerba/ohlcv_data/' + s,'r') as file:\n",
    "                data=file.read()\n",
    "            if data=='{}':\n",
    "                count+=1\n",
    "                print(count/gcount)\n",
    "                "
   ]
  },
  {
   "cell_type": "code",
   "execution_count": null,
   "metadata": {},
   "outputs": [],
   "source": [
    "web_data= urllib.request.urlopen('https://coinmarketcap.com/historical/20180701/')\n",
    "cmc_data=web_data.read()#.decode('utf-8')"
   ]
  },
  {
   "cell_type": "code",
   "execution_count": null,
   "metadata": {},
   "outputs": [],
   "source": [
    "cmc_data"
   ]
  },
  {
   "cell_type": "code",
   "execution_count": null,
   "metadata": {},
   "outputs": [],
   "source": [
    "headers = {'Accept': 'text/html'}\n",
    "url='https://coinmarketcap.com/historical/20180701/'\n",
    "web_data= requests.get(url, headers=headers)\n",
    "cmc_data=web_data.content"
   ]
  },
  {
   "cell_type": "code",
   "execution_count": null,
   "metadata": {},
   "outputs": [],
   "source": [
    "from bs4 import BeautifulSoup\n",
    "soup=BeautifulSoup(cmc_data, 'html.parser')"
   ]
  },
  {
   "cell_type": "code",
   "execution_count": null,
   "metadata": {},
   "outputs": [],
   "source": [
    "soup"
   ]
  },
  {
   "cell_type": "code",
   "execution_count": null,
   "metadata": {},
   "outputs": [],
   "source": [
    "So=soup.find_all('td')\n",
    "So\n"
   ]
  },
  {
   "cell_type": "code",
   "execution_count": null,
   "metadata": {},
   "outputs": [],
   "source": [
    "test=[]\n",
    "for x in So:\n",
    "    #print(x.contents)\n",
    "    if x.contents[0]=='\\n':\n",
    "        z=str(x.contents[1])\n",
    "        if 'data-supply' in z:\n",
    "            y=z.split('=')[1].split('data')[0].split('\"')[1]\n",
    "            print(y=='None')\n",
    "            test.append(y)\n",
    "        \n"
   ]
  },
  {
   "cell_type": "code",
   "execution_count": null,
   "metadata": {},
   "outputs": [],
   "source": [
    "Vol=[]\n",
    "SoVolume=soup.find_all(class_='volume')\n",
    "for x in SoVolume:\n",
    "    x=x.contents[0].replace('$','').replace(',','')\n",
    "    x=x.replace('Low Vol','0')\n",
    "    x=int(float(x))\n",
    "    Vol.append(x)\n"
   ]
  },
  {
   "cell_type": "code",
   "execution_count": null,
   "metadata": {},
   "outputs": [],
   "source": [
    "Supply_span=[]\n",
    "Supply_a=[]\n",
    "SoSupply_span=soup.find_all('span',{'data-supply':True})\n",
    "SoSupply_a=soup.find_all('a',{'data-supply':True})\n",
    "#SoSupply=soup.find_all('a',{'data-supply':True})\n",
    "print(len(test), len(SoVolume))\n",
    "\n",
    "for x in SoSupply_a:\n",
    "    x=x.contents[0].strip('\\n').replace(',','')\n",
    "    Supply_a.append(x)\n",
    "for x in SoSupply_span:\n",
    "    x=x.contents[0].strip('\\n').replace(',','')\n",
    "    Supply_span.append(x)\n",
    "print(Supply_a)\n",
    "print('+++++++++++++++++++')\n",
    "print(Supply_span)\n"
   ]
  },
  {
   "cell_type": "code",
   "execution_count": null,
   "metadata": {},
   "outputs": [],
   "source": [
    "Price=[]\n",
    "SoPrice=soup.find_all(class_='price')\n",
    "for x in SoPrice:\n",
    "    x=x.contents[0].replace('$','').replace(',','')\n",
    "    x=float(x)\n",
    "    Price.append(x)\n",
    "Price"
   ]
  },
  {
   "cell_type": "code",
   "execution_count": null,
   "metadata": {},
   "outputs": [],
   "source": [
    "Syms=[]\n",
    "SoSym=soup.find_all(class_=\"text-left col-symbol\")\n",
    "for x in SoSym:\n",
    "    x=str(x.contents[0])\n",
    "    Syms.append(x)\n",
    "\n"
   ]
  },
  {
   "cell_type": "code",
   "execution_count": null,
   "metadata": {},
   "outputs": [],
   "source": [
    "data={}\n",
    "for i in range(len(Supply)):\n",
    "    data[Syms[i]]={'volume': Vol[i], 'price': Price[i], 'supply': Supply[i]}"
   ]
  },
  {
   "cell_type": "code",
   "execution_count": null,
   "metadata": {},
   "outputs": [],
   "source": [
    "json_data=json.dumps(data)"
   ]
  },
  {
   "cell_type": "code",
   "execution_count": null,
   "metadata": {},
   "outputs": [],
   "source": [
    "with open('/home/fbuonerba/codes/meta_data/new_symbols.txt') as ff:\n",
    "    syms=json.load(ff)\n",
    "len(syms)"
   ]
  },
  {
   "cell_type": "code",
   "execution_count": null,
   "metadata": {},
   "outputs": [],
   "source": [
    "import sys\n",
    "import numpy as np\n",
    "sys.path.insert(0, '/home/fbuonerba/codes/')\n",
    "from mp_functions import compute_log_marketcap as lmkcap\n",
    "lmkcap('MKR','USD', 1515283200,1525132800)"
   ]
  },
  {
   "cell_type": "code",
   "execution_count": null,
   "metadata": {
    "scrolled": false
   },
   "outputs": [],
   "source": [
    "import sys\n",
    "import numpy as np\n",
    "import json\n",
    "sys.path.insert(0, '/home/fbuonerba/codes/')\n",
    "from mp_functions import compute_log_marketcap as clm\n",
    "\n",
    "with open('/home/fbuonerba/codes/meta_data/top_coins.txt') as ff:\n",
    "    coins=json.load(ff)\n",
    "clm('EUR','USD',1515283200,1522540800)\n",
    "for coin in coins:\n",
    "    x=clm(str(coin),'USD',1515283200,1522540800)\n",
    "    print(coin, x)"
   ]
  },
  {
   "cell_type": "code",
   "execution_count": null,
   "metadata": {},
   "outputs": [],
   "source": []
  }
 ],
 "metadata": {
  "kernelspec": {
   "display_name": "Python 3",
   "language": "python",
   "name": "python3"
  },
  "language_info": {
   "codemirror_mode": {
    "name": "ipython",
    "version": 3
   },
   "file_extension": ".py",
   "mimetype": "text/x-python",
   "name": "python",
   "nbconvert_exporter": "python",
   "pygments_lexer": "ipython3",
   "version": "3.5.2"
  }
 },
 "nbformat": 4,
 "nbformat_minor": 2
}
