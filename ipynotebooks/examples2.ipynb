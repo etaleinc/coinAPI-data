{
 "cells": [
  {
   "cell_type": "code",
   "execution_count": null,
   "metadata": {},
   "outputs": [],
   "source": [
    "import luigi\n",
    "import pandas as pd\n",
    "import numpy as np\n",
    "import sys\n",
    "sys.path.insert(0, '/home/fbuonerba/codes/')\n",
    "from coinapi_v1 import CoinAPIv1\n",
    "import datetime\n",
    "from datetime import datetime, timedelta\n",
    "import time\n",
    "import calendar\n",
    "import json\n",
    "import urllib.request\n",
    "import multiprocessing as mp\n",
    "\n",
    "test_key = 'DB318A59-25FF-499E-9A6D-783A19C346D8'\n",
    "\n",
    "#free test_key = 'EED0F746-36FB-4CC4-8E7C-527333DFA6FB'\n",
    "\n",
    "api = CoinAPIv1(test_key)\n",
    "\n",
    "meta_path='/home/fbuonerba/codes/meta_data/'\n",
    "with open(meta_path+'top_coins.txt') as f:\n",
    "    coins=json.load(f)\n",
    "with open(meta_path+'symbols.txt') as ff:\n",
    "    symbols=json.load(ff)\n",
    "\n",
    "quotes=['USD','BTC']"
   ]
  },
  {
   "cell_type": "code",
   "execution_count": null,
   "metadata": {},
   "outputs": [],
   "source": [
    "#coinAPI ohlcv data requires to use: symbols.txt#\n",
    "count=0\n",
    "for coi in coins:\n",
    "    for quote in quotes:\n",
    "        for ex in exchanges:\n",
    "            sym_id=str(ex)+'_SPOT_'+str(coi)+'_'+str(quote)\n",
    "            try:\n",
    "                api.ohlcv_latest_data(sym_id, {'period_id': '1MTH', 'limit': 1})\n",
    "                print(sym_id, 'success')\n",
    "            except urllib.error.HTTPError as err:\n",
    "                print(sym_id, 'error', err.code)\n",
    "                count+=1"
   ]
  },
  {
   "cell_type": "code",
   "execution_count": null,
   "metadata": {},
   "outputs": [],
   "source": [
    "#Getting data from CoinMarketCap#\n",
    "web_data= urllib.request.urlopen('https://api.coinmarketcap.com/v2/ticker/')\n",
    "cmc_data=web_data.read()\n",
    "cmc=json.loads(cmc_data.decode('utf-8'))\n",
    "cmc=cmc['data']\n",
    "xxx=list(cmc.values())\n",
    "#diction={}\n",
    "co=0\n",
    "for x in xxx:\n",
    "    if x['symbol'] in coins:\n",
    "        diction[x['id']]=x['symbol']\n",
    "        co+=1\n",
    "print(co, diction)"
   ]
  },
  {
   "cell_type": "code",
   "execution_count": null,
   "metadata": {},
   "outputs": [],
   "source": [
    "#Getting id of coins listed on CoinMarketCap which appear in our top_coins list.\n",
    "#start=100*n+1, since they limit to 100 coins per request.\n",
    "web_data1= urllib.request.urlopen('https://api.coinmarketcap.com/v2/ticker/?start=1701')\n",
    "cmc_data1=web_data1.read()\n",
    "cmc1=json.loads(cmc_data1.decode('utf-8'))\n",
    "cmc1=cmc1['data']\n",
    "co1=0\n",
    "xxx1=list(cmc1.values())\n",
    "for x in xxx1:\n",
    "    if x['symbol'] in coins:\n",
    "        print(x['symbol'])\n",
    "        diction[x['id']]=x['symbol']\n",
    "        co1+=1\n",
    "print(co1, diction, len(diction))"
   ]
  },
  {
   "cell_type": "code",
   "execution_count": null,
   "metadata": {},
   "outputs": [],
   "source": [
    "with open(meta_path+'symbols.txt') as ll:\n",
    "    symbols=json.load(ll)"
   ]
  },
  {
   "cell_type": "code",
   "execution_count": null,
   "metadata": {},
   "outputs": [],
   "source": [
    "import os\n",
    "count=0\n",
    "gcount=0\n",
    "S=os.listdir('/home/fbuonerba/ohlcv_data')\n",
    "for s in S:\n",
    "    for sym in symbols:\n",
    "        if sym in s:\n",
    "            gcount+=1\n",
    "            with open('/home/fbuonerba/ohlcv_data/' + s,'r') as file:\n",
    "                data=file.read()\n",
    "            if data=='{}':\n",
    "                count+=1\n",
    "                print(count/gcount)\n",
    "                "
   ]
  },
  {
   "cell_type": "code",
   "execution_count": null,
   "metadata": {},
   "outputs": [],
   "source": [
    "web_data= urllib.request.urlopen('https://coinmarketcap.com/historical/20180715/')\n",
    "cmc_data=web_data.read()#.decode('utf-8')"
   ]
  },
  {
   "cell_type": "code",
   "execution_count": null,
   "metadata": {},
   "outputs": [],
   "source": [
    "cmc_data"
   ]
  },
  {
   "cell_type": "code",
   "execution_count": null,
   "metadata": {},
   "outputs": [],
   "source": [
    "from bs4 import BeautifulSoup\n",
    "soup=BeautifulSoup(cmc_data, 'html.parser')"
   ]
  },
  {
   "cell_type": "code",
   "execution_count": null,
   "metadata": {},
   "outputs": [],
   "source": [
    "soup"
   ]
  },
  {
   "cell_type": "code",
   "execution_count": null,
   "metadata": {},
   "outputs": [],
   "source": [
    "So=soup.find_all('td')\n",
    "So"
   ]
  },
  {
   "cell_type": "code",
   "execution_count": null,
   "metadata": {},
   "outputs": [],
   "source": [
    "for x in So:\n",
    "    print(x.contents)"
   ]
  },
  {
   "cell_type": "code",
   "execution_count": null,
   "metadata": {},
   "outputs": [],
   "source": [
    "Vol=[]\n",
    "SoVolume=soup.find_all(class_='volume')\n",
    "for x in SoVolume:\n",
    "    x=x.contents[0].replace('$','').replace(',','')\n",
    "    x=x.replace('Low Vol','0')\n",
    "    x=int(float(x))\n",
    "    Vol.append(x)\n"
   ]
  },
  {
   "cell_type": "code",
   "execution_count": null,
   "metadata": {},
   "outputs": [],
   "source": [
    "Supply=[]\n",
    "SoSupply=soup.find_all('a',{'data-supply':True})\n",
    "for x in SoSupply:\n",
    "    x=x.contents[0].strip('\\n').replace(',','')\n",
    "    if '?' in x:\n",
    "        x=float('nan')\n",
    "    else:\n",
    "        x=int(float(x))\n",
    "    Supply.append(x)"
   ]
  },
  {
   "cell_type": "code",
   "execution_count": null,
   "metadata": {},
   "outputs": [],
   "source": [
    "Price=[]\n",
    "SoPrice=soup.find_all(class_='price')\n",
    "for x in SoPrice:\n",
    "    x=x.contents[0].replace('$','').replace(',','')\n",
    "    x=float(x)\n",
    "    Price.append(x)"
   ]
  },
  {
   "cell_type": "code",
   "execution_count": null,
   "metadata": {},
   "outputs": [],
   "source": [
    "Syms=[]\n",
    "SoSym=soup.find_all(class_=\"text-left col-symbol\")\n",
    "for x in SoSym:\n",
    "    x=str(x.contents[0])\n",
    "    Syms.append(x)\n",
    "\n"
   ]
  },
  {
   "cell_type": "code",
   "execution_count": null,
   "metadata": {},
   "outputs": [],
   "source": [
    "data={}\n",
    "for i in range(len(Supply)):\n",
    "    data[Syms[i]]={'volume': Vol[i], 'price': Price[i], 'supply': Supply[i]}"
   ]
  },
  {
   "cell_type": "code",
   "execution_count": null,
   "metadata": {},
   "outputs": [],
   "source": [
    "json_data=json.dumps(data)"
   ]
  },
  {
   "cell_type": "code",
   "execution_count": null,
   "metadata": {},
   "outputs": [],
   "source": [
    "with open('/home/fbuonerba/codes/meta_data/symbols.txt') as ff:\n",
    "    syms=json.load(ff)"
   ]
  },
  {
   "cell_type": "code",
   "execution_count": null,
   "metadata": {},
   "outputs": [],
   "source": [
    "import sys\n",
    "import numpy as np\n",
    "sys.path.insert(0, '/home/fbuonerba/codes/')\n",
    "from mp_functions import compute_log_marketcap as lmkcap\n",
    "lmkcap('MKR','USD', 1515283200,1525132800)"
   ]
  },
  {
   "cell_type": "code",
   "execution_count": null,
   "metadata": {
    "scrolled": false
   },
   "outputs": [
    {
     "name": "stdout",
     "output_type": "stream",
     "text": [
      "[707667.0042674866]\n",
      "[707667.0042674866, 1095686.5376750757]\n",
      "[707667.0042674866, 1095686.5376750757, 740074.0282272681]\n"
     ]
    }
   ],
   "source": [
    "import sys\n",
    "import numpy as np\n",
    "sys.path.insert(0, '/home/fbuonerba/codes/')\n",
    "from mp_functions import compute_turnover as ct\n",
    "from mp_functions import upload_ohlcv as uo\n",
    "#uo(1515283200, 'KRAKEN_SPOT_LIZA_USD', 7)\n",
    "ct('BTC','USD',1515283200,1523059200 )"
   ]
  },
  {
   "cell_type": "code",
   "execution_count": null,
   "metadata": {},
   "outputs": [],
   "source": [
    "import sys\n",
    "sys.path.insert(0, '/home/fbuonerba/codes/')\n",
    "from mp_functions import upload_coin_number as cn\n",
    "cn(1516492800,'LIZA')"
   ]
  },
  {
   "cell_type": "code",
   "execution_count": null,
   "metadata": {},
   "outputs": [],
   "source": []
  }
 ],
 "metadata": {
  "kernelspec": {
   "display_name": "Python 3",
   "language": "python",
   "name": "python3"
  },
  "language_info": {
   "codemirror_mode": {
    "name": "ipython",
    "version": 3
   },
   "file_extension": ".py",
   "mimetype": "text/x-python",
   "name": "python",
   "nbconvert_exporter": "python",
   "pygments_lexer": "ipython3",
   "version": "3.5.2"
  }
 },
 "nbformat": 4,
 "nbformat_minor": 2
}
