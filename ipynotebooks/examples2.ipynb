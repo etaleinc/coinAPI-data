{
 "cells": [
  {
   "cell_type": "code",
   "execution_count": 1,
   "metadata": {},
   "outputs": [],
   "source": [
    "import luigi\n",
    "import pandas as pd\n",
    "import numpy as np\n",
    "import sys\n",
    "sys.path.insert(0, '/home/fbuonerba/codes/')\n",
    "from coinapi_v1 import CoinAPIv1\n",
    "import datetime\n",
    "from datetime import datetime, timedelta\n",
    "import time\n",
    "import calendar\n",
    "import json\n",
    "import urllib.request\n",
    "import multiprocessing as mp\n",
    "\n",
    "test_key = 'DB318A59-25FF-499E-9A6D-783A19C346D8'\n",
    "\n",
    "#free test_key = 'EED0F746-36FB-4CC4-8E7C-527333DFA6FB'\n",
    "\n",
    "api = CoinAPIv1(test_key)\n",
    "\n",
    "meta_path='/home/fbuonerba/codes/meta_data/'\n",
    "with open(meta_path+'top_coins.txt') as f:\n",
    "    coins=json.load(f)\n",
    "with open(meta_path+'symbols.txt') as ff:\n",
    "    symbols=json.load(ff)\n",
    "\n",
    "quotes=['USD','BTC']"
   ]
  },
  {
   "cell_type": "code",
   "execution_count": null,
   "metadata": {},
   "outputs": [],
   "source": [
    "#coinAPI ohlcv data requires to use: symbols.txt#\n",
    "count=0\n",
    "for coi in coins:\n",
    "    for quote in quotes:\n",
    "        for ex in exchanges:\n",
    "            sym_id=str(ex)+'_SPOT_'+str(coi)+'_'+str(quote)\n",
    "            try:\n",
    "                api.ohlcv_latest_data(sym_id, {'period_id': '1MTH', 'limit': 1})\n",
    "                print(sym_id, 'success')\n",
    "            except urllib.error.HTTPError as err:\n",
    "                print(sym_id, 'error', err.code)\n",
    "                count+=1"
   ]
  },
  {
   "cell_type": "code",
   "execution_count": null,
   "metadata": {},
   "outputs": [],
   "source": [
    "#Getting data from CoinMarketCap#\n",
    "web_data= urllib.request.urlopen('https://api.coinmarketcap.com/v2/ticker/')\n",
    "cmc_data=web_data.read()\n",
    "cmc=json.loads(cmc_data.decode('utf-8'))\n",
    "cmc=cmc['data']\n",
    "xxx=list(cmc.values())\n",
    "#diction={}\n",
    "co=0\n",
    "for x in xxx:\n",
    "    if x['symbol'] in coins:\n",
    "        diction[x['id']]=x['symbol']\n",
    "        co+=1\n",
    "print(co, diction)"
   ]
  },
  {
   "cell_type": "code",
   "execution_count": null,
   "metadata": {},
   "outputs": [],
   "source": [
    "#Getting id of coins listed on CoinMarketCap which appear in our top_coins list.\n",
    "#start=100*n+1, since they limit to 100 coins per request.\n",
    "web_data1= urllib.request.urlopen('https://api.coinmarketcap.com/v2/ticker/?start=1701')\n",
    "cmc_data1=web_data1.read()\n",
    "cmc1=json.loads(cmc_data1.decode('utf-8'))\n",
    "cmc1=cmc1['data']\n",
    "co1=0\n",
    "xxx1=list(cmc1.values())\n",
    "for x in xxx1:\n",
    "    if x['symbol'] in coins:\n",
    "        print(x['symbol'])\n",
    "        diction[x['id']]=x['symbol']\n",
    "        co1+=1\n",
    "print(co1, diction, len(diction))"
   ]
  },
  {
   "cell_type": "code",
   "execution_count": null,
   "metadata": {},
   "outputs": [],
   "source": [
    "with open(meta_path+'symbols.txt') as ll:\n",
    "    symbols=json.load(ll)"
   ]
  },
  {
   "cell_type": "code",
   "execution_count": null,
   "metadata": {},
   "outputs": [],
   "source": [
    "import os\n",
    "count=0\n",
    "gcount=0\n",
    "S=os.listdir('/home/fbuonerba/ohlcv_data')\n",
    "for s in S:\n",
    "    for sym in symbols:\n",
    "        if sym in s:\n",
    "            gcount+=1\n",
    "            with open('/home/fbuonerba/ohlcv_data/' + s,'r') as file:\n",
    "                data=file.read()\n",
    "            if data=='{}':\n",
    "                count+=1\n",
    "                print(count/gcount)\n",
    "                "
   ]
  },
  {
   "cell_type": "code",
   "execution_count": null,
   "metadata": {},
   "outputs": [],
   "source": [
    "web_data= urllib.request.urlopen('https://coinmarketcap.com/historical/20180715/')\n",
    "cmc_data=web_data.read()#.decode('utf-8')"
   ]
  },
  {
   "cell_type": "code",
   "execution_count": null,
   "metadata": {},
   "outputs": [],
   "source": [
    "cmc_data"
   ]
  },
  {
   "cell_type": "code",
   "execution_count": null,
   "metadata": {},
   "outputs": [],
   "source": [
    "from bs4 import BeautifulSoup\n",
    "soup=BeautifulSoup(cmc_data, 'html.parser')"
   ]
  },
  {
   "cell_type": "code",
   "execution_count": null,
   "metadata": {},
   "outputs": [],
   "source": [
    "soup"
   ]
  },
  {
   "cell_type": "code",
   "execution_count": null,
   "metadata": {},
   "outputs": [],
   "source": [
    "So=soup.find_all('td')\n",
    "So"
   ]
  },
  {
   "cell_type": "code",
   "execution_count": null,
   "metadata": {},
   "outputs": [],
   "source": [
    "for x in So:\n",
    "    print(x.contents)"
   ]
  },
  {
   "cell_type": "code",
   "execution_count": null,
   "metadata": {},
   "outputs": [],
   "source": [
    "Vol=[]\n",
    "SoVolume=soup.find_all(class_='volume')\n",
    "for x in SoVolume:\n",
    "    x=x.contents[0].replace('$','').replace(',','')\n",
    "    x=x.replace('Low Vol','0')\n",
    "    x=int(float(x))\n",
    "    Vol.append(x)\n"
   ]
  },
  {
   "cell_type": "code",
   "execution_count": null,
   "metadata": {},
   "outputs": [],
   "source": [
    "Supply=[]\n",
    "SoSupply=soup.find_all('a',{'data-supply':True})\n",
    "for x in SoSupply:\n",
    "    x=x.contents[0].strip('\\n').replace(',','')\n",
    "    if '?' in x:\n",
    "        x=float('nan')\n",
    "    else:\n",
    "        x=int(float(x))\n",
    "    Supply.append(x)"
   ]
  },
  {
   "cell_type": "code",
   "execution_count": null,
   "metadata": {},
   "outputs": [],
   "source": [
    "Price=[]\n",
    "SoPrice=soup.find_all(class_='price')\n",
    "for x in SoPrice:\n",
    "    x=x.contents[0].replace('$','').replace(',','')\n",
    "    x=float(x)\n",
    "    Price.append(x)"
   ]
  },
  {
   "cell_type": "code",
   "execution_count": null,
   "metadata": {},
   "outputs": [],
   "source": [
    "Syms=[]\n",
    "SoSym=soup.find_all(class_=\"text-left col-symbol\")\n",
    "for x in SoSym:\n",
    "    x=str(x.contents[0])\n",
    "    Syms.append(x)\n",
    "\n"
   ]
  },
  {
   "cell_type": "code",
   "execution_count": null,
   "metadata": {},
   "outputs": [],
   "source": [
    "data={}\n",
    "for i in range(len(Supply)):\n",
    "    data[Syms[i]]={'volume': Vol[i], 'price': Price[i], 'supply': Supply[i]}"
   ]
  },
  {
   "cell_type": "code",
   "execution_count": null,
   "metadata": {},
   "outputs": [],
   "source": [
    "json_data=json.dumps(data)"
   ]
  },
  {
   "cell_type": "code",
   "execution_count": null,
   "metadata": {},
   "outputs": [],
   "source": [
    "with open('/home/fbuonerba/codes/meta_data/symbols.txt') as ff:\n",
    "    syms=json.load(ff)"
   ]
  },
  {
   "cell_type": "code",
   "execution_count": null,
   "metadata": {},
   "outputs": [],
   "source": [
    "import sys\n",
    "import numpy as np\n",
    "sys.path.insert(0, '/home/fbuonerba/codes/')\n",
    "from mp_functions import compute_log_marketcap as lmkcap\n",
    "lmkcap('MKR','USD', 1515283200,1525132800)"
   ]
  },
  {
   "cell_type": "code",
   "execution_count": null,
   "metadata": {
    "scrolled": false
   },
   "outputs": [],
   "source": [
    "import sys\n",
    "import numpy as np\n",
    "import json\n",
    "sys.path.insert(0, '/home/fbuonerba/codes/')\n",
    "from mp_functions import compute_log_marketcap as clm\n",
    "\n",
    "with open('/home/fbuonerba/codes/meta_data/top_coins.txt') as ff:\n",
    "    coins=json.load(ff)\n",
    "clm('EUR','USD',1515283200,1522540800)\n",
    "for coin in coins:\n",
    "    x=clm(str(coin),'USD',1515283200,1522540800)\n",
    "    print(coin, x)"
   ]
  },
  {
   "cell_type": "code",
   "execution_count": 2,
   "metadata": {},
   "outputs": [
    {
     "name": "stdout",
     "output_type": "stream",
     "text": [
      "BTC BTC 0\n",
      "ETH BTC 0\n",
      "ETH BTC 1515283200 [7536466.006176567]\n",
      "ETH BTC 1515888000 [7536466.006176567, 5722686.316071061]\n",
      "ETH BTC 1516492800 [7536466.006176567, 5722686.316071061, 3527715.4308143836]\n",
      "ETH BTC 1517097600 [7536466.006176567, 5722686.316071061, 3527715.4308143836, 3623499.4795913748]\n",
      "ETH BTC 1517702400 [7536466.006176567, 5722686.316071061, 3527715.4308143836, 3623499.4795913748, 4386831.4089558]\n",
      "ETH BTC 1518307200 [7536466.006176567, 5722686.316071061, 3527715.4308143836, 3623499.4795913748, 4386831.4089558, 2726739.7343385434]\n",
      "ETH BTC 1518912000 [7536466.006176567, 5722686.316071061, 3527715.4308143836, 3623499.4795913748, 4386831.4089558, 2726739.7343385434, 2248133.7292801663]\n",
      "ETH BTC 1519516800 [7536466.006176567, 5722686.316071061, 3527715.4308143836, 3623499.4795913748, 4386831.4089558, 2726739.7343385434, 2248133.7292801663, 1901979.6706804852]\n",
      "ETH BTC 1520121600 [7536466.006176567, 5722686.316071061, 3527715.4308143836, 3623499.4795913748, 4386831.4089558, 2726739.7343385434, 2248133.7292801663, 1901979.6706804852, 2011593.3767270134]\n",
      "ETH BTC 1520726400 [7536466.006176567, 5722686.316071061, 3527715.4308143836, 3623499.4795913748, 4386831.4089558, 2726739.7343385434, 2248133.7292801663, 1901979.6706804852, 2011593.3767270134, 2019342.0754318787]\n",
      "ETH BTC 1521331200 [7536466.006176567, 5722686.316071061, 3527715.4308143836, 3623499.4795913748, 4386831.4089558, 2726739.7343385434, 2248133.7292801663, 1901979.6706804852, 2011593.3767270134, 2019342.0754318787, 2524586.8942855475]\n",
      "ETH BTC 1521936000 [7536466.006176567, 5722686.316071061, 3527715.4308143836, 3623499.4795913748, 4386831.4089558, 2726739.7343385434, 2248133.7292801663, 1901979.6706804852, 2011593.3767270134, 2019342.0754318787, 2524586.8942855475, 2566395.4421343817]\n",
      "ETH BTC 1522540800 [7536466.006176567, 5722686.316071061, 3527715.4308143836, 3623499.4795913748, 4386831.4089558, 2726739.7343385434, 2248133.7292801663, 1901979.6706804852, 2011593.3767270134, 2019342.0754318787, 2524586.8942855475, 2566395.4421343817, 2230794.4361298233]\n",
      "1523145600 ETH BTC turnover= 0.44046494456714297\n",
      "294.8440763950348\n",
      "XRP BTC 0\n",
      "XRP BTC 1515283200 [2240991632.8411293]\n",
      "XRP BTC 1515888000 [2240991632.8411293, 2370778565.1350274]\n",
      "XRP BTC 1516492800 [2240991632.8411293, 2370778565.1350274, 1073478361.1535879]\n",
      "XRP BTC 1517097600 [2240991632.8411293, 2370778565.1350274, 1073478361.1535879, 969354451.2468929]\n",
      "XRP BTC 1517702400 [2240991632.8411293, 2370778565.1350274, 1073478361.1535879, 969354451.2468929, 1275538144.1452022]\n",
      "XRP BTC 1518307200 [2240991632.8411293, 2370778565.1350274, 1073478361.1535879, 969354451.2468929, 1275538144.1452022, 900110975.6042074]\n",
      "XRP BTC 1518912000 [2240991632.8411293, 2370778565.1350274, 1073478361.1535879, 969354451.2468929, 1275538144.1452022, 900110975.6042074, 700683285.6103525]\n",
      "XRP BTC 1519516800 [2240991632.8411293, 2370778565.1350274, 1073478361.1535879, 969354451.2468929, 1275538144.1452022, 900110975.6042074, 700683285.6103525, 429602247.36868614]\n",
      "XRP BTC 1520121600 [2240991632.8411293, 2370778565.1350274, 1073478361.1535879, 969354451.2468929, 1275538144.1452022, 900110975.6042074, 700683285.6103525, 429602247.36868614, 996998073.1374186]\n",
      "XRP BTC 1520726400 [2240991632.8411293, 2370778565.1350274, 1073478361.1535879, 969354451.2468929, 1275538144.1452022, 900110975.6042074, 700683285.6103525, 429602247.36868614, 996998073.1374186, 629328201.3472949]\n",
      "XRP BTC 1521331200 [2240991632.8411293, 2370778565.1350274, 1073478361.1535879, 969354451.2468929, 1275538144.1452022, 900110975.6042074, 700683285.6103525, 429602247.36868614, 996998073.1374186, 629328201.3472949, 809635460.4927971]\n",
      "XRP BTC 1521936000 [2240991632.8411293, 2370778565.1350274, 1073478361.1535879, 969354451.2468929, 1275538144.1452022, 900110975.6042074, 700683285.6103525, 429602247.36868614, 996998073.1374186, 629328201.3472949, 809635460.4927971, 634179237.8366256]\n",
      "XRP BTC 1522540800 [2240991632.8411293, 2370778565.1350274, 1073478361.1535879, 969354451.2468929, 1275538144.1452022, 900110975.6042074, 700683285.6103525, 429602247.36868614, 996998073.1374186, 629328201.3472949, 809635460.4927971, 634179237.8366256, 678400657.8862622]\n",
      "1523145600 XRP BTC turnover= 0.35183170983047063\n",
      "144.10019826889038\n",
      "LTC BTC 0\n",
      "LTC BTC 1515283200 [6590639.594323065]\n",
      "LTC BTC 1515888000 [6590639.594323065, 6305049.833735341]\n",
      "LTC BTC 1516492800 [6590639.594323065, 6305049.833735341, 3055348.941158226]\n",
      "LTC BTC 1517097600 [6590639.594323065, 6305049.833735341, 3055348.941158226, 3668066.6852936116]\n",
      "LTC BTC 1517702400 [6590639.594323065, 6305049.833735341, 3055348.941158226, 3668066.6852936116, 8772049.129219903]\n",
      "LTC BTC 1518307200 [6590639.594323065, 6305049.833735341, 3055348.941158226, 3668066.6852936116, 8772049.129219903, 7759623.254730203]\n",
      "LTC BTC 1518912000 [6590639.594323065, 6305049.833735341, 3055348.941158226, 3668066.6852936116, 8772049.129219903, 7759623.254730203, 5093549.725842129]\n",
      "LTC BTC 1519516800 [6590639.594323065, 6305049.833735341, 3055348.941158226, 3668066.6852936116, 8772049.129219903, 7759623.254730203, 5093549.725842129, 4280507.575377294]\n",
      "LTC BTC 1520121600 [6590639.594323065, 6305049.833735341, 3055348.941158226, 3668066.6852936116, 8772049.129219903, 7759623.254730203, 5093549.725842129, 4280507.575377294, 3816823.5184592996]\n",
      "LTC BTC 1521331200 [6590639.594323065, 6305049.833735341, 3055348.941158226, 3668066.6852936116, 8772049.129219903, 7759623.254730203, 5093549.725842129, 4280507.575377294, 3816823.5184592996, 3478808.0786415846, 2904008.80878748]\n",
      "LTC BTC 1521936000 [6590639.594323065, 6305049.833735341, 3055348.941158226, 3668066.6852936116, 8772049.129219903, 7759623.254730203, 5093549.725842129, 4280507.575377294, 3816823.5184592996, 3478808.0786415846, 2904008.80878748, 3223583.5617488297]\n",
      "LTC BTC 1522540800 [6590639.594323065, 6305049.833735341, 3055348.941158226, 3668066.6852936116, 8772049.129219903, 7759623.254730203, 5093549.725842129, 4280507.575377294, 3816823.5184592996, 3478808.0786415846, 2904008.80878748, 3223583.5617488297, 2546555.5030168286]\n",
      "1523145600 LTC BTC turnover= 1.1127161644062171\n",
      "281.8914749622345\n",
      "BCH BTC 0\n",
      "BCH BTC 1515283200 [1553764.0511497231]\n",
      "BCH BTC 1515888000 [1553764.0511497231, 2043690.168487484]\n",
      "BCH BTC 1516492800 [1553764.0511497231, 2043690.168487484, 1193225.1333647696]\n",
      "BCH BTC 1517097600 [1553764.0511497231, 2043690.168487484, 1193225.1333647696, 1095410.3816105637]\n",
      "BCH BTC 1517702400 [1553764.0511497231, 2043690.168487484, 1193225.1333647696, 1095410.3816105637, 2243344.818687086]\n",
      "BCH BTC 1518307200 [1553764.0511497231, 2043690.168487484, 1193225.1333647696, 1095410.3816105637, 2243344.818687086, 868190.3042641132]\n",
      "BCH BTC 1518912000 [1553764.0511497231, 2043690.168487484, 1193225.1333647696, 1095410.3816105637, 2243344.818687086, 868190.3042641132, 654511.6616139144]\n",
      "BCH BTC 1519516800 [1553764.0511497231, 2043690.168487484, 1193225.1333647696, 1095410.3816105637, 2243344.818687086, 868190.3042641132, 654511.6616139144, 553412.4863337161]\n",
      "BCH BTC 1520121600 [1553764.0511497231, 2043690.168487484, 1193225.1333647696, 1095410.3816105637, 2243344.818687086, 868190.3042641132, 654511.6616139144, 553412.4863337161, 599873.2186374118]\n",
      "BCH BTC 1520726400 [1553764.0511497231, 2043690.168487484, 1193225.1333647696, 1095410.3816105637, 2243344.818687086, 868190.3042641132, 654511.6616139144, 553412.4863337161, 599873.2186374118, 760854.2309594713]\n",
      "BCH BTC 1521331200 [1553764.0511497231, 2043690.168487484, 1193225.1333647696, 1095410.3816105637, 2243344.818687086, 868190.3042641132, 654511.6616139144, 553412.4863337161, 599873.2186374118, 760854.2309594713, 571162.0197234139]\n",
      "BCH BTC 1521936000 [1553764.0511497231, 2043690.168487484, 1193225.1333647696, 1095410.3816105637, 2243344.818687086, 868190.3042641132, 654511.6616139144, 553412.4863337161, 599873.2186374118, 760854.2309594713, 571162.0197234139, 633465.3083177434]\n",
      "BCH BTC 1522540800 [1553764.0511497231, 2043690.168487484, 1193225.1333647696, 1095410.3816105637, 2243344.818687086, 868190.3042641132, 654511.6616139144, 553412.4863337161, 599873.2186374118, 760854.2309594713, 571162.0197234139, 633465.3083177434, 661503.0697089441]\n",
      "1523145600 BCH BTC turnover= 0.7913739852128118\n",
      "290.9233889579773\n",
      "EOS BTC 0\n"
     ]
    },
    {
     "name": "stdout",
     "output_type": "stream",
     "text": [
      "EOS BTC 1515283200 [70528852.34543173]\n",
      "EOS BTC 1515888000 [70528852.34543173, 69934919.09044231]\n",
      "EOS BTC 1516492800 [70528852.34543173, 69934919.09044231, 54837838.33454993]\n",
      "EOS BTC 1517097600 [70528852.34543173, 69934919.09044231, 54837838.33454993, 36816385.88714906]\n",
      "EOS BTC 1517702400 [70528852.34543173, 69934919.09044231, 54837838.33454993, 36816385.88714906, 38004429.294557855]\n",
      "EOS BTC 1518307200 [70528852.34543173, 69934919.09044231, 54837838.33454993, 36816385.88714906, 38004429.294557855, 25368672.020384192]\n",
      "EOS BTC 1518912000 [70528852.34543173, 69934919.09044231, 54837838.33454993, 36816385.88714906, 38004429.294557855, 25368672.020384192, 20424077.218018625]\n",
      "EOS BTC 1519516800 [70528852.34543173, 69934919.09044231, 54837838.33454993, 36816385.88714906, 38004429.294557855, 25368672.020384192, 20424077.218018625, 19907346.39453597]\n",
      "EOS BTC 1520121600 [70528852.34543173, 69934919.09044231, 54837838.33454993, 36816385.88714906, 38004429.294557855, 25368672.020384192, 20424077.218018625, 19907346.39453597, 27716070.303366173]\n",
      "EOS BTC 1520726400 [70528852.34543173, 69934919.09044231, 54837838.33454993, 36816385.88714906, 38004429.294557855, 25368672.020384192, 20424077.218018625, 19907346.39453597, 27716070.303366173, 30211946.498668913]\n",
      "EOS BTC 1521331200 [70528852.34543173, 69934919.09044231, 54837838.33454993, 36816385.88714906, 38004429.294557855, 25368672.020384192, 20424077.218018625, 19907346.39453597, 27716070.303366173, 30211946.498668913, 68626837.03417766]\n"
     ]
    },
    {
     "ename": "URLError",
     "evalue": "<urlopen error [SSL: SSLV3_ALERT_HANDSHAKE_FAILURE] sslv3 alert handshake failure (_ssl.c:645)>",
     "output_type": "error",
     "traceback": [
      "\u001b[0;31m---------------------------------------------------------------------------\u001b[0m",
      "\u001b[0;31mRemoteTraceback\u001b[0m                           Traceback (most recent call last)",
      "\u001b[0;31mRemoteTraceback\u001b[0m: \n\"\"\"\nTraceback (most recent call last):\n  File \"/home/fbuonerba/codes/mp_functions.py\", line 114, in upload_ohlcv\n    with open(path+sym_id+'_'+str(unix_time)+'_'+str(unix_time+86400)+'.txt') as json_file:\nFileNotFoundError: [Errno 2] No such file or directory: '/home/fbuonerba/ohlcv_data/GATEIO_SPOT_EOS_BTC_1522108800_1522195200.txt'\n\nDuring handling of the above exception, another exception occurred:\n\nTraceback (most recent call last):\n  File \"/usr/lib/python3.5/urllib/request.py\", line 1254, in do_open\n    h.request(req.get_method(), req.selector, req.data, headers)\n  File \"/usr/lib/python3.5/http/client.py\", line 1106, in request\n    self._send_request(method, url, body, headers)\n  File \"/usr/lib/python3.5/http/client.py\", line 1151, in _send_request\n    self.endheaders(body)\n  File \"/usr/lib/python3.5/http/client.py\", line 1102, in endheaders\n    self._send_output(message_body)\n  File \"/usr/lib/python3.5/http/client.py\", line 934, in _send_output\n    self.send(msg)\n  File \"/usr/lib/python3.5/http/client.py\", line 877, in send\n    self.connect()\n  File \"/usr/lib/python3.5/http/client.py\", line 1260, in connect\n    server_hostname=server_hostname)\n  File \"/usr/lib/python3.5/ssl.py\", line 377, in wrap_socket\n    _context=self)\n  File \"/usr/lib/python3.5/ssl.py\", line 752, in __init__\n    self.do_handshake()\n  File \"/usr/lib/python3.5/ssl.py\", line 988, in do_handshake\n    self._sslobj.do_handshake()\n  File \"/usr/lib/python3.5/ssl.py\", line 633, in do_handshake\n    self._sslobj.do_handshake()\nssl.SSLError: [SSL: SSLV3_ALERT_HANDSHAKE_FAILURE] sslv3 alert handshake failure (_ssl.c:645)\n\nDuring handling of the above exception, another exception occurred:\n\nTraceback (most recent call last):\n  File \"/usr/lib/python3.5/multiprocessing/pool.py\", line 119, in worker\n    result = (True, func(*args, **kwds))\n  File \"/home/fbuonerba/codes/mp_functions.py\", line 117, in upload_ohlcv\n    ohlcv=request_ohlcv(unix_time, sym_id, limit)\n  File \"/home/fbuonerba/codes/mp_functions.py\", line 76, in request_ohlcv\n    ohlcv=api.ohlcv_historical_data(sym_id, {'period_id': '1DAY', 'time_start':utctime, 'limit': limit})\n  File \"/home/fbuonerba/codes/coinapi_v1.py\", line 263, in ohlcv_historical_data\n    return client.perform()\n  File \"/home/fbuonerba/codes/coinapi_v1.py\", line 22, in perform\n    handler = urllib.request.urlopen(request)\n  File \"/usr/lib/python3.5/urllib/request.py\", line 163, in urlopen\n    return opener.open(url, data, timeout)\n  File \"/usr/lib/python3.5/urllib/request.py\", line 466, in open\n    response = self._open(req, data)\n  File \"/usr/lib/python3.5/urllib/request.py\", line 484, in _open\n    '_open', req)\n  File \"/usr/lib/python3.5/urllib/request.py\", line 444, in _call_chain\n    result = func(*args)\n  File \"/usr/lib/python3.5/urllib/request.py\", line 1297, in https_open\n    context=self._context, check_hostname=self._check_hostname)\n  File \"/usr/lib/python3.5/urllib/request.py\", line 1256, in do_open\n    raise URLError(err)\nurllib.error.URLError: <urlopen error [SSL: SSLV3_ALERT_HANDSHAKE_FAILURE] sslv3 alert handshake failure (_ssl.c:645)>\n\"\"\"",
      "\nThe above exception was the direct cause of the following exception:\n",
      "\u001b[0;31mURLError\u001b[0m                                  Traceback (most recent call last)",
      "\u001b[0;32m<ipython-input-2-3eb52341481c>\u001b[0m in \u001b[0;36m<module>\u001b[0;34m()\u001b[0m\n\u001b[1;32m     10\u001b[0m             \u001b[0;32mif\u001b[0m \u001b[0;34m[\u001b[0m\u001b[0mbase\u001b[0m\u001b[0;34m,\u001b[0m\u001b[0mquote\u001b[0m\u001b[0;34m]\u001b[0m\u001b[0;34m!=\u001b[0m\u001b[0;34m[\u001b[0m\u001b[0;34m'BTC'\u001b[0m\u001b[0;34m,\u001b[0m\u001b[0;34m'BTC'\u001b[0m\u001b[0;34m]\u001b[0m \u001b[0;32mand\u001b[0m \u001b[0;34m[\u001b[0m\u001b[0mbase\u001b[0m\u001b[0;34m,\u001b[0m\u001b[0mquote\u001b[0m\u001b[0;34m]\u001b[0m\u001b[0;34m!=\u001b[0m\u001b[0;34m[\u001b[0m\u001b[0;34m'BTC'\u001b[0m\u001b[0;34m,\u001b[0m\u001b[0;34m'USD'\u001b[0m\u001b[0;34m]\u001b[0m \u001b[0;32mand\u001b[0m \u001b[0;34m[\u001b[0m\u001b[0mbase\u001b[0m\u001b[0;34m,\u001b[0m\u001b[0mquote\u001b[0m\u001b[0;34m]\u001b[0m\u001b[0;34m!=\u001b[0m\u001b[0;34m[\u001b[0m\u001b[0;34m'ETH'\u001b[0m\u001b[0;34m,\u001b[0m\u001b[0;34m'USD'\u001b[0m\u001b[0;34m]\u001b[0m\u001b[0;34m:\u001b[0m\u001b[0;34m\u001b[0m\u001b[0m\n\u001b[1;32m     11\u001b[0m                 \u001b[0msss\u001b[0m\u001b[0;34m=\u001b[0m\u001b[0mtime\u001b[0m\u001b[0;34m.\u001b[0m\u001b[0mtime\u001b[0m\u001b[0;34m(\u001b[0m\u001b[0;34m)\u001b[0m\u001b[0;34m\u001b[0m\u001b[0m\n\u001b[0;32m---> 12\u001b[0;31m                 \u001b[0mct\u001b[0m\u001b[0;34m(\u001b[0m\u001b[0mbase\u001b[0m\u001b[0;34m,\u001b[0m \u001b[0mquote\u001b[0m\u001b[0;34m,\u001b[0m \u001b[0mbeg\u001b[0m\u001b[0;34m[\u001b[0m\u001b[0mt\u001b[0m\u001b[0;34m]\u001b[0m\u001b[0;34m,\u001b[0m\u001b[0mend\u001b[0m\u001b[0;34m[\u001b[0m\u001b[0mt\u001b[0m\u001b[0;34m]\u001b[0m\u001b[0;34m)\u001b[0m\u001b[0;34m\u001b[0m\u001b[0m\n\u001b[0m\u001b[1;32m     13\u001b[0m                 \u001b[0mprint\u001b[0m\u001b[0;34m(\u001b[0m\u001b[0mtime\u001b[0m\u001b[0;34m.\u001b[0m\u001b[0mtime\u001b[0m\u001b[0;34m(\u001b[0m\u001b[0;34m)\u001b[0m\u001b[0;34m-\u001b[0m\u001b[0msss\u001b[0m\u001b[0;34m)\u001b[0m\u001b[0;34m\u001b[0m\u001b[0m\n",
      "\u001b[0;32m~/codes/mp_functions.py\u001b[0m in \u001b[0;36mcompute_turnover\u001b[0;34m(base, quote, begin, end)\u001b[0m\n\u001b[1;32m    334\u001b[0m         \u001b[0;31m#do it in parallel to speed up multiple ohlcv requests\u001b[0m\u001b[0;34m\u001b[0m\u001b[0;34m\u001b[0m\u001b[0m\n\u001b[1;32m    335\u001b[0m         \u001b[0mresults\u001b[0m\u001b[0;34m=\u001b[0m\u001b[0;34m[\u001b[0m\u001b[0mpool\u001b[0m\u001b[0;34m.\u001b[0m\u001b[0mapply_async\u001b[0m\u001b[0;34m(\u001b[0m\u001b[0mupload_ohlcv\u001b[0m\u001b[0;34m,\u001b[0m \u001b[0margs\u001b[0m\u001b[0;34m=\u001b[0m\u001b[0;34m(\u001b[0m\u001b[0mt\u001b[0m\u001b[0;34m+\u001b[0m\u001b[0;36m86400\u001b[0m\u001b[0;34m*\u001b[0m\u001b[0mj\u001b[0m\u001b[0;34m,\u001b[0m\u001b[0msymbol\u001b[0m\u001b[0;34m,\u001b[0m\u001b[0;36m1\u001b[0m\u001b[0;34m,\u001b[0m\u001b[0;34m)\u001b[0m\u001b[0;34m)\u001b[0m \u001b[0;32mfor\u001b[0m \u001b[0msymbol\u001b[0m \u001b[0;32min\u001b[0m \u001b[0mit_symbols\u001b[0m \u001b[0;32mfor\u001b[0m \u001b[0mj\u001b[0m \u001b[0;32min\u001b[0m \u001b[0mrange\u001b[0m\u001b[0;34m(\u001b[0m\u001b[0;36m7\u001b[0m\u001b[0;34m)\u001b[0m\u001b[0;34m]\u001b[0m\u001b[0;34m\u001b[0m\u001b[0m\n\u001b[0;32m--> 336\u001b[0;31m         \u001b[0moutput\u001b[0m\u001b[0;34m=\u001b[0m\u001b[0;34m[\u001b[0m\u001b[0mres\u001b[0m\u001b[0;34m.\u001b[0m\u001b[0mget\u001b[0m\u001b[0;34m(\u001b[0m\u001b[0;34m)\u001b[0m \u001b[0;32mfor\u001b[0m \u001b[0mres\u001b[0m \u001b[0;32min\u001b[0m \u001b[0mresults\u001b[0m\u001b[0;34m]\u001b[0m\u001b[0;34m\u001b[0m\u001b[0m\n\u001b[0m\u001b[1;32m    337\u001b[0m         \u001b[0;32mfor\u001b[0m \u001b[0mout\u001b[0m \u001b[0;32min\u001b[0m \u001b[0moutput\u001b[0m\u001b[0;34m:\u001b[0m\u001b[0;34m\u001b[0m\u001b[0m\n\u001b[1;32m    338\u001b[0m             \u001b[0;32mif\u001b[0m \u001b[0mout\u001b[0m\u001b[0;34m!=\u001b[0m\u001b[0;34m[\u001b[0m\u001b[0;34m]\u001b[0m\u001b[0;34m:\u001b[0m\u001b[0;34m\u001b[0m\u001b[0m\n",
      "\u001b[0;32m~/codes/mp_functions.py\u001b[0m in \u001b[0;36m<listcomp>\u001b[0;34m(.0)\u001b[0m\n\u001b[1;32m    334\u001b[0m         \u001b[0;31m#do it in parallel to speed up multiple ohlcv requests\u001b[0m\u001b[0;34m\u001b[0m\u001b[0;34m\u001b[0m\u001b[0m\n\u001b[1;32m    335\u001b[0m         \u001b[0mresults\u001b[0m\u001b[0;34m=\u001b[0m\u001b[0;34m[\u001b[0m\u001b[0mpool\u001b[0m\u001b[0;34m.\u001b[0m\u001b[0mapply_async\u001b[0m\u001b[0;34m(\u001b[0m\u001b[0mupload_ohlcv\u001b[0m\u001b[0;34m,\u001b[0m \u001b[0margs\u001b[0m\u001b[0;34m=\u001b[0m\u001b[0;34m(\u001b[0m\u001b[0mt\u001b[0m\u001b[0;34m+\u001b[0m\u001b[0;36m86400\u001b[0m\u001b[0;34m*\u001b[0m\u001b[0mj\u001b[0m\u001b[0;34m,\u001b[0m\u001b[0msymbol\u001b[0m\u001b[0;34m,\u001b[0m\u001b[0;36m1\u001b[0m\u001b[0;34m,\u001b[0m\u001b[0;34m)\u001b[0m\u001b[0;34m)\u001b[0m \u001b[0;32mfor\u001b[0m \u001b[0msymbol\u001b[0m \u001b[0;32min\u001b[0m \u001b[0mit_symbols\u001b[0m \u001b[0;32mfor\u001b[0m \u001b[0mj\u001b[0m \u001b[0;32min\u001b[0m \u001b[0mrange\u001b[0m\u001b[0;34m(\u001b[0m\u001b[0;36m7\u001b[0m\u001b[0;34m)\u001b[0m\u001b[0;34m]\u001b[0m\u001b[0;34m\u001b[0m\u001b[0m\n\u001b[0;32m--> 336\u001b[0;31m         \u001b[0moutput\u001b[0m\u001b[0;34m=\u001b[0m\u001b[0;34m[\u001b[0m\u001b[0mres\u001b[0m\u001b[0;34m.\u001b[0m\u001b[0mget\u001b[0m\u001b[0;34m(\u001b[0m\u001b[0;34m)\u001b[0m \u001b[0;32mfor\u001b[0m \u001b[0mres\u001b[0m \u001b[0;32min\u001b[0m \u001b[0mresults\u001b[0m\u001b[0;34m]\u001b[0m\u001b[0;34m\u001b[0m\u001b[0m\n\u001b[0m\u001b[1;32m    337\u001b[0m         \u001b[0;32mfor\u001b[0m \u001b[0mout\u001b[0m \u001b[0;32min\u001b[0m \u001b[0moutput\u001b[0m\u001b[0;34m:\u001b[0m\u001b[0;34m\u001b[0m\u001b[0m\n\u001b[1;32m    338\u001b[0m             \u001b[0;32mif\u001b[0m \u001b[0mout\u001b[0m\u001b[0;34m!=\u001b[0m\u001b[0;34m[\u001b[0m\u001b[0;34m]\u001b[0m\u001b[0;34m:\u001b[0m\u001b[0;34m\u001b[0m\u001b[0m\n",
      "\u001b[0;32m/usr/lib/python3.5/multiprocessing/pool.py\u001b[0m in \u001b[0;36mget\u001b[0;34m(self, timeout)\u001b[0m\n\u001b[1;32m    606\u001b[0m             \u001b[0;32mreturn\u001b[0m \u001b[0mself\u001b[0m\u001b[0;34m.\u001b[0m\u001b[0m_value\u001b[0m\u001b[0;34m\u001b[0m\u001b[0m\n\u001b[1;32m    607\u001b[0m         \u001b[0;32melse\u001b[0m\u001b[0;34m:\u001b[0m\u001b[0;34m\u001b[0m\u001b[0m\n\u001b[0;32m--> 608\u001b[0;31m             \u001b[0;32mraise\u001b[0m \u001b[0mself\u001b[0m\u001b[0;34m.\u001b[0m\u001b[0m_value\u001b[0m\u001b[0;34m\u001b[0m\u001b[0m\n\u001b[0m\u001b[1;32m    609\u001b[0m \u001b[0;34m\u001b[0m\u001b[0m\n\u001b[1;32m    610\u001b[0m     \u001b[0;32mdef\u001b[0m \u001b[0m_set\u001b[0m\u001b[0;34m(\u001b[0m\u001b[0mself\u001b[0m\u001b[0;34m,\u001b[0m \u001b[0mi\u001b[0m\u001b[0;34m,\u001b[0m \u001b[0mobj\u001b[0m\u001b[0;34m)\u001b[0m\u001b[0;34m:\u001b[0m\u001b[0;34m\u001b[0m\u001b[0m\n",
      "\u001b[0;31mURLError\u001b[0m: <urlopen error [SSL: SSLV3_ALERT_HANDSHAKE_FAILURE] sslv3 alert handshake failure (_ssl.c:645)>"
     ]
    }
   ],
   "source": [
    "from mp_functions import compute_turnover as ct\n",
    "quotes=['BTC','USD']\n",
    "freq=604800\n",
    "beg=[1515283200+freq*t for t in range(16)]\n",
    "end=[1522540800+freq*t for t in range(16)]\n",
    "\n",
    "\n",
    "            print(base,quote,t)\n",
    "            if [base,quote]!=['BTC','BTC'] and [base,quote]!=['BTC','USD'] and [base,quote]!=['ETH','USD']:\n",
    "                sss=time.time()\n",
    "                ct(base, quote, beg[t],end[t])\n",
    "                print(time.time()-sss)"
   ]
  },
  {
   "cell_type": "code",
   "execution_count": null,
   "metadata": {},
   "outputs": [],
   "source": []
  }
 ],
 "metadata": {
  "kernelspec": {
   "display_name": "Python 3",
   "language": "python",
   "name": "python3"
  },
  "language_info": {
   "codemirror_mode": {
    "name": "ipython",
    "version": 3
   },
   "file_extension": ".py",
   "mimetype": "text/x-python",
   "name": "python",
   "nbconvert_exporter": "python",
   "pygments_lexer": "ipython3",
   "version": "3.5.2"
  }
 },
 "nbformat": 4,
 "nbformat_minor": 2
}
