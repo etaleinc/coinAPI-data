{
 "cells": [
  {
   "cell_type": "code",
   "execution_count": 1,
   "metadata": {},
   "outputs": [],
   "source": [
    "import luigi\n",
    "import pandas as pd\n",
    "import numpy as np\n",
    "import sys\n",
    "sys.path.insert(0, '/home/fbuonerba/codes/')\n",
    "from coinapi_v1 import CoinAPIv1\n",
    "import datetime\n",
    "from datetime import datetime, timedelta\n",
    "import time\n",
    "import calendar\n",
    "import json\n",
    "import urllib.request\n",
    "import multiprocessing as mp\n",
    "\n",
    "test_key = 'DB318A59-25FF-499E-9A6D-783A19C346D8'\n",
    "\n",
    "#free test_key = 'EED0F746-36FB-4CC4-8E7C-527333DFA6FB'\n",
    "\n",
    "api = CoinAPIv1(test_key)\n",
    "\n",
    "meta_path='/home/fbuonerba/codes/meta_data/'\n",
    "with open(meta_path+'top_coins.txt') as f:\n",
    "    coins=json.load(f)\n",
    "with open(meta_path+'top_exchanges.txt') as ff:\n",
    "    exchanges=json.load(ff)\n",
    "quotes=['USD','BTC']"
   ]
  },
  {
   "cell_type": "code",
   "execution_count": null,
   "metadata": {},
   "outputs": [],
   "source": [
    "#Luigi version.\n",
    "#this task downloads data (by luigi default, if it does not exist already).\n",
    "class request_exchange_rates(luigi.Task):\n",
    "    unix_time=luigi.Parameter()\n",
    "    base=luigi.Parameter()\n",
    "    quote=luigi.Parameter()\n",
    "    path='/home/fbuonerba/exchange_rates_data/'\n",
    "    def requires(self):\n",
    "        return None\n",
    "    def output(self):\n",
    "        return luigi.LocalTarget(self.path+'exchange_rate_'+str(self.base)+'_'+str(self.quote)+'_'+str(self.unix_time)+'.txt')\n",
    "    def run(self):\n",
    "        while True:\n",
    "            try: \n",
    "                utctime = datetime.utcfromtimestamp(self.unix_time).strftime('%Y-%m-%dT%H:%M:%S')\n",
    "                exchange=api.exchange_rates_get_specific_rate(self.base, self.quote, {'time': utctime})\n",
    "                with self.output().open('w') as outfile:\n",
    "                    json.dump(exchange, outfile) \n",
    "                print('okokokokokok', self.unix_time)\n",
    "                break\n",
    "            except urllib.error.HTTPError as err:\n",
    "                print('AAAAAAAAAAAAAAAAAAAA', err, self.unix_time)\n",
    "                time.sleep(30)\n",
    "            \n",
    "        \n",
    "    "
   ]
  },
  {
   "cell_type": "code",
   "execution_count": null,
   "metadata": {
    "scrolled": false
   },
   "outputs": [],
   "source": [
    "unix_time= 1529985000\n",
    "#1586918800  1529954000\n",
    "while True:\n",
    "    luigi.build([request_exchange_rates(unix_time + 600*t, base='ETH', quote='USD') for t in range(2)], workers=2, local_scheduler=True)\n",
    "    unix_time+=1200\n",
    "    #luigi.build([request_exchange_rates(unix_time + 600*t, base='ETH', quote='USD') for t in range(100)], workers=1, local_scheduler=True)\n",
    "    "
   ]
  },
  {
   "cell_type": "code",
   "execution_count": null,
   "metadata": {},
   "outputs": [],
   "source": [
    "######GET TOP 50 COINS#######"
   ]
  },
  {
   "cell_type": "code",
   "execution_count": null,
   "metadata": {},
   "outputs": [],
   "source": [
    "usd_sym=[]\n",
    "for sym in symbols:\n",
    "    if sym['asset_id_quote']=='USD':\n",
    "        usd_sym.append(sym['symbol_id'])\n",
    "\n",
    "usd_sym"
   ]
  },
  {
   "cell_type": "code",
   "execution_count": null,
   "metadata": {},
   "outputs": [],
   "source": [
    "########THIS REQUIRES PLENTY OF REQUESTS#########\n",
    "#dicti={}\n",
    "#for sym in usd_sym:\n",
    "#    print(sym)\n",
    "#    dicti[sym]=api.ohlcv_latest_data(sym, {'period_id': '1DAY', 'limit':1})"
   ]
  },
  {
   "cell_type": "code",
   "execution_count": null,
   "metadata": {},
   "outputs": [],
   "source": [
    "assets = api.metadata_list_assets()\n",
    "symbols = api.metadata_list_symbols()\n",
    "exchanges = api.metadata_list_exchanges()"
   ]
  },
  {
   "cell_type": "code",
   "execution_count": null,
   "metadata": {},
   "outputs": [],
   "source": [
    "with open('/home/fbuonerba/codes/some_ohlcv.txt') as ff:\n",
    "    dicti=json.load(ff)\n",
    "\n",
    "dicti['BITSTAMP_SPOT_BTC_USD']"
   ]
  },
  {
   "cell_type": "code",
   "execution_count": null,
   "metadata": {},
   "outputs": [],
   "source": [
    "d={}\n",
    "for asse in assets:\n",
    "    asse_sum=0\n",
    "    for sym in symbols:\n",
    "        if sym['asset_id_quote']=='USD' and sym['asset_id_base']==asse['asset_id'] and sym['symbol_type']=='SPOT':\n",
    "            s=sym['symbol_id']\n",
    "            if (s in dicti) and dicti[s]!=[]:\n",
    "                average=dicti[sym['symbol_id']][0]['price_high']+dicti[sym['symbol_id']][0]['price_low']\n",
    "                asse_sum=asse_sum + dicti[sym['symbol_id']][0]['volume_traded']*average\n",
    "    d[asse['asset_id']]=asse_sum\n"
   ]
  },
  {
   "cell_type": "code",
   "execution_count": null,
   "metadata": {},
   "outputs": [],
   "source": [
    "items = [(v, k) for k, v in d.items()]\n",
    "items.sort()\n",
    "items.reverse()             # so largest is first\n",
    "items = [(k, v) for v, k in items]\n",
    "top_coins=[fin[0] for fin in items[0:50]]\n",
    "top_coins"
   ]
  },
  {
   "cell_type": "code",
   "execution_count": null,
   "metadata": {},
   "outputs": [],
   "source": [
    "with open('top_coins.txt','w') as file:\n",
    "    json.dump(top_coins,file)\n"
   ]
  },
  {
   "cell_type": "code",
   "execution_count": null,
   "metadata": {},
   "outputs": [],
   "source": [
    "top_exchanges=['BINANCE','BITFINEX','HUOBI','COINBASE','OKEX','BITSTAMP','HITBTC','BITHUMB','POLONIEX','KRAKEN']\n",
    "\n",
    "with open('/home/fbuonerba/codes/top_exchanges.txt','w') as file:\n",
    "    json.dump(top_exchanges,file)"
   ]
  },
  {
   "cell_type": "code",
   "execution_count": null,
   "metadata": {},
   "outputs": [],
   "source": [
    "with open('/home/fbuonerba/codes/meta_data/top_coins.txt') as file:\n",
    "    top_coins=json.load(file)"
   ]
  },
  {
   "cell_type": "code",
   "execution_count": null,
   "metadata": {},
   "outputs": [],
   "source": [
    "top_coins+=['ADA','BNB']"
   ]
  },
  {
   "cell_type": "code",
   "execution_count": null,
   "metadata": {},
   "outputs": [],
   "source": [
    "with open('/home/fbuonerba/codes/meta_data/top_coins.txt','w') as file:\n",
    "    json.dump(top_coins,file)"
   ]
  },
  {
   "cell_type": "code",
   "execution_count": null,
   "metadata": {},
   "outputs": [],
   "source": [
    "import os\n",
    "count=0\n",
    "S=os.listdir('/home/fbuonerba/log_returns_data')\n",
    "for s in S[100:200]:\n",
    "    with open('/home/fbuonerba/log_returns_data/' + s,'r') as file:\n",
    "        data=file.read()\n",
    "    if data=='{}':\n",
    "        data=data.replace('{}','NaN')\n",
    "    with open('/home/fbuonerba/log_returns_data/' + s,'w') as file:\n",
    "        file.write(data)\n",
    "    \n",
    "        \n",
    "    "
   ]
  }
 ],
 "metadata": {
  "kernelspec": {
   "display_name": "Python 3",
   "language": "python",
   "name": "python3"
  },
  "language_info": {
   "codemirror_mode": {
    "name": "ipython",
    "version": 3
   },
   "file_extension": ".py",
   "mimetype": "text/x-python",
   "name": "python",
   "nbconvert_exporter": "python",
   "pygments_lexer": "ipython3",
   "version": "3.5.2"
  }
 },
 "nbformat": 4,
 "nbformat_minor": 2
}
