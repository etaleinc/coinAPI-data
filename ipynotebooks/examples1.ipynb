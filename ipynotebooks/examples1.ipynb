{
 "cells": [
  {
   "cell_type": "code",
   "execution_count": 12,
   "metadata": {},
   "outputs": [],
   "source": [
    "import luigi\n",
    "import pandas as pd\n",
    "import numpy as np\n",
    "import sys\n",
    "sys.path.insert(0, '/home/fbuonerba/codes/')\n",
    "from coinapi_v1 import CoinAPIv1\n",
    "import datetime\n",
    "from datetime import datetime, timedelta\n",
    "import time\n",
    "import calendar\n",
    "import json\n",
    "import urllib.request\n",
    "import multiprocessing as mp\n",
    "\n",
    "#REALtest_key = 'DB318A59-25FF-499E-9A6D-783A19C346D8'\n",
    "\n",
    "test_key = 'EED0F746-36FB-4CC4-8E7C-527333DFA6FB'\n",
    "\n",
    "api = CoinAPIv1(test_key)\n",
    "\n",
    "meta_path='/home/fbuonerba/codes/meta_data/'\n",
    "with open(meta_path+'top_coins.txt') as f:\n",
    "    coins=json.load(f)\n",
    "with open(meta_path+'symbols.txt') as ff:\n",
    "    symbols=json.load(ff)\n",
    "quotes=['USD','BTC']"
   ]
  },
  {
   "cell_type": "code",
   "execution_count": 14,
   "metadata": {},
   "outputs": [
    {
     "data": {
      "text/plain": [
       "893"
      ]
     },
     "execution_count": 14,
     "metadata": {},
     "output_type": "execute_result"
    }
   ],
   "source": [
    "len(symbols)"
   ]
  },
  {
   "cell_type": "code",
   "execution_count": null,
   "metadata": {},
   "outputs": [],
   "source": [
    "#Luigi version.\n",
    "#this task downloads data (by luigi default, if it does not exist already).\n",
    "class request_exchange_rates(luigi.Task):\n",
    "    unix_time=luigi.Parameter()\n",
    "    base=luigi.Parameter()\n",
    "    quote=luigi.Parameter()\n",
    "    path='/home/fbuonerba/exchange_rates_data/'\n",
    "    def requires(self):\n",
    "        return None\n",
    "    def output(self):\n",
    "        return luigi.LocalTarget(self.path+'exchange_rate_'+str(self.base)+'_'+str(self.quote)+'_'+str(self.unix_time)+'.txt')\n",
    "    def run(self):\n",
    "        while True:\n",
    "            try: \n",
    "                utctime = datetime.utcfromtimestamp(self.unix_time).strftime('%Y-%m-%dT%H:%M:%S')\n",
    "                exchange=api.exchange_rates_get_specific_rate(self.base, self.quote, {'time': utctime})\n",
    "                with self.output().open('w') as outfile:\n",
    "                    json.dump(exchange, outfile) \n",
    "                print('okokokokokok', self.unix_time)\n",
    "                break\n",
    "            except urllib.error.HTTPError as err:\n",
    "                print('AAAAAAAAAAAAAAAAAAAA', err, self.unix_time)\n",
    "                time.sleep(30)\n",
    "            \n",
    "        \n",
    "    "
   ]
  },
  {
   "cell_type": "code",
   "execution_count": null,
   "metadata": {
    "scrolled": false
   },
   "outputs": [],
   "source": [
    "unix_time= 1529985000\n",
    "#1586918800  1529954000\n",
    "while True:\n",
    "    luigi.build([request_exchange_rates(unix_time + 600*t, base='ETH', quote='USD') for t in range(2)], workers=2, local_scheduler=True)\n",
    "    unix_time+=1200\n",
    "    #luigi.build([request_exchange_rates(unix_time + 600*t, base='ETH', quote='USD') for t in range(100)], workers=1, local_scheduler=True)\n",
    "    "
   ]
  },
  {
   "cell_type": "code",
   "execution_count": null,
   "metadata": {},
   "outputs": [],
   "source": [
    "######GET TOP 50 COINS#######"
   ]
  },
  {
   "cell_type": "code",
   "execution_count": null,
   "metadata": {},
   "outputs": [],
   "source": [
    "usd_sym=[]\n",
    "for sym in symbols:\n",
    "    if sym['asset_id_quote']=='USD':\n",
    "        usd_sym.append(sym['symbol_id'])\n",
    "\n",
    "usd_sym"
   ]
  },
  {
   "cell_type": "code",
   "execution_count": null,
   "metadata": {},
   "outputs": [],
   "source": [
    "########THIS REQUIRES PLENTY OF REQUESTS#########\n",
    "#dicti={}\n",
    "#for sym in usd_sym:\n",
    "#    print(sym)\n",
    "#    dicti[sym]=api.ohlcv_latest_data(sym, {'period_id': '1DAY', 'limit':1})"
   ]
  },
  {
   "cell_type": "code",
   "execution_count": null,
   "metadata": {},
   "outputs": [],
   "source": [
    "assets = api.metadata_list_assets()\n",
    "symbols = api.metadata_list_symbols()\n",
    "exchanges = api.metadata_list_exchanges()"
   ]
  },
  {
   "cell_type": "code",
   "execution_count": null,
   "metadata": {},
   "outputs": [],
   "source": [
    "with open('/home/fbuonerba/codes/some_ohlcv.txt') as ff:\n",
    "    dicti=json.load(ff)\n",
    "\n",
    "dicti['BITSTAMP_SPOT_BTC_USD']"
   ]
  },
  {
   "cell_type": "code",
   "execution_count": null,
   "metadata": {},
   "outputs": [],
   "source": [
    "d={}\n",
    "for asse in assets:\n",
    "    asse_sum=0\n",
    "    for sym in symbols:\n",
    "        if sym['asset_id_quote']=='USD' and sym['asset_id_base']==asse['asset_id'] and sym['symbol_type']=='SPOT':\n",
    "            s=sym['symbol_id']\n",
    "            if (s in dicti) and dicti[s]!=[]:\n",
    "                average=dicti[sym['symbol_id']][0]['price_high']+dicti[sym['symbol_id']][0]['price_low']\n",
    "                asse_sum=asse_sum + dicti[sym['symbol_id']][0]['volume_traded']*average\n",
    "    d[asse['asset_id']]=asse_sum\n"
   ]
  },
  {
   "cell_type": "code",
   "execution_count": null,
   "metadata": {},
   "outputs": [],
   "source": [
    "items = [(v, k) for k, v in d.items()]\n",
    "items.sort()\n",
    "items.reverse()             # so largest is first\n",
    "items = [(k, v) for v, k in items]\n",
    "top_coins=[fin[0] for fin in items[0:50]]\n",
    "top_coins"
   ]
  },
  {
   "cell_type": "code",
   "execution_count": null,
   "metadata": {},
   "outputs": [],
   "source": [
    "with open('top_coins.txt','w') as file:\n",
    "    json.dump(top_coins,file)\n"
   ]
  },
  {
   "cell_type": "code",
   "execution_count": null,
   "metadata": {},
   "outputs": [],
   "source": [
    "top_exchanges=['BINANCE','BITFINEX','HUOBI','COINBASE','OKEX','BITSTAMP','HITBTC','BITHUMB','POLONIEX','KRAKEN']\n",
    "\n",
    "with open('/home/fbuonerba/codes/top_exchanges.txt','w') as file:\n",
    "    json.dump(top_exchanges,file)"
   ]
  },
  {
   "cell_type": "code",
   "execution_count": null,
   "metadata": {},
   "outputs": [],
   "source": [
    "with open('/home/fbuonerba/codes/meta_data/top_coins.txt') as file:\n",
    "    top_coins=json.load(file)"
   ]
  },
  {
   "cell_type": "code",
   "execution_count": null,
   "metadata": {},
   "outputs": [],
   "source": [
    "top_coins+=['ADA','BNB']"
   ]
  },
  {
   "cell_type": "code",
   "execution_count": null,
   "metadata": {},
   "outputs": [],
   "source": [
    "with open('/home/fbuonerba/codes/meta_data/top_coins.txt','w') as file:\n",
    "    json.dump(top_coins,file)"
   ]
  },
  {
   "cell_type": "code",
   "execution_count": null,
   "metadata": {},
   "outputs": [],
   "source": [
    "import os\n",
    "count=0\n",
    "S=os.listdir('/home/fbuonerba/log_returns_data')\n",
    "for s in S[100:200]:\n",
    "    with open('/home/fbuonerba/log_returns_data/' + s,'r') as file:\n",
    "        data=file.read()\n",
    "    if data=='{}':\n",
    "        data=data.replace('{}','NaN')\n",
    "    with open('/home/fbuonerba/log_returns_data/' + s,'w') as file:\n",
    "        file.write(data)\n",
    "    \n",
    "        \n",
    "    "
   ]
  },
  {
   "cell_type": "code",
   "execution_count": 4,
   "metadata": {},
   "outputs": [],
   "source": [
    "unix_time=1522540800\n",
    "utctime = datetime.utcfromtimestamp(unix_time).strftime('%Y-%m-%dT%H:%M:%S')\n",
    "ohlcv=api.ohlcv_historical_data('BINANCE_SPOT_WAVES_BTC', {'period_id': '1DAY', 'time_start':utctime})"
   ]
  },
  {
   "cell_type": "code",
   "execution_count": 11,
   "metadata": {},
   "outputs": [
    {
     "name": "stdout",
     "output_type": "stream",
     "text": [
      "BTC HTTP Error 400: Bad Request\n",
      "ETH [{'price_high': 0.057034, 'time_period_start': '2018-03-26T00:00:00.0000000Z', 'price_close': 0.055546, 'time_close': '2018-04-01T23:59:58.1160000Z', 'volume_traded': 105545.911, 'time_open': '2018-04-01T00:00:01.0950000Z', 'time_period_end': '2018-04-02T00:00:00.0000000Z', 'price_low': 0.0551, 'trades_count': 203935, 'price_open': 0.05686}, {'price_high': 0.057261, 'time_period_start': '2018-04-02T00:00:00.0000000Z', 'price_close': 0.05709, 'time_close': '2018-04-08T23:59:59.1590000Z', 'volume_traded': 828397.858, 'time_open': '2018-04-02T00:00:00.4350000Z', 'time_period_end': '2018-04-09T00:00:00.0000000Z', 'price_low': 0.053672, 'trades_count': 2147478, 'price_open': 0.055545}, {'price_high': 0.064686, 'time_period_start': '2018-04-09T00:00:00.0000000Z', 'price_close': 0.063889, 'time_close': '2018-04-15T23:59:59.3290000Z', 'volume_traded': 972927.867, 'time_open': '2018-04-09T00:00:00.6140000Z', 'time_period_end': '2018-04-16T00:00:00.0000000Z', 'price_low': 0.056991, 'trades_count': 1643784, 'price_open': 0.05709}, {'price_high': 0.072665, 'time_period_start': '2018-04-16T00:00:00.0000000Z', 'price_close': 0.070652, 'time_close': '2018-04-22T23:59:59.3080000Z', 'volume_traded': 1019382.287, 'time_open': '2018-04-16T00:00:00.6160000Z', 'time_period_end': '2018-04-23T00:00:00.0000000Z', 'price_low': 0.062874, 'trades_count': 2167767, 'price_open': 0.063957}, {'price_high': 0.075759, 'time_period_start': '2018-04-23T00:00:00.0000000Z', 'price_close': 0.073316, 'time_close': '2018-04-29T23:59:59.3270000Z', 'volume_traded': 1088088.402, 'time_open': '2018-04-23T00:00:00.1660000Z', 'time_period_end': '2018-04-30T00:00:00.0000000Z', 'price_low': 0.066688, 'trades_count': 2368036, 'price_open': 0.070652}, {'price_high': 0.084669, 'time_period_start': '2018-04-30T00:00:00.0000000Z', 'price_close': 0.0822, 'time_close': '2018-05-06T23:59:59.6530000Z', 'volume_traded': 1171108.316, 'time_open': '2018-04-30T00:00:00.2600000Z', 'time_period_end': '2018-05-07T00:00:00.0000000Z', 'price_low': 0.070492, 'trades_count': 2568153, 'price_open': 0.073316}, {'price_high': 0.085433, 'time_period_start': '2018-05-07T00:00:00.0000000Z', 'price_close': 0.084004, 'time_close': '2018-05-13T23:59:59.2670000Z', 'volume_traded': 1090742.784, 'time_open': '2018-05-07T00:00:00.1960000Z', 'time_period_end': '2018-05-14T00:00:00.0000000Z', 'price_low': 0.07595, 'trades_count': 2264341, 'price_open': 0.0822}, {'price_high': 0.085901, 'time_period_start': '2018-05-14T00:00:00.0000000Z', 'price_close': 0.083917, 'time_close': '2018-05-20T23:59:59.1060000Z', 'volume_traded': 740895.573, 'time_open': '2018-05-14T00:00:00.0120000Z', 'time_period_end': '2018-05-21T00:00:00.0000000Z', 'price_low': 0.082409, 'trades_count': 1520675, 'price_open': 0.084004}, {'price_high': 0.084386, 'time_period_start': '2018-05-21T00:00:00.0000000Z', 'price_close': 0.077714, 'time_close': '2018-05-27T23:59:59.1150000Z', 'volume_traded': 810549.331, 'time_open': '2018-05-21T00:00:00.3290000Z', 'time_period_end': '2018-05-28T00:00:00.0000000Z', 'price_low': 0.0753, 'trades_count': 1436892, 'price_open': 0.083917}, {'price_high': 0.080857, 'time_period_start': '2018-05-28T00:00:00.0000000Z', 'price_close': 0.080234, 'time_close': '2018-06-03T23:59:59.9370000Z', 'volume_traded': 860238.407, 'time_open': '2018-05-28T00:00:00.6510000Z', 'time_period_end': '2018-06-04T00:00:00.0000000Z', 'price_low': 0.0715, 'trades_count': 1270460, 'price_open': 0.077768}, {'price_high': 0.080799, 'time_period_start': '2018-06-04T00:00:00.0000000Z', 'price_close': 0.07754, 'time_close': '2018-06-10T23:59:59.6010000Z', 'volume_traded': 772029.876, 'time_open': '2018-06-04T00:00:00.0770000Z', 'time_period_end': '2018-06-11T00:00:00.0000000Z', 'price_low': 0.0755, 'trades_count': 1281891, 'price_open': 0.080299}, {'price_high': 0.079096, 'time_period_start': '2018-06-11T00:00:00.0000000Z', 'price_close': 0.077072, 'time_close': '2018-06-17T23:59:59.6230000Z', 'volume_traded': 781405.719, 'time_open': '2018-06-11T00:00:00.1150000Z', 'time_period_end': '2018-06-18T00:00:00.0000000Z', 'price_low': 0.07225, 'trades_count': 1287181, 'price_open': 0.077482}, {'price_high': 0.080394, 'time_period_start': '2018-06-18T00:00:00.0000000Z', 'price_close': 0.074027, 'time_close': '2018-06-24T23:59:59.3450000Z', 'volume_traded': 708718.587, 'time_open': '2018-06-18T00:00:00.3070000Z', 'time_period_end': '2018-06-25T00:00:00.0000000Z', 'price_low': 0.0727, 'trades_count': 1176138, 'price_open': 0.07706}, {'price_high': 0.075563, 'time_period_start': '2018-06-25T00:00:00.0000000Z', 'price_close': 0.071152, 'time_close': '2018-07-01T23:59:59.5320000Z', 'volume_traded': 672911.148, 'time_open': '2018-06-25T00:00:01.4590000Z', 'time_period_end': '2018-07-02T00:00:00.0000000Z', 'price_low': 0.0691, 'trades_count': 911008, 'price_open': 0.074028}, {'price_high': 0.073104, 'time_period_start': '2018-07-02T00:00:00.0000000Z', 'price_close': 0.072534, 'time_close': '2018-07-08T23:59:59.7340000Z', 'volume_traded': 730334.667, 'time_open': '2018-07-02T00:00:01.1270000Z', 'time_period_end': '2018-07-09T00:00:00.0000000Z', 'price_low': 0.070008, 'trades_count': 1127847, 'price_open': 0.071199}]\n",
      "XRP [{'price_high': 7.23e-05, 'time_period_start': '2018-03-26T00:00:00.0000000Z', 'price_close': 7.018e-05, 'time_close': '2018-04-01T23:59:59.1490000Z', 'volume_traded': 41405471.0, 'time_open': '2018-04-01T00:00:07.2610000Z', 'time_period_end': '2018-04-02T00:00:00.0000000Z', 'price_low': 7.016e-05, 'trades_count': 39542, 'price_open': 7.23e-05}, {'price_high': 7.465e-05, 'time_period_start': '2018-04-02T00:00:00.0000000Z', 'price_close': 7.087e-05, 'time_close': '2018-04-08T23:59:59.7730000Z', 'volume_traded': 333189076.0, 'time_open': '2018-04-02T00:00:06.2580000Z', 'time_period_end': '2018-04-09T00:00:00.0000000Z', 'price_low': 6.882e-05, 'trades_count': 332004, 'price_open': 7.019e-05}, {'price_high': 8.735e-05, 'time_period_start': '2018-04-09T00:00:00.0000000Z', 'price_close': 8.301e-05, 'time_close': '2018-04-15T23:59:57.3620000Z', 'volume_traded': 570019545.0, 'time_open': '2018-04-09T00:00:02.3600000Z', 'time_period_end': '2018-04-16T00:00:00.0000000Z', 'price_low': 7.046e-05, 'trades_count': 639644, 'price_open': 7.085e-05}, {'price_high': 0.00011008, 'time_period_start': '2018-04-16T00:00:00.0000000Z', 'price_close': 9.804e-05, 'time_close': '2018-04-22T23:59:59.5100000Z', 'volume_traded': 695033078.0, 'time_open': '2018-04-16T00:00:01.8490000Z', 'time_period_end': '2018-04-23T00:00:00.0000000Z', 'price_low': 8.051e-05, 'trades_count': 888013, 'price_open': 8.303e-05}, {'price_high': 0.00010222, 'time_period_start': '2018-04-23T00:00:00.0000000Z', 'price_close': 9.217e-05, 'time_close': '2018-04-29T23:59:59.5310000Z', 'volume_traded': 609742257.0, 'time_open': '2018-04-23T00:00:01.1300000Z', 'time_period_end': '2018-04-30T00:00:00.0000000Z', 'price_low': 8.65e-05, 'trades_count': 828115, 'price_open': 9.813e-05}, {'price_high': 9.555e-05, 'time_period_start': '2018-04-30T00:00:00.0000000Z', 'price_close': 8.957e-05, 'time_close': '2018-05-06T23:59:52.8770000Z', 'volume_traded': 505768036.0, 'time_open': '2018-04-30T00:00:00.6120000Z', 'time_period_end': '2018-05-07T00:00:00.0000000Z', 'price_low': 8.757e-05, 'trades_count': 677915, 'price_open': 9.221e-05}, {'price_high': 8.967e-05, 'time_period_start': '2018-05-07T00:00:00.0000000Z', 'price_close': 8.414e-05, 'time_close': '2018-05-13T23:59:57.4720000Z', 'volume_traded': 304759036.0, 'time_open': '2018-05-07T00:00:00.2070000Z', 'time_period_end': '2018-05-14T00:00:00.0000000Z', 'price_low': 7.492e-05, 'trades_count': 500689, 'price_open': 8.947e-05}, {'price_high': 8.579e-05, 'time_period_start': '2018-05-14T00:00:00.0000000Z', 'price_close': 8.206e-05, 'time_close': '2018-05-20T23:59:59.4080000Z', 'volume_traded': 220493251.0, 'time_open': '2018-05-14T00:00:01.7110000Z', 'time_period_end': '2018-05-21T00:00:00.0000000Z', 'price_low': 8.035e-05, 'trades_count': 354880, 'price_open': 8.404e-05}, {'price_high': 8.39e-05, 'time_period_start': '2018-05-21T00:00:00.0000000Z', 'price_close': 8.226e-05, 'time_close': '2018-05-27T23:59:58.7620000Z', 'volume_traded': 210034520.0, 'time_open': '2018-05-21T00:00:00.0080000Z', 'time_period_end': '2018-05-28T00:00:00.0000000Z', 'price_low': 7.66e-05, 'trades_count': 328763, 'price_open': 8.207e-05}, {'price_high': 8.947e-05, 'time_period_start': '2018-05-28T00:00:00.0000000Z', 'price_close': 8.941e-05, 'time_close': '2018-06-03T23:59:59.7350000Z', 'volume_traded': 196381442.0, 'time_open': '2018-05-28T00:00:02.1770000Z', 'time_period_end': '2018-06-04T00:00:00.0000000Z', 'price_low': 7.7e-05, 'trades_count': 311504, 'price_open': 8.229e-05}, {'price_high': 9.119e-05, 'time_period_start': '2018-06-04T00:00:00.0000000Z', 'price_close': 8.595e-05, 'time_close': '2018-06-10T23:59:58.2170000Z', 'volume_traded': 170139471.0, 'time_open': '2018-06-04T00:00:00.1430000Z', 'time_period_end': '2018-06-11T00:00:00.0000000Z', 'price_low': 8.253e-05, 'trades_count': 284602, 'price_open': 8.939e-05}, {'price_high': 8.73e-05, 'time_period_start': '2018-06-11T00:00:00.0000000Z', 'price_close': 8.16e-05, 'time_close': '2018-06-17T23:59:59.5870000Z', 'volume_traded': 136068727.0, 'time_open': '2018-06-11T00:00:00.1410000Z', 'time_period_end': '2018-06-18T00:00:00.0000000Z', 'price_low': 8.029e-05, 'trades_count': 228053, 'price_open': 8.603e-05}, {'price_high': 8.232e-05, 'time_period_start': '2018-06-18T00:00:00.0000000Z', 'price_close': 7.727e-05, 'time_close': '2018-06-24T23:59:58.8620000Z', 'volume_traded': 259089124.0, 'time_open': '2018-06-18T00:00:00.7500000Z', 'time_period_end': '2018-06-25T00:00:00.0000000Z', 'price_low': 7.608e-05, 'trades_count': 262444, 'price_open': 8.168e-05}, {'price_high': 7.864e-05, 'time_period_start': '2018-06-25T00:00:00.0000000Z', 'price_close': 7.271e-05, 'time_close': '2018-07-01T23:59:58.2430000Z', 'volume_traded': 241591379.0, 'time_open': '2018-06-25T00:00:00.5080000Z', 'time_period_end': '2018-07-02T00:00:00.0000000Z', 'price_low': 7.145e-05, 'trades_count': 218456, 'price_open': 7.725e-05}, {'price_high': 7.814e-05, 'time_period_start': '2018-07-02T00:00:00.0000000Z', 'price_close': 7.136e-05, 'time_close': '2018-07-08T23:59:58.9010000Z', 'volume_traded': 271746335.0, 'time_open': '2018-07-02T00:00:02.4640000Z', 'time_period_end': '2018-07-09T00:00:00.0000000Z', 'price_low': 7.08e-05, 'trades_count': 266784, 'price_open': 7.262e-05}]\n"
     ]
    },
    {
     "name": "stdout",
     "output_type": "stream",
     "text": [
      "LTC [{'price_high': 0.017125, 'time_period_start': '2018-03-26T00:00:00.0000000Z', 'price_close': 0.01686, 'time_close': '2018-04-01T23:59:55.0980000Z', 'volume_traded': 88434.95, 'time_open': '2018-04-01T00:00:15.4080000Z', 'time_period_end': '2018-04-02T00:00:00.0000000Z', 'price_low': 0.0166, 'trades_count': 26510, 'price_open': 0.016764}, {'price_high': 0.0183, 'time_period_start': '2018-04-02T00:00:00.0000000Z', 'price_close': 0.016751, 'time_close': '2018-04-08T23:59:59.1230000Z', 'volume_traded': 686526.02, 'time_open': '2018-04-02T00:00:01.6870000Z', 'time_period_end': '2018-04-09T00:00:00.0000000Z', 'price_low': 0.016608, 'trades_count': 218412, 'price_open': 0.016856}, {'price_high': 0.017169, 'time_period_start': '2018-04-09T00:00:00.0000000Z', 'price_close': 0.015851, 'time_close': '2018-04-15T23:59:58.2420000Z', 'volume_traded': 641428.7, 'time_open': '2018-04-09T00:00:01.0070000Z', 'time_period_end': '2018-04-16T00:00:00.0000000Z', 'price_low': 0.015651, 'trades_count': 247434, 'price_open': 0.016752}, {'price_high': 0.017989, 'time_period_start': '2018-04-16T00:00:00.0000000Z', 'price_close': 0.016663, 'time_close': '2018-04-22T23:59:57.7550000Z', 'volume_traded': 1020473.66, 'time_open': '2018-04-16T00:00:00.6510000Z', 'time_period_end': '2018-04-23T00:00:00.0000000Z', 'price_low': 0.0157, 'trades_count': 384102, 'price_open': 0.015851}, {'price_high': 0.01776, 'time_period_start': '2018-04-23T00:00:00.0000000Z', 'price_close': 0.016303, 'time_close': '2018-04-29T23:59:58.0800000Z', 'volume_traded': 1047877.96, 'time_open': '2018-04-23T00:00:03.5090000Z', 'time_period_end': '2018-04-30T00:00:00.0000000Z', 'price_low': 0.015915, 'trades_count': 363640, 'price_open': 0.016665}, {'price_high': 0.018601, 'time_period_start': '2018-04-30T00:00:00.0000000Z', 'price_close': 0.017835, 'time_close': '2018-05-06T23:59:54.3290000Z', 'volume_traded': 1533413.94, 'time_open': '2018-04-30T00:00:00.0940000Z', 'time_period_end': '2018-05-07T00:00:00.0000000Z', 'price_low': 0.015964, 'trades_count': 493108, 'price_open': 0.016301}, {'price_high': 0.01788, 'time_period_start': '2018-05-07T00:00:00.0000000Z', 'price_close': 0.016629, 'time_close': '2018-05-13T23:59:58.1540000Z', 'volume_traded': 1040862.85, 'time_open': '2018-05-07T00:00:01.1190000Z', 'time_period_end': '2018-05-14T00:00:00.0000000Z', 'price_low': 0.015939, 'trades_count': 325087, 'price_open': 0.017847}, {'price_high': 0.017319, 'time_period_start': '2018-05-14T00:00:00.0000000Z', 'price_close': 0.01639, 'time_close': '2018-05-20T23:59:41.8730000Z', 'volume_traded': 938158.18, 'time_open': '2018-05-14T00:00:00.1590000Z', 'time_period_end': '2018-05-21T00:00:00.0000000Z', 'price_low': 0.01612, 'trades_count': 270747, 'price_open': 0.016629}, {'price_high': 0.016448, 'time_period_start': '2018-05-21T00:00:00.0000000Z', 'price_close': 0.016031, 'time_close': '2018-05-27T23:59:59.6770000Z', 'volume_traded': 705637.46, 'time_open': '2018-05-21T00:00:02.9380000Z', 'time_period_end': '2018-05-28T00:00:00.0000000Z', 'price_low': 0.01548, 'trades_count': 210159, 'price_open': 0.01639}, {'price_high': 0.016518, 'time_period_start': '2018-05-28T00:00:00.0000000Z', 'price_close': 0.016211, 'time_close': '2018-06-03T23:59:58.4730000Z', 'volume_traded': 951718.39, 'time_open': '2018-05-28T00:00:04.3290000Z', 'time_period_end': '2018-06-04T00:00:00.0000000Z', 'price_low': 0.01552, 'trades_count': 231873, 'price_open': 0.016031}, {'price_high': 0.0164, 'time_period_start': '2018-06-04T00:00:00.0000000Z', 'price_close': 0.015744, 'time_close': '2018-06-10T23:59:53.4880000Z', 'volume_traded': 1034509.97, 'time_open': '2018-06-04T00:00:03.0030000Z', 'time_period_end': '2018-06-11T00:00:00.0000000Z', 'price_low': 0.015407, 'trades_count': 219069, 'price_open': 0.016212}, {'price_high': 0.015985, 'time_period_start': '2018-06-11T00:00:00.0000000Z', 'price_close': 0.014721, 'time_close': '2018-06-17T23:59:50.9680000Z', 'volume_traded': 1075110.88, 'time_open': '2018-06-11T00:00:00.4610000Z', 'time_period_end': '2018-06-18T00:00:00.0000000Z', 'price_low': 0.014338, 'trades_count': 238690, 'price_open': 0.015747}, {'price_high': 0.01504, 'time_period_start': '2018-06-18T00:00:00.0000000Z', 'price_close': 0.013086, 'time_close': '2018-06-24T23:59:55.5470000Z', 'volume_traded': 1046421.37, 'time_open': '2018-06-18T00:00:00.1010000Z', 'time_period_end': '2018-06-25T00:00:00.0000000Z', 'price_low': 0.012668, 'trades_count': 239909, 'price_open': 0.014721}, {'price_high': 0.013396, 'time_period_start': '2018-06-25T00:00:00.0000000Z', 'price_close': 0.012564, 'time_close': '2018-07-01T23:59:57.4120000Z', 'volume_traded': 909435.91, 'time_open': '2018-06-25T00:00:01.1170000Z', 'time_period_end': '2018-07-02T00:00:00.0000000Z', 'price_low': 0.012344, 'trades_count': 203723, 'price_open': 0.013099}, {'price_high': 0.01352, 'time_period_start': '2018-07-02T00:00:00.0000000Z', 'price_close': 0.012262, 'time_close': '2018-07-08T23:59:49.8310000Z', 'volume_traded': 1000485.82, 'time_open': '2018-07-02T00:00:02.9780000Z', 'time_period_end': '2018-07-09T00:00:00.0000000Z', 'price_low': 0.01218, 'trades_count': 215595, 'price_open': 0.012556}]\n",
      "BCH [{'price_high': 0.100059, 'time_period_start': '2018-03-26T00:00:00.0000000Z', 'price_close': 0.094299, 'time_close': '2018-04-01T23:59:39.5630000Z', 'volume_traded': 17301.439, 'time_open': '2018-04-01T00:00:02.6820000Z', 'time_period_end': '2018-04-02T00:00:00.0000000Z', 'price_low': 0.094005, 'trades_count': 28291, 'price_open': 0.098498}, {'price_high': 0.097845, 'time_period_start': '2018-04-02T00:00:00.0000000Z', 'price_close': 0.093113, 'time_close': '2018-04-08T23:59:58.5210000Z', 'volume_traded': 103936.467, 'time_open': '2018-04-02T00:01:07.2020000Z', 'time_period_end': '2018-04-09T00:00:00.0000000Z', 'price_low': 0.09115, 'trades_count': 143796, 'price_open': 0.094298}, {'price_high': 0.0985, 'time_period_start': '2018-04-09T00:00:00.0000000Z', 'price_close': 0.093485, 'time_close': '2018-04-15T23:59:54.1040000Z', 'volume_traded': 111259.107, 'time_open': '2018-04-09T00:00:05.5420000Z', 'time_period_end': '2018-04-16T00:00:00.0000000Z', 'price_low': 0.090892, 'trades_count': 172912, 'price_open': 0.093113}, {'price_high': 0.14075, 'time_period_start': '2018-04-16T00:00:00.0000000Z', 'price_close': 0.135926, 'time_close': '2018-04-22T23:59:56.0910000Z', 'volume_traded': 250072.101, 'time_open': '2018-04-16T00:00:04.8040000Z', 'time_period_end': '2018-04-23T00:00:00.0000000Z', 'price_low': 0.093221, 'trades_count': 504838, 'price_open': 0.093486}, {'price_high': 0.170903, 'time_period_start': '2018-04-23T00:00:00.0000000Z', 'price_close': 0.152891, 'time_close': '2018-04-29T23:59:59.5510000Z', 'volume_traded': 338838.705, 'time_open': '2018-04-23T00:00:01.9860000Z', 'time_period_end': '2018-04-30T00:00:00.0000000Z', 'price_low': 0.135501, 'trades_count': 756287, 'price_open': 0.135926}, {'price_high': 0.18579, 'time_period_start': '2018-04-30T00:00:00.0000000Z', 'price_close': 0.1823, 'time_close': '2018-05-06T23:59:52.4300000Z', 'volume_traded': 231655.752, 'time_open': '2018-04-30T00:00:00.7810000Z', 'time_period_end': '2018-05-07T00:00:00.0000000Z', 'price_low': 0.138941, 'trades_count': 503772, 'price_open': 0.152927}, {'price_high': 0.184584, 'time_period_start': '2018-05-07T00:00:00.0000000Z', 'price_close': 0.170003, 'time_close': '2018-05-13T23:59:48.6510000Z', 'volume_traded': 181889.019, 'time_open': '2018-05-07T00:00:00.2180000Z', 'time_period_end': '2018-05-14T00:00:00.0000000Z', 'price_low': 0.154522, 'trades_count': 430203, 'price_open': 0.1823}, {'price_high': 0.170217, 'time_period_start': '2018-05-14T00:00:00.0000000Z', 'price_close': 0.151587, 'time_close': '2018-05-20T23:59:49.4310000Z', 'volume_traded': 128920.857, 'time_open': '2018-05-14T00:00:00.9290000Z', 'time_period_end': '2018-05-21T00:00:00.0000000Z', 'price_low': 0.140233, 'trades_count': 362620, 'price_open': 0.170002}, {'price_high': 0.15241, 'time_period_start': '2018-05-21T00:00:00.0000000Z', 'price_close': 0.135421, 'time_close': '2018-05-27T23:59:53.5490000Z', 'volume_traded': 84999.422, 'time_open': '2018-05-21T00:00:03.0180000Z', 'time_period_end': '2018-05-28T00:00:00.0000000Z', 'price_low': 0.129284, 'trades_count': 205917, 'price_open': 0.151587}, {'price_high': 0.154539, 'time_period_start': '2018-05-28T00:00:00.0000000Z', 'price_close': 0.1514, 'time_close': '2018-06-03T23:59:58.3590000Z', 'volume_traded': 120053.379, 'time_open': '2018-05-28T00:00:05.4310000Z', 'time_period_end': '2018-06-04T00:00:00.0000000Z', 'price_low': 0.122677, 'trades_count': 249686, 'price_open': 0.135401}, {'price_high': 0.15651, 'time_period_start': '2018-06-04T00:00:00.0000000Z', 'price_close': 0.138316, 'time_close': '2018-06-10T23:59:53.9110000Z', 'volume_traded': 134020.723, 'time_open': '2018-06-04T00:00:06.7290000Z', 'time_period_end': '2018-06-11T00:00:00.0000000Z', 'price_low': 0.1342, 'trades_count': 264917, 'price_open': 0.1514}, {'price_high': 0.143173, 'time_period_start': '2018-06-11T00:00:00.0000000Z', 'price_close': 0.131252, 'time_close': '2018-06-17T23:59:28.3880000Z', 'volume_traded': 96534.161, 'time_open': '2018-06-11T00:00:01.2060000Z', 'time_period_end': '2018-06-18T00:00:00.0000000Z', 'price_low': 0.129414, 'trades_count': 181161, 'price_open': 0.138316}, {'price_high': 0.135821, 'time_period_start': '2018-06-18T00:00:00.0000000Z', 'price_close': 0.121545, 'time_close': '2018-06-24T23:59:54.9640000Z', 'volume_traded': 130596.341, 'time_open': '2018-06-18T00:00:13.8940000Z', 'time_period_end': '2018-06-25T00:00:00.0000000Z', 'price_low': 0.114226, 'trades_count': 185929, 'price_open': 0.131365}, {'price_high': 0.1245, 'time_period_start': '2018-06-25T00:00:00.0000000Z', 'price_close': 0.115833, 'time_close': '2018-07-01T23:59:22.3770000Z', 'volume_traded': 127741.792, 'time_open': '2018-06-25T00:00:04.4040000Z', 'time_period_end': '2018-07-02T00:00:00.0000000Z', 'price_low': 0.110412, 'trades_count': 144265, 'price_open': 0.121546}, {'price_high': 0.12456, 'time_period_start': '2018-07-02T00:00:00.0000000Z', 'price_close': 0.111764, 'time_close': '2018-07-08T23:59:48.9060000Z', 'volume_traded': 137207.705, 'time_open': '2018-07-02T00:00:50.6290000Z', 'time_period_end': '2018-07-09T00:00:00.0000000Z', 'price_low': 0.108164, 'trades_count': 190985, 'price_open': 0.115842}]\n"
     ]
    },
    {
     "name": "stdout",
     "output_type": "stream",
     "text": [
      "EOS HTTP Error 429: Too Many Requests\n",
      "ETC HTTP Error 429: Too Many Requests\n",
      "XMR HTTP Error 429: Too Many Requests\n",
      "NEO HTTP Error 429: Too Many Requests\n",
      "BTG HTTP Error 429: Too Many Requests\n",
      "USDT HTTP Error 429: Too Many Requests\n",
      "ZEC HTTP Error 429: Too Many Requests\n",
      "EUR HTTP Error 429: Too Many Requests\n",
      "IOTA HTTP Error 429: Too Many Requests\n",
      "DASH HTTP Error 429: Too Many Requests\n",
      "DIG HTTP Error 429: Too Many Requests\n",
      "XLM HTTP Error 429: Too Many Requests\n",
      "HBZ HTTP Error 429: Too Many Requests\n",
      "OMG HTTP Error 429: Too Many Requests\n",
      "TRX HTTP Error 429: Too Many Requests\n",
      "ODE HTTP Error 429: Too Many Requests\n",
      "BFT HTTP Error 429: Too Many Requests\n",
      "ELF HTTP Error 429: Too Many Requests\n",
      "GNT HTTP Error 429: Too Many Requests\n",
      "DOGE HTTP Error 429: Too Many Requests\n",
      "SNT HTTP Error 429: Too Many Requests\n",
      "DAT HTTP Error 429: Too Many Requests\n",
      "REP HTTP Error 429: Too Many Requests\n",
      "EMC HTTP Error 429: Too Many Requests\n",
      "AIO HTTP Error 429: Too Many Requests\n",
      "XVG HTTP Error 429: Too Many Requests\n",
      "RLC HTTP Error 429: Too Many Requests\n",
      "ZRX HTTP Error 429: Too Many Requests\n",
      "LIZA HTTP Error 429: Too Many Requests\n",
      "HB HTTP Error 429: Too Many Requests\n",
      "VEN HTTP Error 429: Too Many Requests\n",
      "XEM HTTP Error 429: Too Many Requests\n",
      "QTUM HTTP Error 429: Too Many Requests\n",
      "LSK HTTP Error 429: Too Many Requests\n",
      "MKR HTTP Error 429: Too Many Requests\n",
      "WAVES HTTP Error 429: Too Many Requests\n",
      "BAT HTTP Error 429: Too Many Requests\n",
      "LRC HTTP Error 429: Too Many Requests\n",
      "ADA HTTP Error 429: Too Many Requests\n",
      "BNB HTTP Error 429: Too Many Requests\n"
     ]
    }
   ],
   "source": [
    "liss=[]\n",
    "for coin in coins:\n",
    "    sym='BINANCE_SPOT_'+str(coin)+'_BTC'\n",
    "    try:\n",
    "        X=api.ohlcv_historical_data(sym, {'period_id': '7DAY', 'time_start':utctime,'limit':15})\n",
    "        print(coin, X)\n",
    "        liss.append(X)\n",
    "    except Exception as e:\n",
    "        print(coin, e)"
   ]
  },
  {
   "cell_type": "code",
   "execution_count": 10,
   "metadata": {},
   "outputs": [
    {
     "data": {
      "text/plain": [
       "31"
      ]
     },
     "execution_count": 10,
     "metadata": {},
     "output_type": "execute_result"
    }
   ],
   "source": [
    "len(lis)"
   ]
  },
  {
   "cell_type": "code",
   "execution_count": null,
   "metadata": {},
   "outputs": [],
   "source": []
  }
 ],
 "metadata": {
  "kernelspec": {
   "display_name": "Python 3",
   "language": "python",
   "name": "python3"
  },
  "language_info": {
   "codemirror_mode": {
    "name": "ipython",
    "version": 3
   },
   "file_extension": ".py",
   "mimetype": "text/x-python",
   "name": "python",
   "nbconvert_exporter": "python",
   "pygments_lexer": "ipython3",
   "version": "3.5.2"
  }
 },
 "nbformat": 4,
 "nbformat_minor": 2
}
