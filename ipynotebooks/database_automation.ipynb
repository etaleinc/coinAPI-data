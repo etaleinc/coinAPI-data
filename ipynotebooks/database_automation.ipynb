{
 "cells": [
  {
   "cell_type": "code",
   "execution_count": 1,
   "metadata": {},
   "outputs": [],
   "source": [
    "import numpy as np\n",
    "import sys\n",
    "import os\n",
    "sys.path.insert(0, '/home/fbuonerba/codes/')\n",
    "from mp_functions import upload_log_return, upload_factor_loadings\n",
    "from mp_functions import request_rates, request_ohlcv, compute_log_return\n",
    "from mp_functions import request_cmc_historical\n",
    "from coinapi_v1 import CoinAPIv1\n",
    "import datetime\n",
    "from datetime import datetime, timedelta\n",
    "import time\n",
    "import calendar\n",
    "import json\n",
    "import urllib.request\n",
    "import multiprocessing as mp"
   ]
  },
  {
   "cell_type": "code",
   "execution_count": 2,
   "metadata": {},
   "outputs": [
    {
     "name": "stdout",
     "output_type": "stream",
     "text": [
      "['ETH' 'XRP' 'BCH' 'EOS' 'XLM' 'LTC' 'ADA' 'XMR' 'IOTA' 'TRX' 'ETC' 'DASH'\n",
      " 'NEO' 'XEM' 'BNB' 'ZEC' 'OMG' 'LSK' 'ZRX' 'QTUM' 'DOGE' 'BTS' 'DGB' 'ICX'\n",
      " 'STEEM' 'AE' 'WAVES' 'SC' 'REP' 'PPT' 'GNT' 'STRAT']\n"
     ]
    }
   ],
   "source": [
    "#load coin names - it removes those with some outliers in historical data\n",
    "with open('/home/fbuonerba/codes/meta_data/new_coins.txt') as ff:\n",
    "    coins=json.load(ff)\n",
    "bad=['NPXS','MKR','VET','RHOC', 'ONT', 'ZIL', 'NANO', 'BAT','BCD','XTZ']\n",
    "coins=np.array(coins)\n",
    "where=[i for i in range(len(coins)) if coins[i] in bad]\n",
    "coins=np.delete(coins, where)\n",
    "\n",
    "prettybad=['BTC','BCN','DCR','BTG','BTM','XVG']\n",
    "prettywhere=[i for i in range(len(coins)) if coins[i] in prettybad]\n",
    "coins=np.delete(coins, prettywhere)\n",
    "quotes=['BTC']\n",
    "print(coins)"
   ]
  },
  {
   "cell_type": "code",
   "execution_count": null,
   "metadata": {},
   "outputs": [],
   "source": [
    "#####MAINTAINANCE OF EXCHANGE RATES#######\n",
    "pathname='/home/fbuonerba/exchange_rates_data/'\n",
    "exch=os.listdir(pathname)\n",
    "EX={}\n",
    "DEX={}\n",
    "#create a dictionary coin ---> exchange rates coin/BTC listed in directory\n",
    "#it looks only for those dated after 1515000000 - January 3rd 2018.\n",
    "for coin in coins:\n",
    "    EX[coin]=[x for x in exch if (coin+'_BTC' in x)]\n",
    "    DEX[coin]=[]\n",
    "    for x in EX[coin]:\n",
    "        try:\n",
    "            if float(x[-14:-4])>1515000000:\n",
    "                DEX[coin].append(x)\n",
    "        except:\n",
    "            print('folder in wrong format - remove -----', x)\n",
    "            os.unlink(pathname+x)"
   ]
  },
  {
   "cell_type": "code",
   "execution_count": null,
   "metadata": {},
   "outputs": [],
   "source": [
    "\n",
    "#This window scans through the directory contiaing exchange rates and looks for\n",
    "#wrong data. It then re-downloads data from coinAPI.\n",
    "#REMARK: it seems BNB has real missing data.\n",
    "\n",
    "#loop over dictionary values, to find wrong data (empty folder). Then download it.\n",
    "for coin in coins:\n",
    "    for exc in DEX[coin]:\n",
    "        X=exc.split('.')\n",
    "        X=X[0].split('_')\n",
    "        X[-1]=int(X[-1])\n",
    "        with open(pathname + exc) as infile:\n",
    "            try:\n",
    "                ex=json.load(infile)\n",
    "                if ex=={} or ex=='{}':\n",
    "                    print(exc, ex)\n",
    "                    request_rates(X[-1], X[2], X[3])\n",
    "            except Exception as e: \n",
    "                print(e, exc)\n",
    "                request_rates(X[-1], X[2], X[3])\n",
    "            "
   ]
  },
  {
   "cell_type": "code",
   "execution_count": null,
   "metadata": {},
   "outputs": [],
   "source": [
    "########MAINTAINANCE OF LOG-RETURNS##########\n",
    "pathname1='/home/fbuonerba/log_returns_data/'\n",
    "log=os.listdir(pathname1)\n",
    "LOG={}\n",
    "DLOG={}\n",
    "#create a dictionary coin --> list of log-returns folders for pair coin/BTC.\n",
    "#it looks only for those dated after 1515000000 - January 3rd 2018.\n",
    "for coin in coins:\n",
    "    LOG[coin]=[x for x in log if (coin+'_BTC' in x)]\n",
    "    DLOG[coin]=[]\n",
    "    for x in LOG[coin]:\n",
    "        try:\n",
    "            if float(x[-14:-4])>1515000000:\n",
    "                DLOG[coin].append(x)\n",
    "        except:\n",
    "            print('folder in wrong format - remove -----', x)\n",
    "            os.unlink(pathname1+x)"
   ]
  },
  {
   "cell_type": "code",
   "execution_count": null,
   "metadata": {},
   "outputs": [],
   "source": [
    "#maintainance of daily log-returns. \n",
    "#This window scans through the directory contiaing log-returns and looks for\n",
    "#corrupted data. It then re-computes daily log-returns.\n",
    "#REMARK: there are also many hourly log-returns. This window does not deal with them.\n",
    "\n",
    "#loop over dictionary values, to find wrong data,by default NaN values. Then re-compute.\n",
    "for coin in coins:\n",
    "    for log in DLOG[coin]:\n",
    "        X=log.split('.')\n",
    "        X=X[0].split('_')\n",
    "        X[-1]=int(X[-1])\n",
    "        X[-2]=int(X[-2])\n",
    "        with open(pathname1 + log) as infile:\n",
    "            lg=json.load(infile)\n",
    "            if np.isnan(lg)==True and X[-1]-X[-2]==86400:#focus on daily returns.\n",
    "                print(log, lg)\n",
    "                compute_log_return(X[-1], coin, 'BTC', X[-1]-X[-2])\n",
    "                \n",
    "                "
   ]
  },
  {
   "cell_type": "code",
   "execution_count": null,
   "metadata": {},
   "outputs": [],
   "source": [
    "#This window check that every daily return is actually present in directory.\n",
    "t0=1515024000 #jan 4th.\n",
    "TIME=int((time.time()-t0)/86400 - 1)\n",
    "for coin in coins:\n",
    "    for t in range(TIME):\n",
    "        init=t0+t*86400\n",
    "        end=t0+(t+1)*86400\n",
    "        symbol='log_return_'+coin+'_BTC_'+str(init)+'_'+str(end)+'.txt'\n",
    "        if symbol not in DLOG[coin]:\n",
    "            print(symbol)\n",
    "            compute_log_return(init, coin, 'BTC', 86400)\n",
    "    "
   ]
  },
  {
   "cell_type": "code",
   "execution_count": null,
   "metadata": {},
   "outputs": [],
   "source": [
    "########MAINTAINANCE OF OHLCV##########\n",
    "pathname3='/home/fbuonerba/ohlcv_data/'\n",
    "ohlcv=os.listdir(pathname3)\n",
    "\n",
    "OH={}\n",
    "DOH={}\n",
    "#create a dictionary coin ---> all ohlcv coin/BTC (for every exchange) listed in directory\n",
    "#it looks only for those dated after 1515000000 - January 3rd 2018.\n",
    "for coin in coins:\n",
    "    OH[coin]=[x for x in ohlcv if (coin+'_BTC' in x)]\n",
    "    DOH[coin]=[]\n",
    "    for x in OH[coin]:\n",
    "        if float(x[-14:-4])>1515000000:\n",
    "            DOH[coin].append(x)"
   ]
  },
  {
   "cell_type": "code",
   "execution_count": null,
   "metadata": {},
   "outputs": [],
   "source": [
    "#This window scans through directory to find missing ohlcv data, and in case downloads it. \n",
    "#Almost always, exchange QRYPTOS has missing data.\n",
    "#DASH,NEO,XEM have a quite a few missing data points.\n",
    "for coin in coins:\n",
    "    for x in DOH[coin]:\n",
    "        with open(pathname3 + x) as infile:\n",
    "            oh=json.load(infile)\n",
    "        if oh==[] or oh=='[]':\n",
    "            x=x.split('.')\n",
    "            x=x[0].split('_')\n",
    "            x[-1]=int(x[-1])\n",
    "            x[-2]=int(x[-2])\n",
    "            if x[1]!='QRYPTOS':\n",
    "                print(x)\n",
    "                #request_ohlcv(x[-2], x[1]+'_'+x[2]+'_'+x[3]+'_BTC',1)"
   ]
  },
  {
   "cell_type": "code",
   "execution_count": 22,
   "metadata": {},
   "outputs": [],
   "source": [
    "#########MAINTAINANCE OF COIN SUPPLY###########\n",
    "#historical daily cmc data is impossible to correct because it is taken live.\n",
    "#We can nevertheless check and eventually manually adjust.\n",
    "pathname4='/home/fbuonerba/cmc_data/'\n",
    "cmc=os.listdir(pathname4)\n",
    "DCMC={}\n",
    "for coin in coins:\n",
    "    DCMC[coin]=[x for x in cmc if (coin in x)]\n",
    "    for x in DCMC[coin]:\n",
    "        try:\n",
    "            with open(pathname4 + x) as infile:\n",
    "                cm=json.load(infile)\n",
    "            if cm=='{}' or cm=={}:\n",
    "                print(x, cm)\n",
    "            elif np.isnan(cm['circulating_supply'])==True:\n",
    "                print('circ', x, cm)\n",
    "        except:\n",
    "            print(x)\n",
    "            #only supply matters - can be manually filled.\n"
   ]
  },
  {
   "cell_type": "code",
   "execution_count": 6,
   "metadata": {},
   "outputs": [],
   "source": [
    "#weekly cmc can be re-downloaded. If there are empty folders, or some folders\n",
    "#contains NaN values, this window re-downloads the data for that whole day.\n",
    "WEEK=[x for x in cmc if 'historical' in x]\n",
    "WEEK.sort()\n",
    "for x in WEEK:\n",
    "    test=0\n",
    "    X=x.split('.')\n",
    "    ttime=float(X[0].split('_')[-1])\n",
    "    utctime = datetime.utcfromtimestamp(ttime).strftime('%Y%m%d')\n",
    "    with open(pathname4 + x) as infile:\n",
    "        try:\n",
    "            hist=json.load(infile)\n",
    "            for coin in coins:\n",
    "                if coin=='IOTA':\n",
    "                    coin='MIOTA'\n",
    "                if np.isnan(hist[coin]['supply'])==True:\n",
    "                    print(coin, x)\n",
    "                    test=1\n",
    "            if test==1:\n",
    "                request_cmc_historical(int(utctime))\n",
    "        except:\n",
    "            print('missing day', x)\n",
    "            request_cmc_historical(int(utctime))"
   ]
  },
  {
   "cell_type": "code",
   "execution_count": null,
   "metadata": {},
   "outputs": [],
   "source": []
  }
 ],
 "metadata": {
  "kernelspec": {
   "display_name": "Python 3",
   "language": "python",
   "name": "python3"
  },
  "language_info": {
   "codemirror_mode": {
    "name": "ipython",
    "version": 3
   },
   "file_extension": ".py",
   "mimetype": "text/x-python",
   "name": "python",
   "nbconvert_exporter": "python",
   "pygments_lexer": "ipython3",
   "version": "3.5.2"
  }
 },
 "nbformat": 4,
 "nbformat_minor": 2
}
