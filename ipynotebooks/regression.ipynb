{
 "cells": [
  {
   "cell_type": "code",
   "execution_count": 77,
   "metadata": {},
   "outputs": [],
   "source": [
    "import luigi\n",
    "import pandas as pd\n",
    "import numpy as np\n",
    "import sys\n",
    "sys.path.insert(0, '/home/fbuonerba/codes/')\n",
    "from mp_functions import upload_log_return, upload_factor_loadings\n",
    "from coinapi_v1 import CoinAPIv1\n",
    "import datetime\n",
    "from datetime import datetime, timedelta\n",
    "import time\n",
    "import calendar\n",
    "import json\n",
    "import urllib.request\n",
    "import multiprocessing as mp\n",
    "import sklearn\n",
    "from sklearn import linear_model\n",
    "from sklearn.metrics import mean_squared_error, r2_score\n",
    "import matplotlib.pyplot as plt"
   ]
  },
  {
   "cell_type": "code",
   "execution_count": 96,
   "metadata": {},
   "outputs": [],
   "source": [
    "#####Returns: April 2nd to May 2nd#####\n",
    "\n",
    "with open('/home/fbuonerba/codes/meta_data/top_coins.txt') as ff:\n",
    "    coins=json.load(ff)\n",
    "coins=list(coins)\n",
    "####LIZA is outlier for 2 of the risk factors...####\n",
    "coins.remove('LIZA')\n",
    "quotes=['USD','BTC']\n",
    "#sysm=[str(coin)+'_'+str(quote) for coin in coins for quote in quotes]\n",
    "t=1522627200\n",
    "matrix=[]\n",
    "#matrix of daily log_returns (time, base_quote)\n",
    "while t<=1525219201:\n",
    "    ret_t=[]\n",
    "    for base in coins:\n",
    "        for quote in quotes:\n",
    "            returns=upload_log_return(t, base, quote, 86400)\n",
    "            if np.isnan(returns)==True:\n",
    "                returns=0\n",
    "            ret_t.append(returns)\n",
    "            #print(base,quote)\n",
    "    matrix.append(ret_t)\n",
    "    t+=86400\n",
    "R=np.array(matrix)\n",
    "norms=np.linalg.norm(R, axis=0)\n",
    "W=np.where(norms==0)\n",
    "R=np.delete(R, W, axis=1)"
   ]
  },
  {
   "cell_type": "code",
   "execution_count": 97,
   "metadata": {},
   "outputs": [],
   "source": [
    "#####Factors: January to April#####\n",
    "#####log_mkcap and coin_ratio computed averaging.\n",
    "factors=[]\n",
    "factor_names0=['variance_']\n",
    "factor_names1=['strength_', 'high_low_']\n",
    "factor_names2=['turnover_', 'log_mkcap_']\n",
    "factor_names3=['coin_ratio_']\n",
    "path='/home/fbuonerba/factor_loadings/'\n",
    "finpath1='_'+str(1515283200)+'_'+str(1522540800)+'_'+str(604800)+'.txt'\n",
    "finpath2='_'+str(1515283200)+'_'+str(1522540800)+'.txt'\n",
    "finpath3='.txt'\n",
    "for base in coins:\n",
    "    for quote in quotes:\n",
    "        sym=str(base)+'_'+str(quote)\n",
    "        sym_row=[]\n",
    "        for name in factor_names0:\n",
    "            with open(path+name+sym+finpath1) as file:\n",
    "                x=json.load(file)\n",
    "            x=np.sqrt(x)\n",
    "            sym_row.append(x)\n",
    "        for name in factor_names1:\n",
    "            with open(path+name+sym+finpath1) as file:\n",
    "                x=json.load(file)\n",
    "            sym_row.append(x)\n",
    "        for name in factor_names2:\n",
    "            with open(path+name+sym+finpath2) as file:\n",
    "                x=json.load(file)\n",
    "            sym_row.append(x)\n",
    "        for name in factor_names3:\n",
    "            #symll=sym.split('_')\n",
    "            with open(path+name+base+finpath3) as file:\n",
    "                x=json.load(file)\n",
    "            sym_row.append(x)\n",
    "        #sym_row.append(1)\n",
    "        factors.append(sym_row)\n",
    "factors=np.array(factors) \n",
    "factors=np.delete(factors, W, axis=0)\n",
    "#####here we do normalization using z-score along coin axis#####\n",
    "factors=(factors-np.mean(factors,axis=0))/np.var(factors,axis=0)**.5"
   ]
  },
  {
   "cell_type": "code",
   "execution_count": 79,
   "metadata": {},
   "outputs": [],
   "source": [
    "#####Factors: January to April#####\n",
    "#####Factors computed using Barra definitions\n",
    "factors=[]\n",
    "factor_names1_=['variance_']\n",
    "factor_names1=['strength_', 'high_low_']\n",
    "factor_names2=['turnover_']\n",
    "factor_names2_=['log_mkcap_']\n",
    "factor_names3=['coin_ratio_']\n",
    "path='/home/fbuonerba/factor_loadings/'\n",
    "finpath1='_'+str(1515283200)+'_'+str(1522540800)+'_'+str(604800)+'.txt'\n",
    "finpath2='_'+str(1515283200)+'_'+str(1522540800)+'.txt'\n",
    "finpath3='.txt'\n",
    "for base in coins:\n",
    "    for quote in quotes:\n",
    "        sym=str(base)+'_'+str(quote)\n",
    "        sym_row=[]\n",
    "        for name in factor_names1_:\n",
    "            with open(path+name+sym+finpath1) as file:\n",
    "                x=json.load(file)\n",
    "            x=np.sqrt(x)\n",
    "            sym_row.append(x)\n",
    "        for name in factor_names1:\n",
    "            with open(path+name+sym+finpath1) as file:\n",
    "                x=json.load(file)\n",
    "            sym_row.append(x)\n",
    "        for name in factor_names2:\n",
    "            with open(path+name+sym+finpath2) as file:\n",
    "                x=json.load(file)\n",
    "            sym_row.append(x)\n",
    "        for name in factor_names2_:\n",
    "            with open(path+name+'exact'+'_'+sym+'_'+str(1522540800)+'.txt') as file:\n",
    "                x=json.load(file)\n",
    "            sym_row.append(x)\n",
    "        for name in factor_names3:\n",
    "            #symll=sym.split('_')\n",
    "            with open(path+name+'exact'+'_'+base+'_'+str(1522540800)+'.txt') as file:\n",
    "                x=json.load(file)\n",
    "            sym_row.append(x)\n",
    "        #sym_row.append(1)\n",
    "        factors.append(sym_row)\n",
    "factors=np.array(factors)  \n",
    "factors=np.delete(factors, W, axis=0)\n",
    "#normalization using z-score along coin axis:\n",
    "factors=(factors-np.mean(factors,axis=0))/np.var(factors,axis=0)**.5"
   ]
  },
  {
   "cell_type": "code",
   "execution_count": 93,
   "metadata": {},
   "outputs": [],
   "source": [
    "#make a vector of returns variance to be used in regression as weights\n",
    "varia=[]\n",
    "path='/home/fbuonerba/factor_loadings/'\n",
    "finp='_'+str(1515283200)+'_'+str(1522540800)+'_'+str(604800)+'.txt'\n",
    "for base in coins:\n",
    "    for quote in quotes:\n",
    "        sym=str(base)+'_'+str(quote)\n",
    "        with open(path+'variance_'+sym+finpath1) as file:\n",
    "            x=json.load(file)\n",
    "        if x==0:\n",
    "            x=float('inf')\n",
    "        varia.append(x)\n",
    "varia=np.array(varia)\n",
    "weight=varia**-1\n",
    "weight=np.delete(weight, W)\n",
    "\n",
    "\n",
    "R=R*weight\n",
    "factors=(factors.T*weight).T\n"
   ]
  },
  {
   "cell_type": "code",
   "execution_count": 98,
   "metadata": {},
   "outputs": [
    {
     "name": "stdout",
     "output_type": "stream",
     "text": [
      "(31, 80)\n"
     ]
    }
   ],
   "source": [
    "####regression against returns from April 2nd to May 2nd; loadings computed on April 1st.####\n",
    "reg=linear_model.LinearRegression()\n",
    "#sklearn automatically preprocesses the data by removing np.mean(axis=0)#\n",
    "\n",
    "print(R.shape)\n",
    "reg.fit(factors,R.T)#,sample_weight=weight)\n",
    "beta=reg.coef_\n",
    "inter=reg.intercept_\n",
    "inter=inter.reshape(-1,1)\n",
    "total_beta=np.hstack((beta,inter)) \n",
    "total_factors=np.hstack((factors, np.ones(factors.shape[0]).reshape(-1,1)))\n",
    "R_hat=reg.predict(factors) #predicted returns = (tot_fact).(tot_beta.T)\n",
    "#####compute r_squared and F_scores#####\n",
    "#numpy and sklearn have built-in functions computing r2.\n",
    "#reg.score computes the mean along axis=0\n",
    "#r2_score computes the mean over full matrix. Example:\n",
    "#r2_score(R.T,R_hat1,multioutput='variance_weighted')\n",
    "residuals=R.T-R_hat\n",
    "R_mean=np.mean(R.T,axis=0) #daily average return\n",
    "tss=np.sum( (R.T-R_mean)**2, axis=0 ) #daily total_sum_squares\n",
    "rss=np.sum( (R.T-R_hat)**2, axis=0 ) #daily residual_sum_squares ~ var residuals\n",
    "r2=1-rss/tss #daily R^2\n",
    "cov_residuals=np.dot(residuals.T,residuals)/(factors.shape[0]-factors.shape[1])#daily\n",
    "var_residuals=cov_residuals.diagonal() #daily unbiased variance of residuals\n",
    "F=((tss-rss)/factors.shape[1])/var_residuals #daily F-scores\n",
    "#####compute z_scores, using total_beta and total_factors for compactness#####\n",
    "inv=np.linalg.inv(np.dot(total_factors.T,total_factors)) #usual (X^T.X)^{-1}\n",
    "cov_beta=np.tensordot(inv,var_residuals, axes=0) #daily covariance of betas: inv*var(residual)\n",
    "var_beta=cov_beta.diagonal() #daily variance of betas\n",
    "std_beta=np.sqrt(var_beta) #daily standard errors\n",
    "z_scores=total_beta/std_beta\n",
    "df_list=[]\n",
    "\n",
    "r2_st=r2\n",
    "\n",
    "for t in range(30):\n",
    "    df=pd.DataFrame()\n",
    "    df1=pd.DataFrame()\n",
    "    df['factor_name']=['returns_variance', 'returns_strength', 'returns_high_low', 'turnover', 'average_log_mkcap', 'average_coin_ratio','1']\n",
    "    df['beta']=total_beta[t]\n",
    "    df['std_error']=std_beta[t]\n",
    "    df['z_score']=z_scores[t]\n",
    "    df1['r_squared']=np.array([r2[t]])\n",
    "    df1['F_score']=np.array([F[t]])\n",
    "    df_list.append([df,df1])\n",
    "\n",
    "\n"
   ]
  },
  {
   "cell_type": "code",
   "execution_count": 222,
   "metadata": {},
   "outputs": [
    {
     "data": {
      "text/plain": [
       "10.497551205566545"
      ]
     },
     "execution_count": 222,
     "metadata": {},
     "output_type": "execute_result"
    }
   ],
   "source": [
    "###compute covariance of factor returns###\n",
    "#either compute cov of total_beta; or compute cov of beta, and attach a 1x1 block with inter.\n",
    "#results are slightly different - intercept and beta are slightly correlated over time.\n",
    "ess_cov=np.cov(beta.T)\n",
    "ess_totcov=np.cov(total_beta.T)\n",
    "ess1=np.hstack((ess_cov, np.zeros(6).reshape(-1,1)))\n",
    "ess2=np.vstack((ess1, np.zeros(7).reshape(1,-1)))\n",
    "ess2[-1,-1]=np.var(inter)\n",
    "\n",
    "C=np.cov(inter.T[0],beta.T[0])\n",
    "C[0,0]/C[0,1]\n"
   ]
  },
  {
   "cell_type": "code",
   "execution_count": 107,
   "metadata": {
    "scrolled": true
   },
   "outputs": [
    {
     "data": {
      "image/png": "[encoded data removed]",
      "text/plain": [
       "<Figure size 936x936 with 1 Axes>"
      ]
     },
     "metadata": {},
     "output_type": "display_data"
    }
   ],
   "source": [
    "####results of computing 6 different regressions:\n",
    "####two with averaged factors, one with literal barra factors.\n",
    "####each is computed ordinary, and weighted by var(returns)^{-1}.\n",
    "\n",
    "t=list(range(31))\n",
    "fig = plt.figure(figsize=(13, 13))\n",
    "plt.title('R^2 comparison')\n",
    "plt.scatter(t, r2_my, c='r', label='mine')\n",
    "plt.scatter(t, r2_st,c='b', label='mine_std')\n",
    "plt.scatter(t, r2_barra, c='g', label='barra')\n",
    "plt.scatter(t, r2_my_wt, c='r', label='mine_wt',marker='*')\n",
    "plt.scatter(t, r2_st_wt, c='b', label='mine_std_wt',marker='*')\n",
    "plt.scatter(t, r2_barra_wt, c='g', label='barra_wt',marker='*')\n",
    "plt.legend()\n",
    "plt.savefig('R^2_comparison.png')\n",
    "plt.show()\n",
    "\n"
   ]
  },
  {
   "cell_type": "code",
   "execution_count": 113,
   "metadata": {
    "scrolled": true
   },
   "outputs": [
    {
     "data": {
      "text/plain": [
       "array([2, 4])"
      ]
     },
     "execution_count": 113,
     "metadata": {},
     "output_type": "execute_result"
    },
    {
     "data": {
      "image/png": "[encoded data removed]",
      "text/plain": [
       "<Figure size 432x288 with 1 Axes>"
      ]
     },
     "metadata": {},
     "output_type": "display_data"
    }
   ],
   "source": [
    "###looking for homoscedasticity: variance of errors independent of time/estimated returns:\n",
    "\n",
    "####white test for homoscedasticity: regress squared-error against regressors, check r2.\n",
    "resi=residuals**2\n",
    "reg.fit(factors, resi)\n",
    "residuals_hat=reg.predict(factors)\n",
    "resmean=np.mean(resi,axis=0) #daily average return\n",
    "tss=np.sum( (resi-resmean)**2, axis=0 ) #daily total_sum_squares\n",
    "rss=np.sum( (resi- residuals_hat)**2, axis=0 ) #daily residual_sum_squares ~ var residuals\n",
    "r2=1-rss/tss #daily R^2\n",
    "\n",
    "#compute covariance of error timeseries: TT_t,s=cov(err_t,err_s).\n",
    "#TT should be close to a homothety\n",
    "TT=np.cov(residuals.T)\n",
    "TTD=TT.diagonal()\n",
    "plt.scatter(range(len(TTD)),TTD)\n",
    "#on each row, pick column with maximal entry and check if it's diagonal.\n",
    "#works beautifully, T is almost diagonal\n",
    "MAX=np.argmax(TT,axis=0)\n",
    "MAX-list(range(len(TT)))\n",
    "\n"
   ]
  },
  {
   "cell_type": "code",
   "execution_count": 132,
   "metadata": {
    "scrolled": true
   },
   "outputs": [
    {
     "name": "stdout",
     "output_type": "stream",
     "text": [
      "[ 0 33 29 15 12 17 21 26 31 20 28 22 41 25 23 39 24 27 40 30 38 37 32 36\n",
      " 11 18 34 43 35  6 14  7  8 19 13 10 42 16  3  5  4  2  9  1]\n"
     ]
    }
   ],
   "source": [
    "####looking for patterns in variance of returns versus marketcap.\n",
    "\n",
    "pathh='/home/fbuonerba/factor_loadings/'\n",
    "mkcap_list_usd=[]\n",
    "mkcap_list_btc=[]\n",
    "variance_usd=[]\n",
    "variance_btc=[]\n",
    "for coin in coins:\n",
    "    with open(pathh+'log_mkcap_exact_'+str(coin)+'_USD_1531612800.txt')as uo:\n",
    "        mcap=json.load(uo)\n",
    "    mkcap_list_usd.append(mcap)\n",
    "    with open(pathh+'log_mkcap_exact_'+str(coin)+'_BTC_1531612800.txt')as uoo:\n",
    "        cap=json.load(uoo)\n",
    "    mkcap_list_btc.append(cap)\n",
    "    with open(pathh+'variance_'+str(coin)+'_USD_1524355200_1531612800_604800.txt')as uo:\n",
    "        var=json.load(uo)\n",
    "    variance_usd.append(var)\n",
    "    with open(pathh+'variance_'+str(coin)+'_BTC_1524355200_1531612800_604800.txt')as uoo:\n",
    "        varr=json.load(uoo)\n",
    "    variance_btc.append(varr)\n",
    "\n",
    "order_usd=np.argsort(np.array(mkcap_list_usd))\n",
    "order_btc=np.argsort(np.array(mkcap_list_btc))\n",
    "new_var_usd=[variance_usd[x] for x in order_usd]\n",
    "new_var_btc=[variance_btc[x] for x in order_btc]\n"
   ]
  },
  {
   "cell_type": "code",
   "execution_count": 133,
   "metadata": {
    "scrolled": true
   },
   "outputs": [
    {
     "name": "stdout",
     "output_type": "stream",
     "text": [
      "report2.0\n"
     ]
    },
    {
     "data": {
      "image/png": "[encoded data removed]",
      "text/plain": [
       "<Figure size 432x288 with 1 Axes>"
      ]
     },
     "metadata": {},
     "output_type": "display_data"
    }
   ],
   "source": [
    "####Outliers = HB,DIG,ODE for both USD and BTC.\n",
    "plt.scatter(list(range(len(new_var_btc))), new_var_btc, c='r', label='btc')\n",
    "plt.savefig('ordered_var_btc.png')"
   ]
  },
  {
   "cell_type": "code",
   "execution_count": 128,
   "metadata": {
    "scrolled": true
   },
   "outputs": [
    {
     "data": {
      "image/png": "[encoded data removed]",
      "text/plain": [
       "<Figure size 432x288 with 1 Axes>"
      ]
     },
     "metadata": {},
     "output_type": "display_data"
    }
   ],
   "source": [
    "plt.scatter(list(range(len(new_var_usd))), new_var_usd, c='b', label='usd')\n",
    "plt.savefig('ordered_var_usd.png')"
   ]
  },
  {
   "cell_type": "code",
   "execution_count": null,
   "metadata": {},
   "outputs": [],
   "source": [
    "#report printout\n",
    "print('Definition of factors, for each coin pair:')\n",
    "print('*returns_variance = var(returns_t), over weekly returns Jan 7th-Apr 1st.')\n",
    "print('*returns_strength=sum_t( log(1+return_t) ) over returns as above.')\n",
    "print('*returns_high_low=log( max_t(return_t)/min_t(return_t) ) over returns as above.')\n",
    "print('*turnover=(total traded volume)/(average coin supply) over trades Jan 7th-Apr 1st.')\n",
    "print('*log_mkcap=average_t( log(coin_supply_t*price_t) ) over weekly supply and price Jan 7th-Apr 1st.')\n",
    "print('*coin_ratio=average_t(coin_supply_t/coin_supply_ever) over weekly supply as above.')\n",
    "print('Factor loadings have been scaled by z-score.')\n",
    "print('')\n",
    "for y in df_list:    \n",
    "    for x in y:\n",
    "        print(x)"
   ]
  },
  {
   "cell_type": "code",
   "execution_count": 5,
   "metadata": {},
   "outputs": [
    {
     "name": "stdout",
     "output_type": "stream",
     "text": [
      "Regression on April 1st returns.\n",
      "Definition of factors, for each coin pair:\n",
      "*returns_variance = var(returns_t), over weekly returns Jan 7th-Apr 1st.\n",
      "*returns_strength=sum_t( log(1+return_t) ) over returns as above.\n",
      "*returns_high_low=log( max_t(return_t)/min_t(return_t) ) over returns as above.\n",
      "*turnover=(total traded volume)/(average coin supply) over trades Jan 7th-Apr 1st.\n",
      "*log_mkcap=average_t( log(coin_supply_t*price_t) ) over weekly supply and price Jan 7th-Apr 1st.\n",
      "*coin_ratio=average_t(coin_supply_t/coin_supply_ever) over weekly supply as above.\n",
      "Factor loadings have been scaled by z-score.\n",
      "\n",
      "        factor_name      beta  std_error   z_score\n",
      "0  returns_variance -0.001987   0.004414 -0.450239\n",
      "1  returns_strength  0.010160   0.005653  1.797171\n",
      "2  returns_high_low  0.005005   0.007338  0.682049\n",
      "3          turnover -0.000110   0.003473 -0.031699\n",
      "4         log_mkcap -0.010219   0.005275 -1.937250\n",
      "5        coin_ratio  0.005506   0.003640  1.512765\n",
      "   r_squared   F_score\n",
      "0   0.190144  3.208763\n"
     ]
    }
   ],
   "source": [
    "#####regression against returns on April 1st only#####\n",
    "t=1522540800\n",
    "ret=[]\n",
    "for base in coins:\n",
    "    for quote in quotes:\n",
    "        returns=upload_log_return(t, base, quote, 86400)\n",
    "        if np.isnan(returns)==True:\n",
    "            returns=0\n",
    "        ret.append(returns)\n",
    "ret=np.array(ret)\n",
    "reg=linear_model.LinearRegression()\n",
    "reg.fit(factors,ret.T)\n",
    "beta=reg.coef_\n",
    "inter=reg.intercept_\n",
    "ret_hat=reg.predict(factors)\n",
    "rss=np.linalg.norm(ret-ret_hat)**2\n",
    "var_error=rss/(factors.shape[0]-factors.shape[1])\n",
    "tss=np.linalg.norm(ret-np.mean(ret))**2\n",
    "r_square=1-rss/tss\n",
    "F_score=(tss-rss)/(factors.shape[1]*var_error)\n",
    "cov_beta=np.linalg.inv(np.dot(factors.T,factors))*var_error\n",
    "std_errors=np.sqrt(cov_beta.diagonal())\n",
    "t_stats=beta/std_errors\n",
    "\n",
    "df=pd.DataFrame()\n",
    "df['factor_name']=['returns_variance', 'returns_strength', 'returns_high_low', 'turnover', 'log_mkcap', 'coin_ratio']\n",
    "df['beta']=beta\n",
    "df['std_error']=std_errors\n",
    "df['z_score']=t_stats\n",
    "df1=pd.DataFrame()\n",
    "df1['r_squared']=np.array([r_square])\n",
    "df1['F_score']=np.array([F_score])\n",
    "print('Regression on April 1st returns.')\n",
    "print('Definition of factors, for each coin pair:')\n",
    "print('*returns_variance = var(returns_t), over weekly returns Jan 7th-Apr 1st.')\n",
    "print('*returns_strength=sum_t( log(1+return_t) ) over returns as above.')\n",
    "print('*returns_high_low=log( max_t(return_t)/min_t(return_t) ) over returns as above.')\n",
    "print('*turnover=(total traded volume)/(average coin supply) over trades Jan 7th-Apr 1st.')\n",
    "print('*log_mkcap=average_t( log(coin_supply_t*price_t) ) over weekly supply and price Jan 7th-Apr 1st.')\n",
    "print('*coin_ratio=average_t(coin_supply_t/coin_supply_ever) over weekly supply as above.')\n",
    "print('Factor loadings have been scaled by z-score.')\n",
    "print('')\n",
    "print(df)\n",
    "print(df1)"
   ]
  },
  {
   "cell_type": "code",
   "execution_count": null,
   "metadata": {},
   "outputs": [],
   "source": [
    "#####February to May#####\n",
    "\n",
    "from mp_functions import upload_log_return\n",
    "with open('/home/fbuonerba/codes/meta_data/top_coins.txt') as ff:\n",
    "    coins=json.load(ff)\n",
    "coins=list(coins)\n",
    "####LIZA is outlier for 2 of the risk factors...####\n",
    "coins.remove('LIZA')\n",
    "quotes=['USD','BTC']\n",
    "#sysm=[str(coin)+'_'+str(quote) for coin in coins for quote in quotes]\n",
    "t=1517702400\n",
    "matrix=[]\n",
    "#matrix of daily log_returns (time, base_quote)\n",
    "while t<=1525564801:\n",
    "    ret_t=[]\n",
    "    for base in coins:\n",
    "        for quote in quotes:\n",
    "            returns=upload_log_return(t, base, quote, 86400)\n",
    "            if np.isnan(returns)==True:\n",
    "                returns=0\n",
    "            ret_t.append(returns)\n",
    "            #print(base,quote)\n",
    "    matrix.append(ret_t)\n",
    "    t+=86400\n",
    "R=np.array(matrix)\n",
    "\n",
    "factors=[]\n",
    "factor_names1=['variance_', 'strength_', 'high_low_']\n",
    "factor_names2=['turnover_', 'log_mkcap_']\n",
    "factor_names3=['coin_ratio_']\n",
    "path='/home/fbuonerba/codes/factor_loadings/'\n",
    "finpath1='_'+str(1517702400)+'_'+str(1525564800)+'_'+str(604800)+'.txt'\n",
    "finpath2='_'+str(1517702400)+'_'+str(1525564800)+'.txt'\n",
    "finpath3='.txt'\n",
    "for base in coins:\n",
    "    for quote in quotes:\n",
    "        sym=str(base)+'_'+str(quote)\n",
    "        sym_row=[]\n",
    "        for name in factor_names1:\n",
    "            with open(path+name+sym+finpath1) as file:\n",
    "                x=json.load(file)\n",
    "            sym_row.append(x)\n",
    "        for name in factor_names2:\n",
    "            with open(path+name+sym+finpath2) as file:\n",
    "                x=json.load(file)\n",
    "            sym_row.append(x)\n",
    "        for name in factor_names3:\n",
    "            #symll=sym.split('_')\n",
    "            with open(path+name+base+finpath3) as file:\n",
    "                x=json.load(file)\n",
    "            sym_row.append(x)\n",
    "        #sym_row.append(1)\n",
    "        factors.append(sym_row)\n",
    "factors=np.array(factors)  \n",
    "#normalization using z-score along coin axis:\n",
    "factors=(factors-np.mean(factors,axis=0))/np.var(factors,axis=0)**.5\n",
    "#X_with_ones = np.hstack((np.ones((factors.shape[0], 1)), factors))"
   ]
  },
  {
   "cell_type": "code",
   "execution_count": null,
   "metadata": {},
   "outputs": [],
   "source": [
    "######################################################\n",
    "######################################################\n",
    "######################################################"
   ]
  },
  {
   "cell_type": "code",
   "execution_count": null,
   "metadata": {},
   "outputs": [],
   "source": [
    "#regression against each one single time, BTC/USD\n",
    "factor_test=factors\n",
    "r=[]\n",
    "for i in range(8):\n",
    "    R_test=R[i]\n",
    "    beta_test=np.linalg.lstsq(factor_test,R_test.T, rcond=None)\n",
    "    S=np.dot(factors,beta_test[0])\n",
    "    res_test=np.linalg.norm(R_test-S)**2\n",
    "    r.append(1-res_test/np.linalg.norm(R_test)**2)\n",
    "r=np.array(r)\n",
    "print(np.max(r), np.min(r))"
   ]
  },
  {
   "cell_type": "code",
   "execution_count": null,
   "metadata": {},
   "outputs": [],
   "source": [
    "reg=linear_model.LinearRegression()\n",
    "for i in range(6):\n",
    "    fac=factors.T[i].reshape(-1,1)\n",
    "    ret=R[8].T\n",
    "    #print(fac.shape)\n",
    "    reg.fit(fac,ret)\n",
    "    temp_beta=reg.coef_[0]\n",
    "    temp_inter=reg.intercept_\n",
    "    print(temp_beta, temp_inter)\n",
    "    print(reg.score(fac,ret))\n",
    "    plt.plot(fac, ret,'o')\n",
    "    plt.plot(fac, temp_beta*fac + temp_inter, 'r', label='Fitted line')\n",
    "    plt.show()"
   ]
  },
  {
   "cell_type": "code",
   "execution_count": null,
   "metadata": {},
   "outputs": [],
   "source": [
    "for t in range(88):\n",
    "    print(coins[int(t/2)],quotes[t%2])\n",
    "    plt.plot(range(len(R)), R.T[t])\n",
    "    plt.show()"
   ]
  }
 ],
 "metadata": {
  "kernelspec": {
   "display_name": "Python 3",
   "language": "python",
   "name": "python3"
  },
  "language_info": {
   "codemirror_mode": {
    "name": "ipython",
    "version": 3
   },
   "file_extension": ".py",
   "mimetype": "text/x-python",
   "name": "python",
   "nbconvert_exporter": "python",
   "pygments_lexer": "ipython3",
   "version": "3.5.2"
  }
 },
 "nbformat": 4,
 "nbformat_minor": 2
}
