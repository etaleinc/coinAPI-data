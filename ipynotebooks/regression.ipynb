{
 "cells": [
  {
   "cell_type": "code",
   "execution_count": 1,
   "metadata": {},
   "outputs": [],
   "source": [
    "import luigi\n",
    "import pandas as pd\n",
    "import numpy as np\n",
    "import sys\n",
    "sys.path.insert(0, '/home/fbuonerba/codes/')\n",
    "from coinapi_v1 import CoinAPIv1\n",
    "import datetime\n",
    "from datetime import datetime, timedelta\n",
    "import time\n",
    "import calendar\n",
    "import json\n",
    "import urllib.request\n",
    "import multiprocessing as mp\n",
    "import sklearn\n",
    "from sklearn import linear_model\n",
    "from sklearn.metrics import mean_squared_error, r2_score"
   ]
  },
  {
   "cell_type": "code",
   "execution_count": 2,
   "metadata": {},
   "outputs": [],
   "source": [
    "#####January to April#####\n",
    "\n",
    "from mp_functions import upload_log_return\n",
    "with open('/home/fbuonerba/codes/meta_data/top_coins.txt') as ff:\n",
    "    coins=json.load(ff)\n",
    "coins=list(coins)\n",
    "####LIZA is outlier for 2 of the risk factors...####\n",
    "coins.remove('LIZA')\n",
    "quotes=['USD','BTC']\n",
    "#sysm=[str(coin)+'_'+str(quote) for coin in coins for quote in quotes]\n",
    "t=1515283200\n",
    "matrix=[]\n",
    "#matrix of daily log_returns (time, base_quote)\n",
    "while t<=1522540801:\n",
    "    ret_t=[]\n",
    "    for base in coins:\n",
    "        for quote in quotes:\n",
    "            returns=upload_log_return(t, base, quote, 86400)\n",
    "            if np.isnan(returns)==True:\n",
    "                returns=0\n",
    "            ret_t.append(returns)\n",
    "            #print(base,quote)\n",
    "    matrix.append(ret_t)\n",
    "    t+=86400\n",
    "R=np.array(matrix)\n",
    "\n",
    "factors=[]\n",
    "factor_names1=['variance_', 'strength_', 'high_low_']\n",
    "factor_names2=['turnover_', 'log_mkcap_']\n",
    "factor_names3=['coin_ratio_']\n",
    "path='/home/fbuonerba/codes/factor_loadings/'\n",
    "finpath1='_'+str(1515283200)+'_'+str(1522540800)+'_'+str(604800)+'.txt'\n",
    "finpath2='_'+str(1515283200)+'_'+str(1522540800)+'.txt'\n",
    "finpath3='.txt'\n",
    "for base in coins:\n",
    "    for quote in quotes:\n",
    "        sym=str(base)+'_'+str(quote)\n",
    "        sym_row=[]\n",
    "        for name in factor_names1:\n",
    "            with open(path+name+sym+finpath1) as file:\n",
    "                x=json.load(file)\n",
    "            sym_row.append(x)\n",
    "        for name in factor_names2:\n",
    "            with open(path+name+sym+finpath2) as file:\n",
    "                x=json.load(file)\n",
    "            sym_row.append(x)\n",
    "        for name in factor_names3:\n",
    "            #symll=sym.split('_')\n",
    "            with open(path+name+base+finpath3) as file:\n",
    "                x=json.load(file)\n",
    "            sym_row.append(x)\n",
    "        sym_row.append(1)\n",
    "        factors.append(sym_row)\n",
    "factors=np.array(factors)  \n"
   ]
  },
  {
   "cell_type": "code",
   "execution_count": 3,
   "metadata": {},
   "outputs": [
    {
     "name": "stdout",
     "output_type": "stream",
     "text": [
      "0.010712758522135874 0.24808812665660848 0.2571971858182343\n"
     ]
    }
   ],
   "source": [
    "reg = linear_model.LinearRegression()\n",
    "reg.fit(factors, R.T)\n",
    "beta_=reg.coef_\n",
    "inter_=reg.intercept_\n",
    "R_hat=np.dot(factors,beta_.T)+inter_\n",
    "print(mean_squared_error(R.T, R_hat), reg.score(factors, R.T), r2_score(R.T,R_hat))\n"
   ]
  },
  {
   "cell_type": "code",
   "execution_count": 5,
   "metadata": {},
   "outputs": [],
   "source": [
    "#####February to May#####\n",
    "\n",
    "from mp_functions import upload_log_return\n",
    "with open('/home/fbuonerba/codes/meta_data/top_coins.txt') as ff:\n",
    "    coins=json.load(ff)\n",
    "coins=list(coins)\n",
    "####LIZA is outlier for 2 of the risk factors...####\n",
    "coins.remove('LIZA')\n",
    "quotes=['USD','BTC']\n",
    "#sysm=[str(coin)+'_'+str(quote) for coin in coins for quote in quotes]\n",
    "t=1517702400\n",
    "matrix=[]\n",
    "#matrix of daily log_returns (time, base_quote)\n",
    "while t<=1525564801:\n",
    "    ret_t=[]\n",
    "    for base in coins:\n",
    "        for quote in quotes:\n",
    "            returns=upload_log_return(t, base, quote, 86400)\n",
    "            if np.isnan(returns)==True:\n",
    "                returns=0\n",
    "            ret_t.append(returns)\n",
    "            #print(base,quote)\n",
    "    matrix.append(ret_t)\n",
    "    t+=86400\n",
    "R=np.array(matrix)\n",
    "\n",
    "factors=[]\n",
    "factor_names1=['variance_', 'strength_', 'high_low_']\n",
    "factor_names2=['turnover_', 'log_mkcap_']\n",
    "factor_names3=['coin_ratio_']\n",
    "path='/home/fbuonerba/codes/factor_loadings/'\n",
    "finpath1='_'+str(1517702400)+'_'+str(1525564800)+'_'+str(604800)+'.txt'\n",
    "finpath2='_'+str(1517702400)+'_'+str(1525564800)+'.txt'\n",
    "finpath3='.txt'\n",
    "for base in coins:\n",
    "    for quote in quotes:\n",
    "        sym=str(base)+'_'+str(quote)\n",
    "        sym_row=[]\n",
    "        for name in factor_names1:\n",
    "            with open(path+name+sym+finpath1) as file:\n",
    "                x=json.load(file)\n",
    "            sym_row.append(x)\n",
    "        for name in factor_names2:\n",
    "            with open(path+name+sym+finpath2) as file:\n",
    "                x=json.load(file)\n",
    "            sym_row.append(x)\n",
    "        for name in factor_names3:\n",
    "            #symll=sym.split('_')\n",
    "            with open(path+name+base+finpath3) as file:\n",
    "                x=json.load(file)\n",
    "            sym_row.append(x)\n",
    "        sym_row.append(1)\n",
    "        factors.append(sym_row)\n",
    "factors=np.array(factors)   \n",
    "#X_with_ones = np.hstack((np.ones((factors.shape[0], 1)), factors))"
   ]
  },
  {
   "cell_type": "code",
   "execution_count": 7,
   "metadata": {},
   "outputs": [
    {
     "name": "stdout",
     "output_type": "stream",
     "text": [
      "0.16324635914651683 0.21790209793205853 0.16324635914651683\n"
     ]
    }
   ],
   "source": [
    "reg = linear_model.LinearRegression()\n",
    "reg.fit(factors, R.T)\n",
    "beta_=reg.coef_\n",
    "inter_=reg.intercept_\n",
    "#print(beta_)\n",
    "R_hat1=reg.predict(factors)\n",
    "R_hat=np.dot(factors,beta_.T)+inter_\n",
    "print(reg.score(factors,R.T),r2_score(R.T,R_hat), r2_score(R.T,R_hat1,multioutput='variance_weighted'))\n",
    "#reg.score computes the mean along axis=0\n",
    "#r2_score computes the mean over all array\n"
   ]
  },
  {
   "cell_type": "code",
   "execution_count": 43,
   "metadata": {},
   "outputs": [
    {
     "name": "stdout",
     "output_type": "stream",
     "text": [
      "(88,)\n",
      "(92,)\n",
      "0.27034767080001776 0.16324635914651675\n"
     ]
    },
    {
     "data": {
      "text/plain": [
       "0.27162467611784746"
      ]
     },
     "execution_count": 43,
     "metadata": {},
     "output_type": "execute_result"
    }
   ],
   "source": [
    "#factors must have extra column of ones for this to work.\n",
    "beta=np.linalg.lstsq(factors, R.T,rcond=None)\n",
    "gamma=beta[0]\n",
    "R_hat_np=np.dot(factors,gamma)\n",
    "residuals=np.sum( (R.T-R_hat_np)**2)\n",
    "#average returns over days, for each coin\n",
    "mean=np.mean(R, axis=0)\n",
    "print(mean.shape)\n",
    "sum_squares=np.sum((R-mean.T)**2)\n",
    "r2=1-residuals/sum_squares\n",
    "#average returns over coins, for each day.\n",
    "mean_bs=np.mean(R, axis=1)\n",
    "print(mean_bs.shape)\n",
    "sum_squares_bs=np.sum((R.T-mean_bs)**2)\n",
    "r2_bs=1-residuals/sum_squares_bs\n",
    "print(r2, r2_bs)\n",
    "#just average over days and coins\n",
    "1-residuals/np.linalg.norm(R.T-np.mean(R))**2"
   ]
  },
  {
   "cell_type": "code",
   "execution_count": null,
   "metadata": {},
   "outputs": [],
   "source": [
    "######################################################"
   ]
  },
  {
   "cell_type": "code",
   "execution_count": null,
   "metadata": {},
   "outputs": [],
   "source": [
    "#regression against each one singule time, BTC/USD\n",
    "factor_test=factors\n",
    "r=[]\n",
    "for i in range(85):\n",
    "    R_test=R[i]\n",
    "    beta_test=np.linalg.lstsq(factor_test,R_test.T, rcond=None)\n",
    "    S=np.dot(factors,beta_test[0])\n",
    "    res_test=np.linalg.norm(R_test-S)**2\n",
    "    r.append(1-res_test/np.linalg.norm(R_test)**2)\n",
    "r=np.array(r)\n",
    "print(np.max(r), np.min(r))"
   ]
  },
  {
   "cell_type": "code",
   "execution_count": null,
   "metadata": {},
   "outputs": [],
   "source": [
    "temp=R[83]\n",
    "factt=factors.T[6]\n",
    "fac=np.vstack((factt, np.ones_like(factt)))\n",
    "\n",
    "temp_beta=np.linalg.lstsq(fac.T,temp,rcond=None)\n",
    "print(temp_beta[0])\n",
    "import matplotlib.pyplot as plt\n",
    "plt.plot(factt, temp,'o')\n",
    "plt.plot(factt, temp_beta[0][0]*factt + temp_beta[0][1], 'r', label='Fitted line')\n",
    "plt.show()"
   ]
  },
  {
   "cell_type": "code",
   "execution_count": null,
   "metadata": {},
   "outputs": [],
   "source": [
    "for t in range(88):\n",
    "    print(coins[int(t/2)],quotes[t%2])\n",
    "    plt.plot(range(85), R.T[t])\n",
    "    plt.show()"
   ]
  },
  {
   "cell_type": "code",
   "execution_count": null,
   "metadata": {},
   "outputs": [],
   "source": []
  }
 ],
 "metadata": {
  "kernelspec": {
   "display_name": "Python 3",
   "language": "python",
   "name": "python3"
  },
  "language_info": {
   "codemirror_mode": {
    "name": "ipython",
    "version": 3
   },
   "file_extension": ".py",
   "mimetype": "text/x-python",
   "name": "python",
   "nbconvert_exporter": "python",
   "pygments_lexer": "ipython3",
   "version": "3.5.2"
  }
 },
 "nbformat": 4,
 "nbformat_minor": 2
}
