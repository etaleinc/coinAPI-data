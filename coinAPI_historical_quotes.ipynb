{
 "cells": [
  {
   "cell_type": "code",
   "execution_count": 1,
   "metadata": {
    "collapsed": true
   },
   "outputs": [],
   "source": [
    "#https://github.com/coinapi/coinapi-sdk/tree/master/python-rest\n",
    "\n",
    "#https://docs.coinapi.io/#rest-api"
   ]
  },
  {
   "cell_type": "code",
   "execution_count": 1,
   "metadata": {
    "collapsed": true
   },
   "outputs": [],
   "source": [
    "import pandas as pd\n",
    "import numpy as np\n",
    "from coinapi_v1 import CoinAPIv1\n",
    "import datetime\n",
    "from datetime import datetime\n",
    "import time\n",
    "from time import mktime as mktime\n",
    "import calendar\n",
    "\n",
    "test_key = 'EED0F746-36FB-4CC4-8E7C-527333DFA6FB'\n",
    "\n",
    "api = CoinAPIv1(test_key)\n",
    "\n",
    "symbols = api.metadata_list_symbols()"
   ]
  },
  {
   "cell_type": "code",
   "execution_count": 2,
   "metadata": {
    "collapsed": true
   },
   "outputs": [],
   "source": [
    "#For every hour, get everything for all platforms and pairs.\n",
    "#Need a double loop on time and symbols.\n",
    "#Every call downloads a bunch of high frequency data. \n",
    "#It is not clear how to manually set the frequency...\n",
    "#Simple solution is: just set the limit to 1 (default=100), so no frequency at all.\n",
    "#Whatever Time is, if it small enough it will be read by coinAPI as some day in 2014.\n",
    "#For coinAPI, time_start is understood in UTC time (as specified in API)"
   ]
  },
  {
   "cell_type": "code",
   "execution_count": 3,
   "metadata": {
    "collapsed": true
   },
   "outputs": [],
   "source": [
    "####Some junk about python time####\n",
    "#possible_pattern = '%Y%m%dT%H:%M:%S.%fZ'\n",
    "#pattern='%Y-%m-%dT%H:%M:%S'\n",
    "#utc_time= utc time in pattern, e.g. '2016-01-01T00:00:00'\n",
    "#unix_time= unix time since epoch, e.g. '1451606400'\n",
    "#Commands to switch between one another:\n",
    "#unix_time = calendar.timegm(time.strptime(utc_time,pattern))\n",
    "#utc_time=datetime.utcfromtimestamp(unix_time).strftime('%Y-%m-%dT%H:%M:%S')\n",
    "    "
   ]
  },
  {
   "cell_type": "code",
   "execution_count": 24,
   "metadata": {},
   "outputs": [],
   "source": [
    "#Inputs: a unix_time; a symbol, from coinAPI symbols.\n",
    "#Output: a pandas dataframe with historical quotes for a given time and symbol.\n",
    "\n",
    "def make_dataframe(unix_time, symbol):\n",
    "    #Convert unix_time in utc with format '%Y-%m-%dT%H:%M:%S'\n",
    "    utctime = datetime.utcfromtimestamp(unix_time).strftime('%Y-%m-%dT%H:%M:%S')\n",
    "    quotes_historical_data=api.quotes_historical_data(symbol['symbol_id'],{'time_start': utctime , 'limit':1})\n",
    "    if quotes_historical_data==[]:\n",
    "        df=pd.DataFrame()\n",
    "    else:    \n",
    "    \n",
    "        df=pd.DataFrame(data=quotes_historical_data)\n",
    "        #drop and add new columns.\n",
    "        df=df.drop(['time_coinapi'], axis=1)\n",
    "        df=df.drop(['symbol_id'], axis=1)\n",
    "        df['unix_time']=unix_time\n",
    "        df['human_time']=utctime\n",
    "        df['asset_base']=symbol['asset_id_base']\n",
    "        df['asset_quote']=symbol['asset_id_quote']\n",
    "        df['exchange_id']=symbol['exchange_id']\n",
    "        df['type']=symbol['symbol_type']\n",
    "        Coherence=[]\n",
    "        if df['ask_price'][0]>df['bid_price'][0]: \n",
    "            Coherence.append('')\n",
    "        else:\n",
    "            Coherence.append('X')\n",
    "        df['actual_time_exchange']=df['time_exchange']\n",
    "        df=df.drop(['time_exchange'],axis=1)\n",
    "        df['crossed_market']=Coherence\n",
    "        #move columns around.\n",
    "        col=df.columns\n",
    "        col1=col[4:6].append(col[0:4]).append(col[6:])\n",
    "        df=df[col1]\n",
    "    \n",
    "    return(df)"
   ]
  },
  {
   "cell_type": "code",
   "execution_count": 20,
   "metadata": {
    "collapsed": true
   },
   "outputs": [],
   "source": [
    "def symbol_merge(unix_time):\n",
    "    #Given a time, for every symbol request quotes for that symbol at given time.\n",
    "    #Then merge data in a unique dataframe that contains all the info for that time.\n",
    "    \n",
    "    df = pd.DataFrame()\n",
    "    for symbol in symbols:\n",
    "        df_temp=make_dataframe(unix_time, symbol)\n",
    "        df = pd.concat([df, df_temp])\n",
    "        \n",
    "    return(df)\n",
    "        "
   ]
  },
  {
   "cell_type": "code",
   "execution_count": null,
   "metadata": {
    "collapsed": true
   },
   "outputs": [],
   "source": [
    "def time_merge(unix_time):\n",
    "    #Given a time, for every minute in the next day call symbol_merge.\n",
    "    #Merge data in a unique dataframe. There are 86400 seconds in a day, 1440 minutes.\n",
    "    df=pd.DataFrame()\n",
    "    for t in range(1440):\n",
    "        df_temp=symbol_merge(unix_time + 60*t)\n",
    "        df=pd.concat([df,df_temp])\n",
    "        \n",
    "    return(df)    "
   ]
  },
  {
   "cell_type": "code",
   "execution_count": null,
   "metadata": {
    "collapsed": true
   },
   "outputs": [],
   "source": [
    "def make_daily_dataframe(unix_time):\n",
    "    df=time_merge(unix_time)\n",
    "    df.to_csv('quotes_'+str(unix_time)+'.csv', index=False)\n",
    "    "
   ]
  },
  {
   "cell_type": "code",
   "execution_count": null,
   "metadata": {
    "collapsed": true
   },
   "outputs": [],
   "source": [
    "#Only left to loop over days."
   ]
  }
 ],
 "metadata": {
  "kernelspec": {
   "display_name": "Python 3",
   "language": "python",
   "name": "python3"
  },
  "language_info": {
   "codemirror_mode": {
    "name": "ipython",
    "version": 3
   },
   "file_extension": ".py",
   "mimetype": "text/x-python",
   "name": "python",
   "nbconvert_exporter": "python",
   "pygments_lexer": "ipython3",
   "version": "3.6.3"
  }
 },
 "nbformat": 4,
 "nbformat_minor": 2
}
