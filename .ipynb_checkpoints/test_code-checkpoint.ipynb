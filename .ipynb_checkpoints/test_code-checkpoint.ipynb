{
 "cells": [
  {
   "cell_type": "code",
   "execution_count": null,
   "metadata": {
    "collapsed": true
   },
   "outputs": [],
   "source": [
    "import sys\n",
    "sys.path.insert(0, '/Users/federicobuonerba/Downloads')\n",
    "\n",
    "#import test_functions\n",
    "from data_try_except import get_symbols, get_assets, get_exchange_rates, until_midnight"
   ]
  },
  {
   "cell_type": "code",
   "execution_count": null,
   "metadata": {},
   "outputs": [],
   "source": [
    "unix_time= 1451606400\n",
    "assets=get_assets()\n",
    "#get_exchange_rates(unix_time, 'BTC', 'USD')"
   ]
  },
  {
   "cell_type": "code",
   "execution_count": null,
   "metadata": {},
   "outputs": [],
   "source": [
    "#Pseudocode.\n",
    "#Loop to donwload data: keep downloading until there is an error.\n",
    "#Hopefully the error is: exhausted daily requests. Then pause until midnight.\n",
    "#Will add more if extra errors show up.\n",
    "while True:\n",
    "    try:\n",
    "        get_exchange_rates(unix_time, asset_pair)\n",
    "    except:\n",
    "        time.pause(until_midnight)"
   ]
  },
  {
   "cell_type": "code",
   "execution_count": null,
   "metadata": {
    "collapsed": true
   },
   "outputs": [],
   "source": []
  }
 ],
 "metadata": {
  "kernelspec": {
   "display_name": "Python 3",
   "language": "python",
   "name": "python3"
  },
  "language_info": {
   "codemirror_mode": {
    "name": "ipython",
    "version": 3
   },
   "file_extension": ".py",
   "mimetype": "text/x-python",
   "name": "python",
   "nbconvert_exporter": "python",
   "pygments_lexer": "ipython3",
   "version": "3.6.3"
  }
 },
 "nbformat": 4,
 "nbformat_minor": 2
}
