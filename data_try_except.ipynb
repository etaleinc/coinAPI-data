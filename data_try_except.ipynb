{
 "cells": [
  {
   "cell_type": "code",
   "execution_count": 13,
   "metadata": {
    "collapsed": true
   },
   "outputs": [],
   "source": [
    "import pandas as pd\n",
    "import numpy as np\n",
    "from coinapi_v1 import CoinAPIv1\n",
    "import datetime\n",
    "from datetime import datetime, timedelta\n",
    "import time\n",
    "from time import mktime as mktime\n",
    "import calendar\n",
    "import json\n",
    "import urllib.request\n",
    "\n",
    "\n",
    "test_key = 'EED0F746-36FB-4CC4-8E7C-527333DFA6FB'\n",
    "\n",
    "api = CoinAPIv1(test_key)\n"
   ]
  },
  {
   "cell_type": "code",
   "execution_count": 14,
   "metadata": {
    "collapsed": true
   },
   "outputs": [],
   "source": [
    "#this function computes how many seconds from now till midnight.\n",
    "#the correction is due to the fact that some times are not utc by default.\n",
    "#This can be checked transforming output into utc time.\n",
    "def until_midnight():\n",
    "    tomorrow = datetime.now() + timedelta(1)\n",
    "    midnight = datetime(year=tomorrow.year, month=tomorrow.month, \n",
    "                        day=tomorrow.day, hour=0, minute=0, second=0)\n",
    "    wrong_number=(midnight - datetime.now()).seconds\n",
    "    return (wrong_number - 14399)"
   ]
  },
  {
   "cell_type": "code",
   "execution_count": 15,
   "metadata": {
    "collapsed": true
   },
   "outputs": [],
   "source": [
    "#Check whether list of assets is already available.\n",
    "#If not, download it.\n",
    "def get_assets():\n",
    "    try:\n",
    "        with open('assets.txt') as json_file:  \n",
    "            assets= json.load(json_file)\n",
    "    except:\n",
    "        assets = api.metadata_list_assets()\n",
    "        with open('assets.txt', 'w') as outfile:  \n",
    "            json.dump(assets, outfile)  \n",
    "    return(assets)"
   ]
  },
  {
   "cell_type": "code",
   "execution_count": 16,
   "metadata": {
    "collapsed": true
   },
   "outputs": [],
   "source": [
    "#Check whether list of symbols is already available.\n",
    "#If not, download it.\n",
    "def get_symbols():\n",
    "    try:\n",
    "        with open('symbols.txt') as json_file:  \n",
    "            symbols = json.load(json_file)\n",
    "    except:\n",
    "        symbols = api.metadata_list_symbols()\n",
    "        with open('symbols.txt', 'w') as outfile:  \n",
    "            json.dump(symbols, outfile)  \n",
    "    return(symbols)"
   ]
  },
  {
   "cell_type": "code",
   "execution_count": 17,
   "metadata": {
    "collapsed": true
   },
   "outputs": [],
   "source": [
    "#this function sends a request to the coinAPI server.\n",
    "#If an error returns, it pauses until midnight to send \n",
    "#one more request (daily limit is hit).\n",
    "#which = trades or quotes.\n",
    "def request_exchange_rates(unix_time, base, quote):\n",
    "    utctime = datetime.utcfromtimestamp(unix_time).strftime('%Y-%m-%dT%H:%M:%S')\n",
    "    while True:\n",
    "        try:\n",
    "            exchange=api.exchange_rates_get_specific_rate(base, quote, {'time': utctime})\n",
    "        except urllib.error.HTTPError:\n",
    "            time.sleep(until_midnight())\n",
    "    return(exchange)"
   ]
  },
  {
   "cell_type": "code",
   "execution_count": 20,
   "metadata": {
    "collapsed": true
   },
   "outputs": [],
   "source": [
    "#This function checks whether exchange rates have already been downloaded.\n",
    "#If not, it downloads it.\n",
    "def get_exchange_rates(unix_time, base, quote):\n",
    "    path='/Users/federicobuonerba/Documents/Etale/etale_data/exchange_rates_data/'\n",
    "    utctime = datetime.utcfromtimestamp(unix_time).strftime('%Y-%m-%dT%H:%M:%S')\n",
    "    try:\n",
    "        with open(path+'exchange_rate_'+str(base)+'_'+str(quote)+'_'+str(unix_time)+'.txt') as json_file:  \n",
    "            exchange = json.load(json_file)   \n",
    "    except:\n",
    "        #print('downloading...')\n",
    "        exchange=api.exchange_rates_get_specific_rate(base, quote, {'time': utctime})\n",
    "        with open(path+'exchange_rate_'+str(base)+'_'+str(quote)+'_'+str(unix_time)+'.txt', 'w') as outfile:  \n",
    "            json.dump(exchange, outfile)    \n",
    "    return(exchange)  "
   ]
  },
  {
   "cell_type": "code",
   "execution_count": 19,
   "metadata": {
    "collapsed": true
   },
   "outputs": [],
   "source": [
    "#this function sends a request to the coinAPI server.\n",
    "#If an error returns, it pauses until midnight to send \n",
    "#one more request (daily limit is hit).\n",
    "#which = trades or quotes.\n",
    "def request_trades(unix_time, symbol):\n",
    "    utctime = datetime.utcfromtimestamp(unix_time).strftime('%Y-%m-%dT%H:%M:%S')\n",
    "    while True:\n",
    "        try:\n",
    "            trades_historical_data=api.trades_historical_data(symbol['symbol_id'],{'time_start': utctime , 'limit':1})\n",
    "            break\n",
    "        except urllib.error.HTTPError:\n",
    "            time.sleep(until_midnight())\n",
    "    return(trades_historical_data)"
   ]
  },
  {
   "cell_type": "code",
   "execution_count": 9,
   "metadata": {
    "collapsed": true
   },
   "outputs": [],
   "source": [
    "#This function checks whether certain data has already been downloaded.\n",
    "#If not, download it using the previous request function.\n",
    "\n",
    "def get_trades(unix_time, symbol):\n",
    "    \n",
    "    utctime = datetime.utcfromtimestamp(unix_time).strftime('%Y-%m-%dT%H:%M:%S')\n",
    "    ######path='Users/federicobuonerba/Documents/Etale/etale_data/trades_data'\n",
    "    try:\n",
    "        with open('trades_historical_data_'+str(unix_time)+'.txt', 'r') as json_file:  \n",
    "            trades_historical_data = json.load(json_file)   \n",
    "    except:\n",
    "        #print('downloading...')\n",
    "        trades_historical_data=request_trades(unix_time, symbol)\n",
    "        with open('trades_historical_data_'+str(unix_time)+'.txt', 'w') as outfile:  \n",
    "                json.dump(trades_historical_data, outfile)\n",
    "    return(trades_historical_data)  "
   ]
  },
  {
   "cell_type": "code",
   "execution_count": 4,
   "metadata": {
    "collapsed": true
   },
   "outputs": [],
   "source": [
    "def make_df(unix_time, symbol):\n",
    "    \n",
    "    utctime = datetime.utcfromtimestamp(unix_time).strftime('%Y-%m-%dT%H:%M:%S')\n",
    "    trades_historical_data = get_trades(unix_time, symbol)\n",
    "    if trades_historical_data==[]:\n",
    "        df=pd.DataFrame()\n",
    "    else:   \n",
    "        df=pd.DataFrame(data=trades_historical_data)\n",
    "        df=df.drop(['time_coinapi'], axis=1)\n",
    "        df=df.drop(['symbol_id'], axis=1)\n",
    "        df['unix_time']=unix_time\n",
    "        df['human_time']=utctime\n",
    "        df['asset_base']=symbol['asset_id_base']\n",
    "        df['asset_quote']=symbol['asset_id_quote']\n",
    "        df['exchange_id']=symbol['exchange_id']\n",
    "        df['type']=symbol['symbol_type']\n",
    "        df['actual_time_exchange']=df['time_exchange']\n",
    "        df=df.drop(['time_exchange'],axis=1)\n",
    "        col=df.columns\n",
    "        col1=col[4:6].append(col[0:4]).append(col[6:])\n",
    "        df=df[col1]\n",
    "    \n",
    "    return(df)"
   ]
  },
  {
   "cell_type": "code",
   "execution_count": 5,
   "metadata": {},
   "outputs": [
    {
     "data": {
      "text/html": [
       "<div>\n",
       "<style>\n",
       "    .dataframe thead tr:only-child th {\n",
       "        text-align: right;\n",
       "    }\n",
       "\n",
       "    .dataframe thead th {\n",
       "        text-align: left;\n",
       "    }\n",
       "\n",
       "    .dataframe tbody tr th {\n",
       "        vertical-align: top;\n",
       "    }\n",
       "</style>\n",
       "<table border=\"1\" class=\"dataframe\">\n",
       "  <thead>\n",
       "    <tr style=\"text-align: right;\">\n",
       "      <th></th>\n",
       "      <th>unix_time</th>\n",
       "      <th>human_time</th>\n",
       "      <th>price</th>\n",
       "      <th>size</th>\n",
       "      <th>taker_side</th>\n",
       "      <th>uuid</th>\n",
       "      <th>asset_base</th>\n",
       "      <th>asset_quote</th>\n",
       "      <th>exchange_id</th>\n",
       "      <th>type</th>\n",
       "      <th>actual_time_exchange</th>\n",
       "    </tr>\n",
       "  </thead>\n",
       "  <tbody>\n",
       "    <tr>\n",
       "      <th>0</th>\n",
       "      <td>1451606400</td>\n",
       "      <td>2016-01-01T00:00:00</td>\n",
       "      <td>0.041513</td>\n",
       "      <td>2.419</td>\n",
       "      <td>BUY</td>\n",
       "      <td>a1205a9c-9388-4898-af89-8b8d1e47cd75</td>\n",
       "      <td>ETH</td>\n",
       "      <td>BTC</td>\n",
       "      <td>BINANCE</td>\n",
       "      <td>SPOT</td>\n",
       "      <td>2017-12-18T20:54:34.1660000Z</td>\n",
       "    </tr>\n",
       "  </tbody>\n",
       "</table>\n",
       "</div>"
      ],
      "text/plain": [
       "    unix_time           human_time     price   size taker_side  \\\n",
       "0  1451606400  2016-01-01T00:00:00  0.041513  2.419        BUY   \n",
       "\n",
       "                                   uuid asset_base asset_quote exchange_id  \\\n",
       "0  a1205a9c-9388-4898-af89-8b8d1e47cd75        ETH         BTC     BINANCE   \n",
       "\n",
       "   type          actual_time_exchange  \n",
       "0  SPOT  2017-12-18T20:54:34.1660000Z  "
      ]
     },
     "execution_count": 5,
     "metadata": {},
     "output_type": "execute_result"
    }
   ],
   "source": [
    "#####Example#####\n",
    "symbols=get_symbols()\n",
    "unix_time= 1451606400\n",
    "make_df(unix_time, symbols[8])"
   ]
  },
  {
   "cell_type": "code",
   "execution_count": 6,
   "metadata": {
    "collapsed": true
   },
   "outputs": [],
   "source": [
    "#this function loops make_df over all possible symbols\n",
    "def get_data_symbols(unix_time):\n",
    "    df = pd.DataFrame()\n",
    "    for symbol in symbols:\n",
    "        df_new=make_df(unix_time, symbol)\n",
    "        df=pd.concat([df, df_new])\n",
    "    return(df)"
   ]
  },
  {
   "cell_type": "code",
   "execution_count": null,
   "metadata": {
    "collapsed": true
   },
   "outputs": [],
   "source": [
    "#this function loops get_data_symbols for the day starting at unix_time,\n",
    "#sampled every hour. There are 1440 minutes in a day.\n",
    "def get_hourly_data_day(unix_time, interval):\n",
    "    df=pd.DataFrame()\n",
    "    for t in range(24):\n",
    "        df_new=get_data_symbols(unix_time + 3600*t)\n",
    "        df=pd.concat([df, df_new])\n",
    "    return(df)    \n",
    "        "
   ]
  },
  {
   "cell_type": "code",
   "execution_count": 7,
   "metadata": {
    "collapsed": true
   },
   "outputs": [],
   "source": [
    "#this function loops get_data_symbols for the day starting at unix_time,\n",
    "#sampled every minute. There are 1440 minutes in a day.\n",
    "def get_minutely_data_day(unix_time, interval):\n",
    "    df=pd.DataFrame()\n",
    "    for t in range(1440):\n",
    "        df_new=get_data_symbols(unix_time + 60*t)\n",
    "        df=pd.concat([df, df_new])\n",
    "    return(df)    \n",
    "        \n",
    "    "
   ]
  },
  {
   "cell_type": "code",
   "execution_count": 31,
   "metadata": {
    "collapsed": true
   },
   "outputs": [],
   "source": [
    "#this function creates a csv of the daily dataframe constructed with get_data_time\n",
    "def create_csv(unix_time):\n",
    "    df=get_daily_data(unix_time)\n",
    "    df.to_csv('trades_historical_data_'+str(unix_time)+'.csv', index=False)"
   ]
  },
  {
   "cell_type": "code",
   "execution_count": null,
   "metadata": {
    "collapsed": true
   },
   "outputs": [],
   "source": []
  }
 ],
 "metadata": {
  "kernelspec": {
   "display_name": "Python 3",
   "language": "python",
   "name": "python3"
  },
  "language_info": {
   "codemirror_mode": {
    "name": "ipython",
    "version": 3
   },
   "file_extension": ".py",
   "mimetype": "text/x-python",
   "name": "python",
   "nbconvert_exporter": "python",
   "pygments_lexer": "ipython3",
   "version": "3.6.3"
  }
 },
 "nbformat": 4,
 "nbformat_minor": 2
}
